{
 "cells": [
  {
   "cell_type": "markdown",
   "id": "8998f210",
   "metadata": {},
   "source": [
    "Reference: https://melaniewalsh.github.io/Intro-Cultural-Analytics/04-Data-Collection/14-Reddit-Data.html\n",
    "\n",
    "Sentiment Analysis: https://www.red-gate.com/simple-talk/development/data-science-development/sentiment-analysis-python/"
   ]
  },
  {
   "cell_type": "code",
   "execution_count": 1,
   "id": "6344d998",
   "metadata": {},
   "outputs": [
    {
     "name": "stdout",
     "output_type": "stream",
     "text": [
      "Requirement already satisfied: psaw in /Users/katiegarrett/opt/anaconda3/lib/python3.9/site-packages (0.1.0)\n",
      "Requirement already satisfied: requests in /Users/katiegarrett/opt/anaconda3/lib/python3.9/site-packages (from psaw) (2.26.0)\n",
      "Requirement already satisfied: Click in /Users/katiegarrett/opt/anaconda3/lib/python3.9/site-packages (from psaw) (8.0.3)\n",
      "Requirement already satisfied: urllib3<1.27,>=1.21.1 in /Users/katiegarrett/opt/anaconda3/lib/python3.9/site-packages (from requests->psaw) (1.26.7)\n",
      "Requirement already satisfied: certifi>=2017.4.17 in /Users/katiegarrett/opt/anaconda3/lib/python3.9/site-packages (from requests->psaw) (2021.10.8)\n",
      "Requirement already satisfied: charset-normalizer~=2.0.0 in /Users/katiegarrett/opt/anaconda3/lib/python3.9/site-packages (from requests->psaw) (2.0.4)\n",
      "Requirement already satisfied: idna<4,>=2.5 in /Users/katiegarrett/opt/anaconda3/lib/python3.9/site-packages (from requests->psaw) (3.2)\n",
      "Requirement already satisfied: pmaw in /Users/katiegarrett/opt/anaconda3/lib/python3.9/site-packages (2.1.3)\n",
      "Requirement already satisfied: requests in /Users/katiegarrett/opt/anaconda3/lib/python3.9/site-packages (from pmaw) (2.26.0)\n",
      "Requirement already satisfied: praw in /Users/katiegarrett/opt/anaconda3/lib/python3.9/site-packages (from pmaw) (7.6.0)\n",
      "Requirement already satisfied: websocket-client>=0.54.0 in /Users/katiegarrett/opt/anaconda3/lib/python3.9/site-packages (from praw->pmaw) (1.3.2)\n",
      "Requirement already satisfied: prawcore<3,>=2.1 in /Users/katiegarrett/opt/anaconda3/lib/python3.9/site-packages (from praw->pmaw) (2.3.0)\n",
      "Requirement already satisfied: update-checker>=0.18 in /Users/katiegarrett/opt/anaconda3/lib/python3.9/site-packages (from praw->pmaw) (0.18.0)\n",
      "Requirement already satisfied: idna<4,>=2.5 in /Users/katiegarrett/opt/anaconda3/lib/python3.9/site-packages (from requests->pmaw) (3.2)\n",
      "Requirement already satisfied: certifi>=2017.4.17 in /Users/katiegarrett/opt/anaconda3/lib/python3.9/site-packages (from requests->pmaw) (2021.10.8)\n",
      "Requirement already satisfied: urllib3<1.27,>=1.21.1 in /Users/katiegarrett/opt/anaconda3/lib/python3.9/site-packages (from requests->pmaw) (1.26.7)\n",
      "Requirement already satisfied: charset-normalizer~=2.0.0 in /Users/katiegarrett/opt/anaconda3/lib/python3.9/site-packages (from requests->pmaw) (2.0.4)\n"
     ]
    }
   ],
   "source": [
    "!pip install psaw\n",
    "!pip install pmaw"
   ]
  },
  {
   "cell_type": "code",
   "execution_count": 2,
   "id": "6810632a",
   "metadata": {},
   "outputs": [],
   "source": [
    "import pandas as pd\n",
    "pd.set_option('max_colwidth', 500)\n",
    "pd.set_option('max_columns', 50)"
   ]
  },
  {
   "cell_type": "code",
   "execution_count": 3,
   "id": "c2af5ac1",
   "metadata": {},
   "outputs": [],
   "source": [
    "from psaw import PushshiftAPI\n",
    "\n",
    "api = PushshiftAPI()"
   ]
  },
  {
   "cell_type": "markdown",
   "id": "4c6c729c",
   "metadata": {},
   "source": [
    "# 2008"
   ]
  },
  {
   "cell_type": "markdown",
   "id": "ddc29683",
   "metadata": {},
   "source": [
    "api_request_generator_2008 = api.search_submissions(subreddit='Teachers',\n",
    "                                               sort_type = \"score\",\n",
    "                                               after = '1199145600',\n",
    "                                               before = '1230681600',\n",
    "                                               sort = 'desc',\n",
    "                                               limit = 1000)"
   ]
  },
  {
   "cell_type": "markdown",
   "id": "a0e448ef",
   "metadata": {},
   "source": [
    "top_2008 = pd.DataFrame([submission.d_ for submission in api_request_generator_2008])\n"
   ]
  },
  {
   "cell_type": "markdown",
   "id": "75b41336",
   "metadata": {},
   "source": [
    "top_2008.shape"
   ]
  },
  {
   "cell_type": "markdown",
   "id": "a8d5d311",
   "metadata": {},
   "source": [
    "top_2008.columns"
   ]
  },
  {
   "cell_type": "markdown",
   "id": "91aee2e3",
   "metadata": {},
   "source": [
    "top_2008['date'] = pd.to_datetime(top_2008['created_utc'], utc=True, unit='s')\n",
    "\n"
   ]
  },
  {
   "cell_type": "markdown",
   "id": "4e1fe270",
   "metadata": {},
   "source": [
    "top_2008[['author', 'date', 'title', 'selftext', 'subreddit', 'score', 'num_comments']]\n"
   ]
  },
  {
   "cell_type": "markdown",
   "id": "a167d1d3",
   "metadata": {},
   "source": [
    "# 2009"
   ]
  },
  {
   "cell_type": "markdown",
   "id": "6bf789e8",
   "metadata": {},
   "source": [
    "api_request_generator_2009 = api.search_submissions(subreddit='Teachers',\n",
    "                                               sort_type = \"score\",\n",
    "                                               after = '1230768000',\n",
    "                                               before = '1262217600',\n",
    "                                               sort = 'desc',\n",
    "                                               limit = 1000)"
   ]
  },
  {
   "cell_type": "markdown",
   "id": "d8e1dea5",
   "metadata": {},
   "source": [
    "top_2009 = pd.DataFrame([submission.d_ for submission in api_request_generator_2009])\n"
   ]
  },
  {
   "cell_type": "markdown",
   "id": "4beb2738",
   "metadata": {},
   "source": [
    "top_2009.shape"
   ]
  },
  {
   "cell_type": "markdown",
   "id": "0555f414",
   "metadata": {},
   "source": [
    "top_2009['date'] = pd.to_datetime(top_2009['created_utc'], utc=True, unit='s')\n"
   ]
  },
  {
   "cell_type": "markdown",
   "id": "f4c5cb52",
   "metadata": {},
   "source": [
    "top_2009[['author', 'date', 'title', 'selftext', 'subreddit', 'score', 'num_comments']]\n"
   ]
  },
  {
   "cell_type": "markdown",
   "id": "d27e906d",
   "metadata": {},
   "source": [
    "# 2010"
   ]
  },
  {
   "cell_type": "markdown",
   "id": "51cade7a",
   "metadata": {},
   "source": [
    "api_request_generator_2010 = api.search_submissions(subreddit='Teachers',\n",
    "                                               sort_type = 'score',\n",
    "                                               sort = 'desc',\n",
    "                                               after = '1262304000',\n",
    "                                               before = '1293753600',\n",
    "                                               limit = 1000)"
   ]
  },
  {
   "cell_type": "markdown",
   "id": "83bfc900",
   "metadata": {},
   "source": [
    "top_2010 = pd.DataFrame([submission.d_ for submission in api_request_generator_2010])\n"
   ]
  },
  {
   "cell_type": "markdown",
   "id": "601368f8",
   "metadata": {},
   "source": [
    "top_2010.shape"
   ]
  },
  {
   "cell_type": "markdown",
   "id": "c4c06936",
   "metadata": {},
   "source": [
    "top_2010['date'] = pd.to_datetime(top_2010['created_utc'], utc=True, unit='s')\n"
   ]
  },
  {
   "cell_type": "markdown",
   "id": "b3164d1b",
   "metadata": {},
   "source": [
    "top_2010[['author', 'date', 'title', 'selftext', 'subreddit', 'score', 'num_comments']]\n"
   ]
  },
  {
   "cell_type": "markdown",
   "id": "a982e127",
   "metadata": {},
   "source": [
    "# 2011"
   ]
  },
  {
   "cell_type": "markdown",
   "id": "c08e20f4",
   "metadata": {},
   "source": [
    "api_request_generator_2011 = api.search_submissions(subreddit='Teachers',\n",
    "                                               sort_type = 'score',\n",
    "                                               sort = 'desc',\n",
    "                                               after = '1293840000',\n",
    "                                               before = '1325289600',\n",
    "                                               limit = 1000)"
   ]
  },
  {
   "cell_type": "markdown",
   "id": "168ca54d",
   "metadata": {},
   "source": [
    "top_2011 = pd.DataFrame([submission.d_ for submission in api_request_generator_2011])\n"
   ]
  },
  {
   "cell_type": "markdown",
   "id": "7f0a803f",
   "metadata": {},
   "source": [
    "top_2011.shape"
   ]
  },
  {
   "cell_type": "markdown",
   "id": "5f2507ef",
   "metadata": {},
   "source": [
    "top_2011['date'] = pd.to_datetime(top_2011['created_utc'], utc=True, unit='s')\n"
   ]
  },
  {
   "cell_type": "markdown",
   "id": "ce31dfb6",
   "metadata": {},
   "source": [
    "top_2011[['author', 'date', 'title', 'selftext', 'subreddit', 'score', 'num_comments']]\n"
   ]
  },
  {
   "cell_type": "markdown",
   "id": "5cc606b8",
   "metadata": {},
   "source": [
    "api.metadata_.get('shards')\n",
    "print(api)"
   ]
  },
  {
   "cell_type": "markdown",
   "id": "3aae607e",
   "metadata": {},
   "source": [
    "# 2012"
   ]
  },
  {
   "cell_type": "markdown",
   "id": "3a40fc97",
   "metadata": {},
   "source": [
    "api_request_generator_2012 = api.search_submissions(subreddit='Teachers',\n",
    "                                               after = '1325376000',\n",
    "                                               before = '1356912000',\n",
    "                                               sort_type = 'score',\n",
    "                                               sort = 'desc',\n",
    "                                               limit = 1000,\n",
    "                                               metadata = True)"
   ]
  },
  {
   "cell_type": "markdown",
   "id": "26270de5",
   "metadata": {
    "scrolled": true
   },
   "source": [
    "top_2012 = pd.DataFrame([submission.d_ for submission in api_request_generator_2012])\n"
   ]
  },
  {
   "cell_type": "markdown",
   "id": "e3b8e52a",
   "metadata": {},
   "source": [
    "top_2012.shape"
   ]
  },
  {
   "cell_type": "markdown",
   "id": "39c10848",
   "metadata": {},
   "source": [
    "top_2012['date'] = pd.to_datetime(top_2012['created_utc'], utc=True, unit='s')\n"
   ]
  },
  {
   "cell_type": "markdown",
   "id": "362372b8",
   "metadata": {},
   "source": [
    "top_2012[['author', 'date', 'title', 'selftext', 'subreddit', 'score', 'num_comments']]\n"
   ]
  },
  {
   "cell_type": "markdown",
   "id": "68846c48",
   "metadata": {},
   "source": [
    "# 2013"
   ]
  },
  {
   "cell_type": "markdown",
   "id": "834931cf",
   "metadata": {},
   "source": [
    "api_request_generator_2013 = api.search_submissions(subreddit='Teachers',\n",
    "                                               after = '1357020000',\n",
    "                                               before = '1388556000',\n",
    "                                               sort_type = 'score',\n",
    "                                               sort = 'desc',\n",
    "                                               limit = 1000,\n",
    "                                               metadata = True)"
   ]
  },
  {
   "cell_type": "markdown",
   "id": "d5184dba",
   "metadata": {},
   "source": [
    "api_request_generator_2013 = api.search_submissions(subreddit='Teachers',\n",
    "                                               sort_type = 'score',\n",
    "                                               sort = 'desc',\n",
    "                                               after = '1357020000',\n",
    "                                               before = '1388556000')"
   ]
  },
  {
   "cell_type": "markdown",
   "id": "e3161135",
   "metadata": {},
   "source": [
    "top_2013 = pd.DataFrame([submission.d_ for submission in api_request_generator_2013])\n"
   ]
  },
  {
   "cell_type": "markdown",
   "id": "75510387",
   "metadata": {},
   "source": [
    "top_2013.shape"
   ]
  },
  {
   "cell_type": "markdown",
   "id": "64243b20",
   "metadata": {},
   "source": [
    "top_2013['date'] = pd.to_datetime(top_2013['created_utc'], utc=True, unit='s')\n"
   ]
  },
  {
   "cell_type": "markdown",
   "id": "a60d1327",
   "metadata": {},
   "source": [
    "top_2013[['author', 'date', 'title', 'selftext', 'subreddit', 'score', 'num_comments']]\n"
   ]
  },
  {
   "cell_type": "markdown",
   "id": "9d474285",
   "metadata": {},
   "source": [
    "# 2014"
   ]
  },
  {
   "cell_type": "code",
   "execution_count": 4,
   "id": "7b022e5f",
   "metadata": {},
   "outputs": [],
   "source": [
    "api_request_generator_2014 = api.search_submissions(subreddit='Teachers',\n",
    "                                               sort_type = 'score',\n",
    "                                               sort = 'desc',\n",
    "                                               after = '1388534400',\n",
    "                                               before = '1419984000',\n",
    "                                               limit = 1000)"
   ]
  },
  {
   "cell_type": "markdown",
   "id": "aabf3b1c",
   "metadata": {},
   "source": [
    "api_request_generator_2014 = api.search_submissions(subreddit='Teachers',\n",
    "                                               sort_type = 'score',\n",
    "                                               sort = 'desc',\n",
    "                                               after = '1388534400',\n",
    "                                               before = '1419984000',\n",
    "                                               metadata = True,\n",
    "                                               limit = 1000)"
   ]
  },
  {
   "cell_type": "code",
   "execution_count": 5,
   "id": "83898834",
   "metadata": {},
   "outputs": [
    {
     "name": "stderr",
     "output_type": "stream",
     "text": [
      "/Users/katiegarrett/opt/anaconda3/lib/python3.9/site-packages/psaw/PushshiftAPI.py:252: UserWarning: Not all PushShift shards are active. Query results may be incomplete\n",
      "  warnings.warn(shards_down_message)\n"
     ]
    }
   ],
   "source": [
    "top_2014 = pd.DataFrame([submission.d_ for submission in api_request_generator_2014])\n"
   ]
  },
  {
   "cell_type": "code",
   "execution_count": 6,
   "id": "3a932d1c",
   "metadata": {},
   "outputs": [
    {
     "data": {
      "text/plain": [
       "(601, 29)"
      ]
     },
     "execution_count": 6,
     "metadata": {},
     "output_type": "execute_result"
    }
   ],
   "source": [
    "top_2014.shape"
   ]
  },
  {
   "cell_type": "code",
   "execution_count": 7,
   "id": "9f0900db",
   "metadata": {},
   "outputs": [],
   "source": [
    "top_2014['date'] = pd.to_datetime(top_2014['created_utc'], utc=True, unit='s')\n"
   ]
  },
  {
   "cell_type": "code",
   "execution_count": 8,
   "id": "735890e3",
   "metadata": {},
   "outputs": [
    {
     "data": {
      "text/html": [
       "<div>\n",
       "<style scoped>\n",
       "    .dataframe tbody tr th:only-of-type {\n",
       "        vertical-align: middle;\n",
       "    }\n",
       "\n",
       "    .dataframe tbody tr th {\n",
       "        vertical-align: top;\n",
       "    }\n",
       "\n",
       "    .dataframe thead th {\n",
       "        text-align: right;\n",
       "    }\n",
       "</style>\n",
       "<table border=\"1\" class=\"dataframe\">\n",
       "  <thead>\n",
       "    <tr style=\"text-align: right;\">\n",
       "      <th></th>\n",
       "      <th>author</th>\n",
       "      <th>date</th>\n",
       "      <th>title</th>\n",
       "      <th>selftext</th>\n",
       "      <th>subreddit</th>\n",
       "      <th>score</th>\n",
       "      <th>num_comments</th>\n",
       "    </tr>\n",
       "  </thead>\n",
       "  <tbody>\n",
       "    <tr>\n",
       "      <th>0</th>\n",
       "      <td>[deleted]</td>\n",
       "      <td>2014-08-16 12:55:03+00:00</td>\n",
       "      <td>r/pics didn't give much love. My sister is a special education teacher, this is how she designed the door go her classroom this year.</td>\n",
       "      <td></td>\n",
       "      <td>Teachers</td>\n",
       "      <td>672</td>\n",
       "      <td>23</td>\n",
       "    </tr>\n",
       "    <tr>\n",
       "      <th>1</th>\n",
       "      <td>lolwuthahaomg</td>\n",
       "      <td>2014-12-12 01:56:00+00:00</td>\n",
       "      <td>\"The Stinky Kid\" email went home.</td>\n",
       "      <td>So I am a first year fifth grade teacher, and I absolutely love what I do.\\n\\nI love fifth grade, and I love watching the kids grow up during this time. It is the middle of the year, and I finally snapped and sent out what might be my favorite email I've ever written. Don't get me wrong, I love my students and I love teaching them, but let's be real...5th graders can get pretty stinky.\\n\\nAfter a field trip where they were walking a far distance, they all came into my classroom and took off ...</td>\n",
       "      <td>Teachers</td>\n",
       "      <td>516</td>\n",
       "      <td>214</td>\n",
       "    </tr>\n",
       "    <tr>\n",
       "      <th>2</th>\n",
       "      <td>icookmath</td>\n",
       "      <td>2014-08-20 00:03:48+00:00</td>\n",
       "      <td>I should probably be planning lessons, but...</td>\n",
       "      <td></td>\n",
       "      <td>Teachers</td>\n",
       "      <td>513</td>\n",
       "      <td>44</td>\n",
       "    </tr>\n",
       "    <tr>\n",
       "      <th>3</th>\n",
       "      <td>[deleted]</td>\n",
       "      <td>2014-03-27 16:35:59+00:00</td>\n",
       "      <td>A group of seniors posted this letter to the door of all their English IV teachers. One teacher took a red pen to hers and posted it back up.</td>\n",
       "      <td></td>\n",
       "      <td>Teachers</td>\n",
       "      <td>497</td>\n",
       "      <td>91</td>\n",
       "    </tr>\n",
       "    <tr>\n",
       "      <th>4</th>\n",
       "      <td>Brad_Collins</td>\n",
       "      <td>2014-08-18 15:56:00+00:00</td>\n",
       "      <td>My girlfriend's first day of teaching.</td>\n",
       "      <td></td>\n",
       "      <td>Teachers</td>\n",
       "      <td>486</td>\n",
       "      <td>34</td>\n",
       "    </tr>\n",
       "    <tr>\n",
       "      <th>...</th>\n",
       "      <td>...</td>\n",
       "      <td>...</td>\n",
       "      <td>...</td>\n",
       "      <td>...</td>\n",
       "      <td>...</td>\n",
       "      <td>...</td>\n",
       "      <td>...</td>\n",
       "    </tr>\n",
       "    <tr>\n",
       "      <th>596</th>\n",
       "      <td>ActLikeYouKnow</td>\n",
       "      <td>2014-01-05 22:18:44+00:00</td>\n",
       "      <td>Phonics Rap Video</td>\n",
       "      <td></td>\n",
       "      <td>Teachers</td>\n",
       "      <td>1</td>\n",
       "      <td>0</td>\n",
       "    </tr>\n",
       "    <tr>\n",
       "      <th>597</th>\n",
       "      <td>[deleted]</td>\n",
       "      <td>2014-01-14 20:30:43+00:00</td>\n",
       "      <td>Had to discipline the son of a helicopter parent today. This is what I'm doing now...</td>\n",
       "      <td></td>\n",
       "      <td>Teachers</td>\n",
       "      <td>1</td>\n",
       "      <td>0</td>\n",
       "    </tr>\n",
       "    <tr>\n",
       "      <th>598</th>\n",
       "      <td>[deleted]</td>\n",
       "      <td>2014-01-15 01:18:59+00:00</td>\n",
       "      <td>who has used ShareMYLesson?</td>\n",
       "      <td></td>\n",
       "      <td>Teachers</td>\n",
       "      <td>1</td>\n",
       "      <td>0</td>\n",
       "    </tr>\n",
       "    <tr>\n",
       "      <th>599</th>\n",
       "      <td>BrianMolo35</td>\n",
       "      <td>2014-01-01 03:01:17+00:00</td>\n",
       "      <td>Ice Breakers for starting a new job mid year</td>\n",
       "      <td>I'm starting a 7th grade geography position after break and the school wants me to take 3 or 4 days just getting to know students and establishing norms before even touching the content.  I'm having a hard time coming up with 4 days worth of activities that won't bore the students out of their mind since they have been together all year.  Any ideas?</td>\n",
       "      <td>Teachers</td>\n",
       "      <td>1</td>\n",
       "      <td>2</td>\n",
       "    </tr>\n",
       "    <tr>\n",
       "      <th>600</th>\n",
       "      <td>[deleted]</td>\n",
       "      <td>2014-01-01 00:53:38+00:00</td>\n",
       "      <td>Should I finish my BA in elementary ed, look for a job and finish my minor while teaching? Or should I knock it out all at once?</td>\n",
       "      <td>I have 8 courses to go until I obtain my BA in elementary education (I'm taking 3 classes in the spring of '14). I will then have 4 semesters of student teaching to do afterwards. I also have an English minor I'm pursuing which consists of 8 courses. Now here's my question. Should I just finish my BAE and student teaching, start my career at a school, and finish up my minor while I'm a teaching? Or should I just finish up everything including my minor and THEN look for a job? I've already be...</td>\n",
       "      <td>Teachers</td>\n",
       "      <td>0</td>\n",
       "      <td>3</td>\n",
       "    </tr>\n",
       "  </tbody>\n",
       "</table>\n",
       "<p>601 rows × 7 columns</p>\n",
       "</div>"
      ],
      "text/plain": [
       "             author                      date  \\\n",
       "0         [deleted] 2014-08-16 12:55:03+00:00   \n",
       "1     lolwuthahaomg 2014-12-12 01:56:00+00:00   \n",
       "2         icookmath 2014-08-20 00:03:48+00:00   \n",
       "3         [deleted] 2014-03-27 16:35:59+00:00   \n",
       "4      Brad_Collins 2014-08-18 15:56:00+00:00   \n",
       "..              ...                       ...   \n",
       "596  ActLikeYouKnow 2014-01-05 22:18:44+00:00   \n",
       "597       [deleted] 2014-01-14 20:30:43+00:00   \n",
       "598       [deleted] 2014-01-15 01:18:59+00:00   \n",
       "599     BrianMolo35 2014-01-01 03:01:17+00:00   \n",
       "600       [deleted] 2014-01-01 00:53:38+00:00   \n",
       "\n",
       "                                                                                                                                             title  \\\n",
       "0            r/pics didn't give much love. My sister is a special education teacher, this is how she designed the door go her classroom this year.   \n",
       "1                                                                                                                \"The Stinky Kid\" email went home.   \n",
       "2                                                                                                    I should probably be planning lessons, but...   \n",
       "3    A group of seniors posted this letter to the door of all their English IV teachers. One teacher took a red pen to hers and posted it back up.   \n",
       "4                                                                                                           My girlfriend's first day of teaching.   \n",
       "..                                                                                                                                             ...   \n",
       "596                                                                                                                              Phonics Rap Video   \n",
       "597                                                          Had to discipline the son of a helicopter parent today. This is what I'm doing now...   \n",
       "598                                                                                                                    who has used ShareMYLesson?   \n",
       "599                                                                                                   Ice Breakers for starting a new job mid year   \n",
       "600               Should I finish my BA in elementary ed, look for a job and finish my minor while teaching? Or should I knock it out all at once?   \n",
       "\n",
       "                                                                                                                                                                                                                                                                                                                                                                                                                                                                                                                selftext  \\\n",
       "0                                                                                                                                                                                                                                                                                                                                                                                                                                                                                                                          \n",
       "1    So I am a first year fifth grade teacher, and I absolutely love what I do.\\n\\nI love fifth grade, and I love watching the kids grow up during this time. It is the middle of the year, and I finally snapped and sent out what might be my favorite email I've ever written. Don't get me wrong, I love my students and I love teaching them, but let's be real...5th graders can get pretty stinky.\\n\\nAfter a field trip where they were walking a far distance, they all came into my classroom and took off ...   \n",
       "2                                                                                                                                                                                                                                                                                                                                                                                                                                                                                                                          \n",
       "3                                                                                                                                                                                                                                                                                                                                                                                                                                                                                                                          \n",
       "4                                                                                                                                                                                                                                                                                                                                                                                                                                                                                                                          \n",
       "..                                                                                                                                                                                                                                                                                                                                                                                                                                                                                                                   ...   \n",
       "596                                                                                                                                                                                                                                                                                                                                                                                                                                                                                                                        \n",
       "597                                                                                                                                                                                                                                                                                                                                                                                                                                                                                                                        \n",
       "598                                                                                                                                                                                                                                                                                                                                                                                                                                                                                                                        \n",
       "599                                                                                                                                                      I'm starting a 7th grade geography position after break and the school wants me to take 3 or 4 days just getting to know students and establishing norms before even touching the content.  I'm having a hard time coming up with 4 days worth of activities that won't bore the students out of their mind since they have been together all year.  Any ideas?   \n",
       "600  I have 8 courses to go until I obtain my BA in elementary education (I'm taking 3 classes in the spring of '14). I will then have 4 semesters of student teaching to do afterwards. I also have an English minor I'm pursuing which consists of 8 courses. Now here's my question. Should I just finish my BAE and student teaching, start my career at a school, and finish up my minor while I'm a teaching? Or should I just finish up everything including my minor and THEN look for a job? I've already be...   \n",
       "\n",
       "    subreddit  score  num_comments  \n",
       "0    Teachers    672            23  \n",
       "1    Teachers    516           214  \n",
       "2    Teachers    513            44  \n",
       "3    Teachers    497            91  \n",
       "4    Teachers    486            34  \n",
       "..        ...    ...           ...  \n",
       "596  Teachers      1             0  \n",
       "597  Teachers      1             0  \n",
       "598  Teachers      1             0  \n",
       "599  Teachers      1             2  \n",
       "600  Teachers      0             3  \n",
       "\n",
       "[601 rows x 7 columns]"
      ]
     },
     "execution_count": 8,
     "metadata": {},
     "output_type": "execute_result"
    }
   ],
   "source": [
    "top_2014[['author', 'date', 'title', 'selftext', 'subreddit', 'score', 'num_comments']]\n"
   ]
  },
  {
   "cell_type": "code",
   "execution_count": 9,
   "id": "dcc78610",
   "metadata": {},
   "outputs": [],
   "source": [
    "top_2014.to_csv('top_2014.csv')"
   ]
  },
  {
   "cell_type": "markdown",
   "id": "69830c2b",
   "metadata": {},
   "source": [
    "# 2015"
   ]
  },
  {
   "cell_type": "code",
   "execution_count": 46,
   "id": "0e95a979",
   "metadata": {},
   "outputs": [],
   "source": [
    "api_request_generator_2015 = api.search_submissions(subreddit='Teachers',\n",
    "                                               sort_type = 'score',\n",
    "                                               sort = 'desc',\n",
    "                                               after = '1420070400',\n",
    "                                               before = '1451520000',\n",
    "                                               metadata = True,\n",
    "                                               limit = 1000)"
   ]
  },
  {
   "cell_type": "code",
   "execution_count": 47,
   "id": "dafb7c79",
   "metadata": {},
   "outputs": [
    {
     "name": "stderr",
     "output_type": "stream",
     "text": [
      "/Users/katiegarrett/opt/anaconda3/lib/python3.9/site-packages/psaw/PushshiftAPI.py:252: UserWarning: Not all PushShift shards are active. Query results may be incomplete\n",
      "  warnings.warn(shards_down_message)\n"
     ]
    }
   ],
   "source": [
    "top_2015 = pd.DataFrame([submission.d_ for submission in api_request_generator_2015])\n"
   ]
  },
  {
   "cell_type": "code",
   "execution_count": 48,
   "id": "42b2adb5",
   "metadata": {},
   "outputs": [
    {
     "data": {
      "text/plain": [
       "(303, 32)"
      ]
     },
     "execution_count": 48,
     "metadata": {},
     "output_type": "execute_result"
    }
   ],
   "source": [
    "top_2015.shape"
   ]
  },
  {
   "cell_type": "code",
   "execution_count": 49,
   "id": "72f6d66a",
   "metadata": {},
   "outputs": [],
   "source": [
    "top_2015['date'] = pd.to_datetime(top_2015['created_utc'], utc=True, unit='s')\n"
   ]
  },
  {
   "cell_type": "code",
   "execution_count": 50,
   "id": "8a99e854",
   "metadata": {},
   "outputs": [
    {
     "data": {
      "text/html": [
       "<div>\n",
       "<style scoped>\n",
       "    .dataframe tbody tr th:only-of-type {\n",
       "        vertical-align: middle;\n",
       "    }\n",
       "\n",
       "    .dataframe tbody tr th {\n",
       "        vertical-align: top;\n",
       "    }\n",
       "\n",
       "    .dataframe thead th {\n",
       "        text-align: right;\n",
       "    }\n",
       "</style>\n",
       "<table border=\"1\" class=\"dataframe\">\n",
       "  <thead>\n",
       "    <tr style=\"text-align: right;\">\n",
       "      <th></th>\n",
       "      <th>author</th>\n",
       "      <th>date</th>\n",
       "      <th>title</th>\n",
       "      <th>selftext</th>\n",
       "      <th>subreddit</th>\n",
       "      <th>score</th>\n",
       "      <th>num_comments</th>\n",
       "    </tr>\n",
       "  </thead>\n",
       "  <tbody>\n",
       "    <tr>\n",
       "      <th>0</th>\n",
       "      <td>fraidycat8</td>\n",
       "      <td>2015-02-21 14:28:44+00:00</td>\n",
       "      <td>I wish someone would make a reality TV show where members of the general public try to be teachers for 30 days.</td>\n",
       "      <td>I've seen a bunch of anti-teacher articles in the media lately, which is nothing new. As always, the thought occurred to me that these people have no idea what being a teacher is like.\\n\\nI thought to myself - wouldn't it be great if there was a reality TV show where either celebrities or just members of the general public from other fields (entrepreneurs, engineers, firefighters, etc. etc.) had to try to be a teacher for 30 days.\\n\\nI hate reality TV, but I wonder if it would make any diffe...</td>\n",
       "      <td>Teachers</td>\n",
       "      <td>550</td>\n",
       "      <td>121</td>\n",
       "    </tr>\n",
       "    <tr>\n",
       "      <th>1</th>\n",
       "      <td>McDonala</td>\n",
       "      <td>2015-09-27 23:15:16+00:00</td>\n",
       "      <td>Is anyone else annoyed by the zig-zag polka dot teacher blogs and cutsie teacher culture?</td>\n",
       "      <td>I'd like to see more teaching blogs that are professionally presented and address educational research and proven strategies. Enough with the cutsie worksheets and pastel chevron backgrounds with cartoon animals. When I am in teacher network mode, I don't want to see that, and I can't relate to that culture. Save the cute stuff for the classroom, and let's have professional networking blogs. Medical journals don't have bandaid clip art borders, right? Anyone else have this feeling or am I be...</td>\n",
       "      <td>Teachers</td>\n",
       "      <td>331</td>\n",
       "      <td>179</td>\n",
       "    </tr>\n",
       "    <tr>\n",
       "      <th>2</th>\n",
       "      <td>cookiemonstermanatee</td>\n",
       "      <td>2015-12-04 00:17:57+00:00</td>\n",
       "      <td>Pope Francis calls for teachers to be given a pay raise</td>\n",
       "      <td></td>\n",
       "      <td>Teachers</td>\n",
       "      <td>330</td>\n",
       "      <td>41</td>\n",
       "    </tr>\n",
       "    <tr>\n",
       "      <th>3</th>\n",
       "      <td>SparklesPeterson</td>\n",
       "      <td>2015-01-06 14:24:06+00:00</td>\n",
       "      <td>Here is my site. Everything is 100% free, no log in required. Made to support teachers who don't have the $$ for TeachersPayTeachers.</td>\n",
       "      <td>This is my website. I created it to share materials with other teacher free of charge. No log in required either, just take what you need!\\n\\nhttp://www.printworksheetsfree.com/</td>\n",
       "      <td>Teachers</td>\n",
       "      <td>330</td>\n",
       "      <td>26</td>\n",
       "    </tr>\n",
       "    <tr>\n",
       "      <th>4</th>\n",
       "      <td>TripleEEE1682</td>\n",
       "      <td>2015-05-06 14:11:11+00:00</td>\n",
       "      <td>John Oliver takes down standardized testing and highlights Pearson's role</td>\n",
       "      <td></td>\n",
       "      <td>Teachers</td>\n",
       "      <td>328</td>\n",
       "      <td>61</td>\n",
       "    </tr>\n",
       "    <tr>\n",
       "      <th>...</th>\n",
       "      <td>...</td>\n",
       "      <td>...</td>\n",
       "      <td>...</td>\n",
       "      <td>...</td>\n",
       "      <td>...</td>\n",
       "      <td>...</td>\n",
       "      <td>...</td>\n",
       "    </tr>\n",
       "    <tr>\n",
       "      <th>298</th>\n",
       "      <td>brightkidthrowaway</td>\n",
       "      <td>2015-01-13 21:44:34+00:00</td>\n",
       "      <td>How do I avoid becoming \"one of those\" parents</td>\n",
       "      <td>After reading another AskReddit thread about what's the worst parent you've had to deal with, I thought I'd come here for advice.\\n\\nWe're soon starting a new school year where I am, and with new teachers, I'd like some advice to avoid being one of those parents teachers dislike.  I have two highly gifted children (external testing showed they were brighter than I thought), who are in junior primary school.  Both well advanced for their ages, and in both cases there are no other children in ...</td>\n",
       "      <td>Teachers</td>\n",
       "      <td>8</td>\n",
       "      <td>37</td>\n",
       "    </tr>\n",
       "    <tr>\n",
       "      <th>299</th>\n",
       "      <td>infinityeagle</td>\n",
       "      <td>2015-01-01 04:46:08+00:00</td>\n",
       "      <td>About to join your ranks.</td>\n",
       "      <td>I just got approved for the PACE program.  Just have to finish paperwork and take the Praxis exam. What should I know about the profession I'm trying to break into?</td>\n",
       "      <td>Teachers</td>\n",
       "      <td>8</td>\n",
       "      <td>13</td>\n",
       "    </tr>\n",
       "    <tr>\n",
       "      <th>300</th>\n",
       "      <td>snow_whitewalker</td>\n",
       "      <td>2015-01-01 03:03:39+00:00</td>\n",
       "      <td>Need help writing letter of rec for unremarkable student.</td>\n",
       "      <td>A student from my computer science class last year asked me to write a letter of recommendation for her. Her counselor told me she really needed my recommendation, because she is very tech-focused, and there are no other tech teachers at the school. The problem is that she was a B student, and not much stood out in the classroom. I can't find any projects that she created that were really interesting. Other than her tech interests outside my class, I don't know what to say about her. Does an...</td>\n",
       "      <td>Teachers</td>\n",
       "      <td>14</td>\n",
       "      <td>12</td>\n",
       "    </tr>\n",
       "    <tr>\n",
       "      <th>301</th>\n",
       "      <td>APhamX</td>\n",
       "      <td>2015-01-01 04:44:25+00:00</td>\n",
       "      <td>Inspiring Letter from my High School Teacher to Himself</td>\n",
       "      <td></td>\n",
       "      <td>Teachers</td>\n",
       "      <td>1</td>\n",
       "      <td>1</td>\n",
       "    </tr>\n",
       "    <tr>\n",
       "      <th>302</th>\n",
       "      <td>snow_whitewalker</td>\n",
       "      <td>2015-01-01 03:03:39+00:00</td>\n",
       "      <td>Need help writing letter of rec for unremarkable student.</td>\n",
       "      <td>A student from my computer science class last year asked me to write a letter of recommendation for her. Her counselor told me she really needed my recommendation, because she is very tech-focused, and there are no other tech teachers at the school. The problem is that she was a B student, and not much stood out in the classroom. I can't find any projects that she created that were really interesting. Other than her tech interests outside my class, I don't know what to say about her. Does an...</td>\n",
       "      <td>Teachers</td>\n",
       "      <td>14</td>\n",
       "      <td>12</td>\n",
       "    </tr>\n",
       "  </tbody>\n",
       "</table>\n",
       "<p>303 rows × 7 columns</p>\n",
       "</div>"
      ],
      "text/plain": [
       "                   author                      date  \\\n",
       "0              fraidycat8 2015-02-21 14:28:44+00:00   \n",
       "1                McDonala 2015-09-27 23:15:16+00:00   \n",
       "2    cookiemonstermanatee 2015-12-04 00:17:57+00:00   \n",
       "3        SparklesPeterson 2015-01-06 14:24:06+00:00   \n",
       "4           TripleEEE1682 2015-05-06 14:11:11+00:00   \n",
       "..                    ...                       ...   \n",
       "298    brightkidthrowaway 2015-01-13 21:44:34+00:00   \n",
       "299         infinityeagle 2015-01-01 04:46:08+00:00   \n",
       "300      snow_whitewalker 2015-01-01 03:03:39+00:00   \n",
       "301                APhamX 2015-01-01 04:44:25+00:00   \n",
       "302      snow_whitewalker 2015-01-01 03:03:39+00:00   \n",
       "\n",
       "                                                                                                                                     title  \\\n",
       "0                          I wish someone would make a reality TV show where members of the general public try to be teachers for 30 days.   \n",
       "1                                                Is anyone else annoyed by the zig-zag polka dot teacher blogs and cutsie teacher culture?   \n",
       "2                                                                                  Pope Francis calls for teachers to be given a pay raise   \n",
       "3    Here is my site. Everything is 100% free, no log in required. Made to support teachers who don't have the $$ for TeachersPayTeachers.   \n",
       "4                                                                John Oliver takes down standardized testing and highlights Pearson's role   \n",
       "..                                                                                                                                     ...   \n",
       "298                                                                                         How do I avoid becoming \"one of those\" parents   \n",
       "299                                                                                                              About to join your ranks.   \n",
       "300                                                                              Need help writing letter of rec for unremarkable student.   \n",
       "301                                                                                Inspiring Letter from my High School Teacher to Himself   \n",
       "302                                                                              Need help writing letter of rec for unremarkable student.   \n",
       "\n",
       "                                                                                                                                                                                                                                                                                                                                                                                                                                                                                                                selftext  \\\n",
       "0    I've seen a bunch of anti-teacher articles in the media lately, which is nothing new. As always, the thought occurred to me that these people have no idea what being a teacher is like.\\n\\nI thought to myself - wouldn't it be great if there was a reality TV show where either celebrities or just members of the general public from other fields (entrepreneurs, engineers, firefighters, etc. etc.) had to try to be a teacher for 30 days.\\n\\nI hate reality TV, but I wonder if it would make any diffe...   \n",
       "1    I'd like to see more teaching blogs that are professionally presented and address educational research and proven strategies. Enough with the cutsie worksheets and pastel chevron backgrounds with cartoon animals. When I am in teacher network mode, I don't want to see that, and I can't relate to that culture. Save the cute stuff for the classroom, and let's have professional networking blogs. Medical journals don't have bandaid clip art borders, right? Anyone else have this feeling or am I be...   \n",
       "2                                                                                                                                                                                                                                                                                                                                                                                                                                                                                                                          \n",
       "3                                                                                                                                                                                                                                                                                                                                      This is my website. I created it to share materials with other teacher free of charge. No log in required either, just take what you need!\\n\\nhttp://www.printworksheetsfree.com/   \n",
       "4                                                                                                                                                                                                                                                                                                                                                                                                                                                                                                                          \n",
       "..                                                                                                                                                                                                                                                                                                                                                                                                                                                                                                                   ...   \n",
       "298  After reading another AskReddit thread about what's the worst parent you've had to deal with, I thought I'd come here for advice.\\n\\nWe're soon starting a new school year where I am, and with new teachers, I'd like some advice to avoid being one of those parents teachers dislike.  I have two highly gifted children (external testing showed they were brighter than I thought), who are in junior primary school.  Both well advanced for their ages, and in both cases there are no other children in ...   \n",
       "299                                                                                                                                                                                                                                                                                                                                                I just got approved for the PACE program.  Just have to finish paperwork and take the Praxis exam. What should I know about the profession I'm trying to break into?    \n",
       "300  A student from my computer science class last year asked me to write a letter of recommendation for her. Her counselor told me she really needed my recommendation, because she is very tech-focused, and there are no other tech teachers at the school. The problem is that she was a B student, and not much stood out in the classroom. I can't find any projects that she created that were really interesting. Other than her tech interests outside my class, I don't know what to say about her. Does an...   \n",
       "301                                                                                                                                                                                                                                                                                                                                                                                                                                                                                                                        \n",
       "302  A student from my computer science class last year asked me to write a letter of recommendation for her. Her counselor told me she really needed my recommendation, because she is very tech-focused, and there are no other tech teachers at the school. The problem is that she was a B student, and not much stood out in the classroom. I can't find any projects that she created that were really interesting. Other than her tech interests outside my class, I don't know what to say about her. Does an...   \n",
       "\n",
       "    subreddit  score  num_comments  \n",
       "0    Teachers    550           121  \n",
       "1    Teachers    331           179  \n",
       "2    Teachers    330            41  \n",
       "3    Teachers    330            26  \n",
       "4    Teachers    328            61  \n",
       "..        ...    ...           ...  \n",
       "298  Teachers      8            37  \n",
       "299  Teachers      8            13  \n",
       "300  Teachers     14            12  \n",
       "301  Teachers      1             1  \n",
       "302  Teachers     14            12  \n",
       "\n",
       "[303 rows x 7 columns]"
      ]
     },
     "execution_count": 50,
     "metadata": {},
     "output_type": "execute_result"
    }
   ],
   "source": [
    "top_2015[['author', 'date', 'title', 'selftext', 'subreddit', 'score', 'num_comments']]\n"
   ]
  },
  {
   "cell_type": "code",
   "execution_count": 51,
   "id": "8d749b41",
   "metadata": {},
   "outputs": [],
   "source": [
    "top_2015.to_csv('top_2015.csv')"
   ]
  },
  {
   "cell_type": "markdown",
   "id": "e519b911",
   "metadata": {},
   "source": [
    "# 2016"
   ]
  },
  {
   "cell_type": "code",
   "execution_count": null,
   "id": "c9837944",
   "metadata": {},
   "outputs": [],
   "source": [
    "api_request_generator_2016 = api.search_submissions(subreddit='Teachers',\n",
    "                                               sort_type = 'score',\n",
    "                                               sort = 'desc',\n",
    "                                               after = '1451606400',\n",
    "                                               before = '1483142400',\n",
    "                                               metadata = True,\n",
    "                                               limit = 1000)"
   ]
  },
  {
   "cell_type": "code",
   "execution_count": null,
   "id": "d55da11d",
   "metadata": {},
   "outputs": [],
   "source": [
    "top_2016 = pd.DataFrame([submission.d_ for submission in api_request_generator_2016])\n"
   ]
  },
  {
   "cell_type": "code",
   "execution_count": null,
   "id": "08273046",
   "metadata": {},
   "outputs": [],
   "source": [
    "top_2016.shape"
   ]
  },
  {
   "cell_type": "code",
   "execution_count": null,
   "id": "283703c0",
   "metadata": {},
   "outputs": [],
   "source": [
    "top_2016['date'] = pd.to_datetime(top_2016['created_utc'], utc=True, unit='s')\n"
   ]
  },
  {
   "cell_type": "code",
   "execution_count": null,
   "id": "59a65272",
   "metadata": {},
   "outputs": [],
   "source": [
    "top_2016[['author', 'date', 'title', 'selftext', 'subreddit', 'score', 'num_comments']]\n"
   ]
  },
  {
   "cell_type": "code",
   "execution_count": null,
   "id": "a45d958f",
   "metadata": {},
   "outputs": [],
   "source": [
    "top_2016.to_csv('top_2016.csv')"
   ]
  },
  {
   "cell_type": "markdown",
   "id": "ba7b0474",
   "metadata": {},
   "source": [
    "# 2017"
   ]
  },
  {
   "cell_type": "code",
   "execution_count": null,
   "id": "910637dd",
   "metadata": {},
   "outputs": [],
   "source": []
  },
  {
   "cell_type": "code",
   "execution_count": null,
   "id": "5b9751a0",
   "metadata": {},
   "outputs": [],
   "source": [
    "api_request_generator_2017 = api.search_submissions(subreddit='Teachers',\n",
    "                                               sort_type = 'score',\n",
    "                                               sort = 'desc',\n",
    "                                               after = '1483228800',\n",
    "                                               before = '1514678400',\n",
    "                                               metadata = True,\n",
    "                                               limit = 1000)"
   ]
  },
  {
   "cell_type": "code",
   "execution_count": null,
   "id": "686fbda4",
   "metadata": {},
   "outputs": [],
   "source": [
    "top_2017 = pd.DataFrame([submission.d_ for submission in api_request_generator_2017])"
   ]
  },
  {
   "cell_type": "code",
   "execution_count": null,
   "id": "2439ec9d",
   "metadata": {},
   "outputs": [],
   "source": [
    "top_2017.shape"
   ]
  },
  {
   "cell_type": "code",
   "execution_count": null,
   "id": "b9a83893",
   "metadata": {},
   "outputs": [],
   "source": [
    "top_2017['date'] = pd.to_datetime(top_2017['created_utc'], utc=True, unit='s')\n"
   ]
  },
  {
   "cell_type": "code",
   "execution_count": null,
   "id": "10c2986f",
   "metadata": {},
   "outputs": [],
   "source": [
    "top_2017[['author', 'date', 'title', 'selftext', 'subreddit', 'score', 'num_comments']]\n"
   ]
  },
  {
   "cell_type": "code",
   "execution_count": null,
   "id": "6f56d3d1",
   "metadata": {},
   "outputs": [],
   "source": [
    "top_2017.to_csv('top_2017.csv')"
   ]
  },
  {
   "cell_type": "markdown",
   "id": "507ea134",
   "metadata": {},
   "source": [
    "# 2018"
   ]
  },
  {
   "cell_type": "code",
   "execution_count": null,
   "id": "15ec0b9a",
   "metadata": {},
   "outputs": [],
   "source": [
    "api_request_generator_2018 = api.search_submissions(subreddit='Teachers',\n",
    "                                               sort_type = 'score',\n",
    "                                               sort = 'desc',\n",
    "                                               after = '1514764800',\n",
    "                                               before = '1546214400',\n",
    "                                               metadata = True,\n",
    "                                               limit = 1000)"
   ]
  },
  {
   "cell_type": "code",
   "execution_count": null,
   "id": "73bdddfc",
   "metadata": {},
   "outputs": [],
   "source": [
    "top_2018 = pd.DataFrame([submission.d_ for submission in api_request_generator_2018])\n"
   ]
  },
  {
   "cell_type": "code",
   "execution_count": null,
   "id": "f63dd5e9",
   "metadata": {},
   "outputs": [],
   "source": [
    "top_2018.shape"
   ]
  },
  {
   "cell_type": "code",
   "execution_count": null,
   "id": "a237c6c8",
   "metadata": {},
   "outputs": [],
   "source": [
    "top_2018['date'] = pd.to_datetime(top_2018['created_utc'], utc=True, unit='s')\n"
   ]
  },
  {
   "cell_type": "code",
   "execution_count": null,
   "id": "b67f4054",
   "metadata": {},
   "outputs": [],
   "source": [
    "top_2018[['author', 'date', 'title', 'selftext', 'subreddit', 'score', 'num_comments']]\n"
   ]
  },
  {
   "cell_type": "code",
   "execution_count": null,
   "id": "f45e844e",
   "metadata": {},
   "outputs": [],
   "source": [
    "top_2018.to_csv('top_2018.csv')"
   ]
  },
  {
   "cell_type": "markdown",
   "id": "82f9446f",
   "metadata": {},
   "source": [
    "# 2019"
   ]
  },
  {
   "cell_type": "code",
   "execution_count": null,
   "id": "397ac317",
   "metadata": {},
   "outputs": [],
   "source": [
    "api_request_generator_2019 = api.search_submissions(subreddit='Teachers',\n",
    "                                               sort_type = 'score',\n",
    "                                               sort = 'desc',\n",
    "                                               after = '1546300800',\n",
    "                                               before = '1577750400',\n",
    "                                               metadata = True,\n",
    "                                               limit = 1000)"
   ]
  },
  {
   "cell_type": "code",
   "execution_count": null,
   "id": "0478dda3",
   "metadata": {},
   "outputs": [],
   "source": [
    "top_2019 = pd.DataFrame([submission.d_ for submission in api_request_generator_2019])\n"
   ]
  },
  {
   "cell_type": "code",
   "execution_count": null,
   "id": "7bdee33c",
   "metadata": {},
   "outputs": [],
   "source": [
    "top_2019.shape"
   ]
  },
  {
   "cell_type": "code",
   "execution_count": null,
   "id": "65641aae",
   "metadata": {},
   "outputs": [],
   "source": [
    "top_2019['date'] = pd.to_datetime(top_2019['created_utc'], utc=True, unit='s')\n"
   ]
  },
  {
   "cell_type": "code",
   "execution_count": null,
   "id": "e8b93b7f",
   "metadata": {},
   "outputs": [],
   "source": [
    "top_2019[['author', 'date', 'title', 'selftext', 'subreddit', 'score', 'num_comments']]\n"
   ]
  },
  {
   "cell_type": "code",
   "execution_count": null,
   "id": "3545cd0c",
   "metadata": {},
   "outputs": [],
   "source": [
    "top_2019.to_csv('top_2019.csv')"
   ]
  },
  {
   "cell_type": "markdown",
   "id": "8b083688",
   "metadata": {},
   "source": [
    "# 2020"
   ]
  },
  {
   "cell_type": "code",
   "execution_count": null,
   "id": "75ac038f",
   "metadata": {},
   "outputs": [],
   "source": [
    "api_request_generator_2020 = api.search_submissions(subreddit='Teachers',\n",
    "                                               sort_type = \"score\",\n",
    "                                               after = '1577858400',\n",
    "                                               before = '1609480800',\n",
    "                                               sort = 'desc',\n",
    "                                               metadata = True,\n",
    "                                               limit = 1000)"
   ]
  },
  {
   "cell_type": "code",
   "execution_count": null,
   "id": "60c495d0",
   "metadata": {},
   "outputs": [],
   "source": [
    "top_2020 = pd.DataFrame([submission.d_ for submission in api_request_generator_2020])\n"
   ]
  },
  {
   "cell_type": "code",
   "execution_count": null,
   "id": "43e565b0",
   "metadata": {},
   "outputs": [],
   "source": [
    "top_2020.shape"
   ]
  },
  {
   "cell_type": "code",
   "execution_count": null,
   "id": "f631fd7c",
   "metadata": {},
   "outputs": [],
   "source": [
    "top_2020['date'] = pd.to_datetime(top_2020['created_utc'], utc=True, unit='s')\n"
   ]
  },
  {
   "cell_type": "code",
   "execution_count": null,
   "id": "5c6f45a0",
   "metadata": {},
   "outputs": [],
   "source": [
    "top_2020[['author', 'date', 'title', 'selftext', 'subreddit', 'score', 'num_comments']]\n"
   ]
  },
  {
   "cell_type": "code",
   "execution_count": null,
   "id": "683f03d9",
   "metadata": {},
   "outputs": [],
   "source": [
    "top_2020.to_csv('top_2020.csv')"
   ]
  },
  {
   "cell_type": "markdown",
   "id": "d0672a33",
   "metadata": {},
   "source": [
    "# 2021"
   ]
  },
  {
   "cell_type": "code",
   "execution_count": null,
   "id": "496e5825",
   "metadata": {},
   "outputs": [],
   "source": [
    "api_request_generator_2021 = api.search_submissions(subreddit='Teachers',\n",
    "                                               sort_type = \"score\",\n",
    "                                               after = '1609480800',\n",
    "                                               before = '1641016800',\n",
    "                                               sort = 'desc',\n",
    "                                               metadata = True,\n",
    "                                               limit = 1000)"
   ]
  },
  {
   "cell_type": "code",
   "execution_count": null,
   "id": "05031984",
   "metadata": {},
   "outputs": [],
   "source": [
    "top_2021 = pd.DataFrame([submission.d_ for submission in api_request_generator_2021])\n"
   ]
  },
  {
   "cell_type": "code",
   "execution_count": null,
   "id": "5638cc13",
   "metadata": {},
   "outputs": [],
   "source": [
    "top_2021.shape"
   ]
  },
  {
   "cell_type": "code",
   "execution_count": null,
   "id": "4c54fd5b",
   "metadata": {},
   "outputs": [],
   "source": [
    "top_2021['date'] = pd.to_datetime(top_2021['created_utc'], utc=True, unit='s')\n"
   ]
  },
  {
   "cell_type": "code",
   "execution_count": null,
   "id": "c95a9617",
   "metadata": {},
   "outputs": [],
   "source": [
    "top_2021[['author', 'date', 'title', 'selftext', 'subreddit', 'score', 'num_comments']]\n"
   ]
  },
  {
   "cell_type": "code",
   "execution_count": null,
   "id": "b6af6044",
   "metadata": {},
   "outputs": [],
   "source": [
    "top_2021.to_csv('top_2021.csv')"
   ]
  },
  {
   "cell_type": "markdown",
   "id": "28fe024c",
   "metadata": {},
   "source": [
    "# 2022"
   ]
  },
  {
   "cell_type": "code",
   "execution_count": null,
   "id": "f3adda97",
   "metadata": {},
   "outputs": [],
   "source": [
    "api_request_generator_2022 = api.search_submissions(subreddit='Teachers',\n",
    "                                               sort_type = \"score\",\n",
    "                                               after = '1653008418',\n",
    "                                               sort = 'desc',\n",
    "                                               metadata = True,\n",
    "                                               limit = 1000)"
   ]
  },
  {
   "cell_type": "code",
   "execution_count": null,
   "id": "a584e0a6",
   "metadata": {},
   "outputs": [],
   "source": [
    "top_2022 = pd.DataFrame([submission.d_ for submission in api_request_generator_2022])\n"
   ]
  },
  {
   "cell_type": "code",
   "execution_count": null,
   "id": "c085b3ce",
   "metadata": {},
   "outputs": [],
   "source": [
    "top_2022.shape"
   ]
  },
  {
   "cell_type": "code",
   "execution_count": null,
   "id": "ef36a3a4",
   "metadata": {},
   "outputs": [],
   "source": [
    "top_2022['date'] = pd.to_datetime(top_2022['created_utc'], utc=True, unit='s')\n"
   ]
  },
  {
   "cell_type": "code",
   "execution_count": null,
   "id": "0aefef2a",
   "metadata": {},
   "outputs": [],
   "source": [
    "top_2022[['author', 'date', 'title', 'selftext', 'subreddit', 'score', 'num_comments']]\n"
   ]
  },
  {
   "cell_type": "code",
   "execution_count": null,
   "id": "4533c1fa",
   "metadata": {},
   "outputs": [],
   "source": [
    "top_2022.to_csv('top_2022.csv')"
   ]
  },
  {
   "cell_type": "markdown",
   "id": "e6dbd0b6",
   "metadata": {},
   "source": [
    "# All Time Top Posts"
   ]
  },
  {
   "cell_type": "code",
   "execution_count": null,
   "id": "4b8b58dd",
   "metadata": {},
   "outputs": [],
   "source": [
    "api_request_generator_all_time = api.search_submissions(subreddit='Teachers',\n",
    "                                               sort_type = \"score\",\n",
    "                                               sort = 'desc',\n",
    "                                               metadata = True,\n",
    "                                               limit = 1000)"
   ]
  },
  {
   "cell_type": "code",
   "execution_count": null,
   "id": "39d0f641",
   "metadata": {},
   "outputs": [],
   "source": [
    "all_time = pd.DataFrame([submission.d_ for submission in api_request_generator_all_time])"
   ]
  },
  {
   "cell_type": "code",
   "execution_count": null,
   "id": "f51a50a4",
   "metadata": {},
   "outputs": [],
   "source": [
    "all_time.shape"
   ]
  },
  {
   "cell_type": "code",
   "execution_count": null,
   "id": "e5d7b787",
   "metadata": {},
   "outputs": [],
   "source": [
    "all_time['date'] = pd.to_datetime(all_time['created_utc'], utc=True, unit='s')\n"
   ]
  },
  {
   "cell_type": "code",
   "execution_count": null,
   "id": "40df8d8c",
   "metadata": {},
   "outputs": [],
   "source": [
    "all_time[['author', 'date', 'title', 'selftext', 'subreddit', 'score', 'num_comments']]\n"
   ]
  },
  {
   "cell_type": "markdown",
   "id": "eeda9f3f",
   "metadata": {},
   "source": [
    "Now attempting the natural language processing for 2014"
   ]
  },
  {
   "cell_type": "code",
   "execution_count": 10,
   "id": "d392981a",
   "metadata": {},
   "outputs": [],
   "source": [
    "!pip install -q transformers\n",
    "\n"
   ]
  },
  {
   "cell_type": "code",
   "execution_count": 11,
   "id": "eb928965",
   "metadata": {},
   "outputs": [],
   "source": [
    "from transformers import pipeline"
   ]
  },
  {
   "cell_type": "code",
   "execution_count": null,
   "id": "9b48384b",
   "metadata": {},
   "outputs": [],
   "source": [
    "pip install tensorflow"
   ]
  },
  {
   "cell_type": "code",
   "execution_count": null,
   "id": "8e66b213",
   "metadata": {},
   "outputs": [],
   "source": [
    "!pip3 install torch torchvision torchaudio"
   ]
  },
  {
   "cell_type": "code",
   "execution_count": 14,
   "id": "8b19e5f4",
   "metadata": {},
   "outputs": [
    {
     "name": "stderr",
     "output_type": "stream",
     "text": [
      "No model was supplied, defaulted to distilbert-base-uncased-finetuned-sst-2-english (https://huggingface.co/distilbert-base-uncased-finetuned-sst-2-english)\n",
      "2022-06-07 18:30:11.241204: I tensorflow/core/platform/cpu_feature_guard.cc:193] This TensorFlow binary is optimized with oneAPI Deep Neural Network Library (oneDNN) to use the following CPU instructions in performance-critical operations:  AVX2 FMA\n",
      "To enable them in other operations, rebuild TensorFlow with the appropriate compiler flags.\n"
     ]
    },
    {
     "data": {
      "application/vnd.jupyter.widget-view+json": {
       "model_id": "51d8124b2e48446da475569e735d97c9",
       "version_major": 2,
       "version_minor": 0
      },
      "text/plain": [
       "Downloading:   0%|          | 0.00/255M [00:00<?, ?B/s]"
      ]
     },
     "metadata": {},
     "output_type": "display_data"
    },
    {
     "data": {
      "application/vnd.jupyter.widget-view+json": {
       "model_id": "c90538e5e24940b88502b444a119dd63",
       "version_major": 2,
       "version_minor": 0
      },
      "text/plain": [
       "Downloading:   0%|          | 0.00/48.0 [00:00<?, ?B/s]"
      ]
     },
     "metadata": {},
     "output_type": "display_data"
    },
    {
     "data": {
      "application/vnd.jupyter.widget-view+json": {
       "model_id": "acc6f38f23a84bd79e881952815e31c0",
       "version_major": 2,
       "version_minor": 0
      },
      "text/plain": [
       "Downloading:   0%|          | 0.00/226k [00:00<?, ?B/s]"
      ]
     },
     "metadata": {},
     "output_type": "display_data"
    },
    {
     "data": {
      "text/plain": [
       "[{'label': 'NEGATIVE', 'score': 0.9670122861862183}]"
      ]
     },
     "execution_count": 14,
     "metadata": {},
     "output_type": "execute_result"
    }
   ],
   "source": [
    "sentiment_pipeline = pipeline(\"sentiment-analysis\")\n",
    "data = ['This is a test']\n",
    "sentiment_pipeline(data)"
   ]
  },
  {
   "cell_type": "markdown",
   "id": "63ecc6c5",
   "metadata": {},
   "source": [
    "Trying a different method now:"
   ]
  },
  {
   "cell_type": "code",
   "execution_count": 10,
   "id": "4ee0fc93",
   "metadata": {},
   "outputs": [
    {
     "name": "stderr",
     "output_type": "stream",
     "text": [
      "[nltk_data] Downloading package vader_lexicon to\n",
      "[nltk_data]     /Users/katiegarrett/nltk_data...\n",
      "[nltk_data]   Package vader_lexicon is already up-to-date!\n"
     ]
    },
    {
     "data": {
      "text/plain": [
       "True"
      ]
     },
     "execution_count": 10,
     "metadata": {},
     "output_type": "execute_result"
    }
   ],
   "source": [
    "import re\n",
    "import pandas as pd\n",
    "import matplotlib.pyplot as plt\n",
    "import nltk\n",
    "from nltk.sentiment.vader import SentimentIntensityAnalyzer\n",
    "nltk.download('vader_lexicon')"
   ]
  },
  {
   "cell_type": "code",
   "execution_count": 11,
   "id": "b25df6c0",
   "metadata": {},
   "outputs": [],
   "source": [
    "top_2014[\"combined\"] = top_2014[\"title\"] + top_2014[\"selftext\"]\n",
    "top_2014['year'] = 2014\n"
   ]
  },
  {
   "cell_type": "code",
   "execution_count": 12,
   "id": "27bdd0ee",
   "metadata": {},
   "outputs": [
    {
     "data": {
      "text/html": [
       "<div>\n",
       "<style scoped>\n",
       "    .dataframe tbody tr th:only-of-type {\n",
       "        vertical-align: middle;\n",
       "    }\n",
       "\n",
       "    .dataframe tbody tr th {\n",
       "        vertical-align: top;\n",
       "    }\n",
       "\n",
       "    .dataframe thead th {\n",
       "        text-align: right;\n",
       "    }\n",
       "</style>\n",
       "<table border=\"1\" class=\"dataframe\">\n",
       "  <thead>\n",
       "    <tr style=\"text-align: right;\">\n",
       "      <th></th>\n",
       "      <th>author</th>\n",
       "      <th>author_flair_css_class</th>\n",
       "      <th>author_flair_text</th>\n",
       "      <th>created_utc</th>\n",
       "      <th>domain</th>\n",
       "      <th>full_link</th>\n",
       "      <th>gilded</th>\n",
       "      <th>id</th>\n",
       "      <th>is_self</th>\n",
       "      <th>media_embed</th>\n",
       "      <th>num_comments</th>\n",
       "      <th>over_18</th>\n",
       "      <th>permalink</th>\n",
       "      <th>retrieved_on</th>\n",
       "      <th>score</th>\n",
       "      <th>secure_media_embed</th>\n",
       "      <th>selftext</th>\n",
       "      <th>stickied</th>\n",
       "      <th>subreddit</th>\n",
       "      <th>subreddit_id</th>\n",
       "      <th>thumbnail</th>\n",
       "      <th>title</th>\n",
       "      <th>url</th>\n",
       "      <th>created</th>\n",
       "      <th>author_created_utc</th>\n",
       "      <th>author_fullname</th>\n",
       "      <th>media</th>\n",
       "      <th>edited</th>\n",
       "      <th>secure_media</th>\n",
       "      <th>date</th>\n",
       "      <th>combined</th>\n",
       "      <th>year</th>\n",
       "    </tr>\n",
       "  </thead>\n",
       "  <tbody>\n",
       "    <tr>\n",
       "      <th>0</th>\n",
       "      <td>[deleted]</td>\n",
       "      <td>None</td>\n",
       "      <td>None</td>\n",
       "      <td>1408193703</td>\n",
       "      <td>i.imgur.com</td>\n",
       "      <td>https://www.reddit.com/r/Teachers/comments/2dpvhl/rpics_didnt_give_much_love_my_sister_is_a_special/</td>\n",
       "      <td>0</td>\n",
       "      <td>2dpvhl</td>\n",
       "      <td>False</td>\n",
       "      <td>{}</td>\n",
       "      <td>23</td>\n",
       "      <td>False</td>\n",
       "      <td>/r/Teachers/comments/2dpvhl/rpics_didnt_give_much_love_my_sister_is_a_special/</td>\n",
       "      <td>1441216853</td>\n",
       "      <td>672</td>\n",
       "      <td>{}</td>\n",
       "      <td></td>\n",
       "      <td>False</td>\n",
       "      <td>Teachers</td>\n",
       "      <td>t5_2qqcs</td>\n",
       "      <td>http://b.thumbs.redditmedia.com/UAot5elMHVI_90j_.jpg</td>\n",
       "      <td>r/pics didn't give much love. My sister is a special education teacher, this is how she designed the door go her classroom this year.</td>\n",
       "      <td>http://i.imgur.com/x8U13b6.jpg</td>\n",
       "      <td>1.408212e+09</td>\n",
       "      <td>NaN</td>\n",
       "      <td>NaN</td>\n",
       "      <td>NaN</td>\n",
       "      <td>NaN</td>\n",
       "      <td>NaN</td>\n",
       "      <td>2014-08-16 12:55:03+00:00</td>\n",
       "      <td>r/pics didn't give much love. My sister is a special education teacher, this is how she designed the door go her classroom this year.</td>\n",
       "      <td>2014</td>\n",
       "    </tr>\n",
       "    <tr>\n",
       "      <th>1</th>\n",
       "      <td>lolwuthahaomg</td>\n",
       "      <td>None</td>\n",
       "      <td>None</td>\n",
       "      <td>1418349360</td>\n",
       "      <td>self.Teachers</td>\n",
       "      <td>https://www.reddit.com/r/Teachers/comments/2p1b3h/the_stinky_kid_email_went_home/</td>\n",
       "      <td>0</td>\n",
       "      <td>2p1b3h</td>\n",
       "      <td>True</td>\n",
       "      <td>{}</td>\n",
       "      <td>214</td>\n",
       "      <td>False</td>\n",
       "      <td>/r/Teachers/comments/2p1b3h/the_stinky_kid_email_went_home/</td>\n",
       "      <td>1441024393</td>\n",
       "      <td>516</td>\n",
       "      <td>{}</td>\n",
       "      <td>So I am a first year fifth grade teacher, and I absolutely love what I do.\\n\\nI love fifth grade, and I love watching the kids grow up during this time. It is the middle of the year, and I finally snapped and sent out what might be my favorite email I've ever written. Don't get me wrong, I love my students and I love teaching them, but let's be real...5th graders can get pretty stinky.\\n\\nAfter a field trip where they were walking a far distance, they all came into my classroom and took off ...</td>\n",
       "      <td>False</td>\n",
       "      <td>Teachers</td>\n",
       "      <td>t5_2qqcs</td>\n",
       "      <td>self</td>\n",
       "      <td>\"The Stinky Kid\" email went home.</td>\n",
       "      <td>http://www.reddit.com/r/Teachers/comments/2p1b3h/the_stinky_kid_email_went_home/</td>\n",
       "      <td>1.418367e+09</td>\n",
       "      <td>1.300675e+09</td>\n",
       "      <td>t2_4zl2u</td>\n",
       "      <td>NaN</td>\n",
       "      <td>NaN</td>\n",
       "      <td>NaN</td>\n",
       "      <td>2014-12-12 01:56:00+00:00</td>\n",
       "      <td>\"The Stinky Kid\" email went home.So I am a first year fifth grade teacher, and I absolutely love what I do.\\n\\nI love fifth grade, and I love watching the kids grow up during this time. It is the middle of the year, and I finally snapped and sent out what might be my favorite email I've ever written. Don't get me wrong, I love my students and I love teaching them, but let's be real...5th graders can get pretty stinky.\\n\\nAfter a field trip where they were walking a far distance, they all cam...</td>\n",
       "      <td>2014</td>\n",
       "    </tr>\n",
       "    <tr>\n",
       "      <th>2</th>\n",
       "      <td>icookmath</td>\n",
       "      <td></td>\n",
       "      <td>Secondary Math, History</td>\n",
       "      <td>1408493028</td>\n",
       "      <td>imgur.com</td>\n",
       "      <td>https://www.reddit.com/r/Teachers/comments/2e18tj/i_should_probably_be_planning_lessons_but/</td>\n",
       "      <td>0</td>\n",
       "      <td>2e18tj</td>\n",
       "      <td>False</td>\n",
       "      <td>{'content': '&amp;lt;iframe class=\"embedly-embed\" src=\"//cdn.embedly.com/widgets/media.html?src=http%3A%2F%2Fimgur.com%2Fa%2Fexojj%2Fembed&amp;amp;url=http%3A%2F%2Fimgur.com%2Fa%2Fexojj&amp;amp;image=http%3A%2F%2Fi.imgur.com%2FDHtlK9U.jpg&amp;amp;key=2aa3c4d5f3de4f5b9120b660ad850dc9&amp;amp;type=text%2Fhtml&amp;amp;schema=imgur\" width=\"550\" height=\"550\" scrolling=\"no\" frameborder=\"0\" allowfullscreen&amp;gt;&amp;lt;/iframe&amp;gt;', 'height': 550, 'scrolling': False, 'width': 550}</td>\n",
       "      <td>44</td>\n",
       "      <td>False</td>\n",
       "      <td>/r/Teachers/comments/2e18tj/i_should_probably_be_planning_lessons_but/</td>\n",
       "      <td>1441211489</td>\n",
       "      <td>513</td>\n",
       "      <td>{}</td>\n",
       "      <td></td>\n",
       "      <td>False</td>\n",
       "      <td>Teachers</td>\n",
       "      <td>t5_2qqcs</td>\n",
       "      <td>http://b.thumbs.redditmedia.com/isY-E4p-9I9_E6o_.jpg</td>\n",
       "      <td>I should probably be planning lessons, but...</td>\n",
       "      <td>http://imgur.com/a/exojj</td>\n",
       "      <td>1.408511e+09</td>\n",
       "      <td>1.357525e+09</td>\n",
       "      <td>t2_a4o2t</td>\n",
       "      <td>{'oembed': {'description': 'The most viral images on the internet, curated in real time by a dedicated community through commenting, voting and sharing.', 'height': 550, 'html': '&amp;lt;iframe class=\"embedly-embed\" src=\"//cdn.embedly.com/widgets/media.html?src=http%3A%2F%2Fimgur.com%2Fa%2Fexojj%2Fembed&amp;amp;url=http%3A%2F%2Fimgur.com%2Fa%2Fexojj&amp;amp;image=http%3A%2F%2Fi.imgur.com%2FDHtlK9U.jpg&amp;amp;key=2aa3c4d5f3de4f5b9120b660ad850dc9&amp;amp;type=text%2Fhtml&amp;amp;schema=imgur\" width=\"550\" height=\"550...</td>\n",
       "      <td>NaN</td>\n",
       "      <td>NaN</td>\n",
       "      <td>2014-08-20 00:03:48+00:00</td>\n",
       "      <td>I should probably be planning lessons, but...</td>\n",
       "      <td>2014</td>\n",
       "    </tr>\n",
       "    <tr>\n",
       "      <th>3</th>\n",
       "      <td>[deleted]</td>\n",
       "      <td>None</td>\n",
       "      <td>None</td>\n",
       "      <td>1395938159</td>\n",
       "      <td>i.imgur.com</td>\n",
       "      <td>https://www.reddit.com/r/Teachers/comments/21ilc2/a_group_of_seniors_posted_this_letter_to_the_door/</td>\n",
       "      <td>0</td>\n",
       "      <td>21ilc2</td>\n",
       "      <td>False</td>\n",
       "      <td>{}</td>\n",
       "      <td>91</td>\n",
       "      <td>False</td>\n",
       "      <td>/r/Teachers/comments/21ilc2/a_group_of_seniors_posted_this_letter_to_the_door/</td>\n",
       "      <td>1441851772</td>\n",
       "      <td>497</td>\n",
       "      <td>{}</td>\n",
       "      <td></td>\n",
       "      <td>False</td>\n",
       "      <td>Teachers</td>\n",
       "      <td>t5_2qqcs</td>\n",
       "      <td>default</td>\n",
       "      <td>A group of seniors posted this letter to the door of all their English IV teachers. One teacher took a red pen to hers and posted it back up.</td>\n",
       "      <td>http://i.imgur.com/BggAOpc.jpg</td>\n",
       "      <td>1.395956e+09</td>\n",
       "      <td>NaN</td>\n",
       "      <td>NaN</td>\n",
       "      <td>NaN</td>\n",
       "      <td>NaN</td>\n",
       "      <td>NaN</td>\n",
       "      <td>2014-03-27 16:35:59+00:00</td>\n",
       "      <td>A group of seniors posted this letter to the door of all their English IV teachers. One teacher took a red pen to hers and posted it back up.</td>\n",
       "      <td>2014</td>\n",
       "    </tr>\n",
       "    <tr>\n",
       "      <th>4</th>\n",
       "      <td>Brad_Collins</td>\n",
       "      <td>None</td>\n",
       "      <td>None</td>\n",
       "      <td>1408377360</td>\n",
       "      <td>i.imgur.com</td>\n",
       "      <td>https://www.reddit.com/r/Teachers/comments/2dw6r7/my_girlfriends_first_day_of_teaching/</td>\n",
       "      <td>0</td>\n",
       "      <td>2dw6r7</td>\n",
       "      <td>False</td>\n",
       "      <td>{}</td>\n",
       "      <td>34</td>\n",
       "      <td>False</td>\n",
       "      <td>/r/Teachers/comments/2dw6r7/my_girlfriends_first_day_of_teaching/</td>\n",
       "      <td>1441213908</td>\n",
       "      <td>486</td>\n",
       "      <td>{}</td>\n",
       "      <td></td>\n",
       "      <td>False</td>\n",
       "      <td>Teachers</td>\n",
       "      <td>t5_2qqcs</td>\n",
       "      <td>http://a.thumbs.redditmedia.com/NipI9B-VfXYwGGlX.jpg</td>\n",
       "      <td>My girlfriend's first day of teaching.</td>\n",
       "      <td>http://i.imgur.com/gP7WUYH.png</td>\n",
       "      <td>1.408395e+09</td>\n",
       "      <td>1.378972e+09</td>\n",
       "      <td>t2_d4dfj</td>\n",
       "      <td>NaN</td>\n",
       "      <td>NaN</td>\n",
       "      <td>NaN</td>\n",
       "      <td>2014-08-18 15:56:00+00:00</td>\n",
       "      <td>My girlfriend's first day of teaching.</td>\n",
       "      <td>2014</td>\n",
       "    </tr>\n",
       "  </tbody>\n",
       "</table>\n",
       "</div>"
      ],
      "text/plain": [
       "          author author_flair_css_class        author_flair_text  created_utc  \\\n",
       "0      [deleted]                   None                     None   1408193703   \n",
       "1  lolwuthahaomg                   None                     None   1418349360   \n",
       "2      icookmath                         Secondary Math, History   1408493028   \n",
       "3      [deleted]                   None                     None   1395938159   \n",
       "4   Brad_Collins                   None                     None   1408377360   \n",
       "\n",
       "          domain  \\\n",
       "0    i.imgur.com   \n",
       "1  self.Teachers   \n",
       "2      imgur.com   \n",
       "3    i.imgur.com   \n",
       "4    i.imgur.com   \n",
       "\n",
       "                                                                                              full_link  \\\n",
       "0  https://www.reddit.com/r/Teachers/comments/2dpvhl/rpics_didnt_give_much_love_my_sister_is_a_special/   \n",
       "1                     https://www.reddit.com/r/Teachers/comments/2p1b3h/the_stinky_kid_email_went_home/   \n",
       "2          https://www.reddit.com/r/Teachers/comments/2e18tj/i_should_probably_be_planning_lessons_but/   \n",
       "3  https://www.reddit.com/r/Teachers/comments/21ilc2/a_group_of_seniors_posted_this_letter_to_the_door/   \n",
       "4               https://www.reddit.com/r/Teachers/comments/2dw6r7/my_girlfriends_first_day_of_teaching/   \n",
       "\n",
       "   gilded      id  is_self  \\\n",
       "0       0  2dpvhl    False   \n",
       "1       0  2p1b3h     True   \n",
       "2       0  2e18tj    False   \n",
       "3       0  21ilc2    False   \n",
       "4       0  2dw6r7    False   \n",
       "\n",
       "                                                                                                                                                                                                                                                                                                                                                                                                                                                        media_embed  \\\n",
       "0                                                                                                                                                                                                                                                                                                                                                                                                                                                                {}   \n",
       "1                                                                                                                                                                                                                                                                                                                                                                                                                                                                {}   \n",
       "2  {'content': '&lt;iframe class=\"embedly-embed\" src=\"//cdn.embedly.com/widgets/media.html?src=http%3A%2F%2Fimgur.com%2Fa%2Fexojj%2Fembed&amp;url=http%3A%2F%2Fimgur.com%2Fa%2Fexojj&amp;image=http%3A%2F%2Fi.imgur.com%2FDHtlK9U.jpg&amp;key=2aa3c4d5f3de4f5b9120b660ad850dc9&amp;type=text%2Fhtml&amp;schema=imgur\" width=\"550\" height=\"550\" scrolling=\"no\" frameborder=\"0\" allowfullscreen&gt;&lt;/iframe&gt;', 'height': 550, 'scrolling': False, 'width': 550}   \n",
       "3                                                                                                                                                                                                                                                                                                                                                                                                                                                                {}   \n",
       "4                                                                                                                                                                                                                                                                                                                                                                                                                                                                {}   \n",
       "\n",
       "   num_comments  over_18  \\\n",
       "0            23    False   \n",
       "1           214    False   \n",
       "2            44    False   \n",
       "3            91    False   \n",
       "4            34    False   \n",
       "\n",
       "                                                                        permalink  \\\n",
       "0  /r/Teachers/comments/2dpvhl/rpics_didnt_give_much_love_my_sister_is_a_special/   \n",
       "1                     /r/Teachers/comments/2p1b3h/the_stinky_kid_email_went_home/   \n",
       "2          /r/Teachers/comments/2e18tj/i_should_probably_be_planning_lessons_but/   \n",
       "3  /r/Teachers/comments/21ilc2/a_group_of_seniors_posted_this_letter_to_the_door/   \n",
       "4               /r/Teachers/comments/2dw6r7/my_girlfriends_first_day_of_teaching/   \n",
       "\n",
       "   retrieved_on  score secure_media_embed  \\\n",
       "0    1441216853    672                 {}   \n",
       "1    1441024393    516                 {}   \n",
       "2    1441211489    513                 {}   \n",
       "3    1441851772    497                 {}   \n",
       "4    1441213908    486                 {}   \n",
       "\n",
       "                                                                                                                                                                                                                                                                                                                                                                                                                                                                                                              selftext  \\\n",
       "0                                                                                                                                                                                                                                                                                                                                                                                                                                                                                                                        \n",
       "1  So I am a first year fifth grade teacher, and I absolutely love what I do.\\n\\nI love fifth grade, and I love watching the kids grow up during this time. It is the middle of the year, and I finally snapped and sent out what might be my favorite email I've ever written. Don't get me wrong, I love my students and I love teaching them, but let's be real...5th graders can get pretty stinky.\\n\\nAfter a field trip where they were walking a far distance, they all came into my classroom and took off ...   \n",
       "2                                                                                                                                                                                                                                                                                                                                                                                                                                                                                                                        \n",
       "3                                                                                                                                                                                                                                                                                                                                                                                                                                                                                                                        \n",
       "4                                                                                                                                                                                                                                                                                                                                                                                                                                                                                                                        \n",
       "\n",
       "   stickied subreddit subreddit_id  \\\n",
       "0     False  Teachers     t5_2qqcs   \n",
       "1     False  Teachers     t5_2qqcs   \n",
       "2     False  Teachers     t5_2qqcs   \n",
       "3     False  Teachers     t5_2qqcs   \n",
       "4     False  Teachers     t5_2qqcs   \n",
       "\n",
       "                                              thumbnail  \\\n",
       "0  http://b.thumbs.redditmedia.com/UAot5elMHVI_90j_.jpg   \n",
       "1                                                  self   \n",
       "2  http://b.thumbs.redditmedia.com/isY-E4p-9I9_E6o_.jpg   \n",
       "3                                               default   \n",
       "4  http://a.thumbs.redditmedia.com/NipI9B-VfXYwGGlX.jpg   \n",
       "\n",
       "                                                                                                                                           title  \\\n",
       "0          r/pics didn't give much love. My sister is a special education teacher, this is how she designed the door go her classroom this year.   \n",
       "1                                                                                                              \"The Stinky Kid\" email went home.   \n",
       "2                                                                                                  I should probably be planning lessons, but...   \n",
       "3  A group of seniors posted this letter to the door of all their English IV teachers. One teacher took a red pen to hers and posted it back up.   \n",
       "4                                                                                                         My girlfriend's first day of teaching.   \n",
       "\n",
       "                                                                                url  \\\n",
       "0                                                    http://i.imgur.com/x8U13b6.jpg   \n",
       "1  http://www.reddit.com/r/Teachers/comments/2p1b3h/the_stinky_kid_email_went_home/   \n",
       "2                                                          http://imgur.com/a/exojj   \n",
       "3                                                    http://i.imgur.com/BggAOpc.jpg   \n",
       "4                                                    http://i.imgur.com/gP7WUYH.png   \n",
       "\n",
       "        created  author_created_utc author_fullname  \\\n",
       "0  1.408212e+09                 NaN             NaN   \n",
       "1  1.418367e+09        1.300675e+09        t2_4zl2u   \n",
       "2  1.408511e+09        1.357525e+09        t2_a4o2t   \n",
       "3  1.395956e+09                 NaN             NaN   \n",
       "4  1.408395e+09        1.378972e+09        t2_d4dfj   \n",
       "\n",
       "                                                                                                                                                                                                                                                                                                                                                                                                                                                                                                                 media  \\\n",
       "0                                                                                                                                                                                                                                                                                                                                                                                                                                                                                                                  NaN   \n",
       "1                                                                                                                                                                                                                                                                                                                                                                                                                                                                                                                  NaN   \n",
       "2  {'oembed': {'description': 'The most viral images on the internet, curated in real time by a dedicated community through commenting, voting and sharing.', 'height': 550, 'html': '&lt;iframe class=\"embedly-embed\" src=\"//cdn.embedly.com/widgets/media.html?src=http%3A%2F%2Fimgur.com%2Fa%2Fexojj%2Fembed&amp;url=http%3A%2F%2Fimgur.com%2Fa%2Fexojj&amp;image=http%3A%2F%2Fi.imgur.com%2FDHtlK9U.jpg&amp;key=2aa3c4d5f3de4f5b9120b660ad850dc9&amp;type=text%2Fhtml&amp;schema=imgur\" width=\"550\" height=\"550...   \n",
       "3                                                                                                                                                                                                                                                                                                                                                                                                                                                                                                                  NaN   \n",
       "4                                                                                                                                                                                                                                                                                                                                                                                                                                                                                                                  NaN   \n",
       "\n",
       "   edited secure_media                      date  \\\n",
       "0     NaN          NaN 2014-08-16 12:55:03+00:00   \n",
       "1     NaN          NaN 2014-12-12 01:56:00+00:00   \n",
       "2     NaN          NaN 2014-08-20 00:03:48+00:00   \n",
       "3     NaN          NaN 2014-03-27 16:35:59+00:00   \n",
       "4     NaN          NaN 2014-08-18 15:56:00+00:00   \n",
       "\n",
       "                                                                                                                                                                                                                                                                                                                                                                                                                                                                                                              combined  \\\n",
       "0                                                                                                                                                                                                                                                                                                                                                                                r/pics didn't give much love. My sister is a special education teacher, this is how she designed the door go her classroom this year.   \n",
       "1  \"The Stinky Kid\" email went home.So I am a first year fifth grade teacher, and I absolutely love what I do.\\n\\nI love fifth grade, and I love watching the kids grow up during this time. It is the middle of the year, and I finally snapped and sent out what might be my favorite email I've ever written. Don't get me wrong, I love my students and I love teaching them, but let's be real...5th graders can get pretty stinky.\\n\\nAfter a field trip where they were walking a far distance, they all cam...   \n",
       "2                                                                                                                                                                                                                                                                                                                                                                                                                                                                        I should probably be planning lessons, but...   \n",
       "3                                                                                                                                                                                                                                                                                                                                                                        A group of seniors posted this letter to the door of all their English IV teachers. One teacher took a red pen to hers and posted it back up.   \n",
       "4                                                                                                                                                                                                                                                                                                                                                                                                                                                                               My girlfriend's first day of teaching.   \n",
       "\n",
       "   year  \n",
       "0  2014  \n",
       "1  2014  \n",
       "2  2014  \n",
       "3  2014  \n",
       "4  2014  "
      ]
     },
     "execution_count": 12,
     "metadata": {},
     "output_type": "execute_result"
    }
   ],
   "source": [
    "top_2014.head()"
   ]
  },
  {
   "cell_type": "code",
   "execution_count": 13,
   "id": "97a3c48d",
   "metadata": {},
   "outputs": [
    {
     "name": "stdout",
     "output_type": "stream",
     "text": [
      "             author author_flair_css_class        author_flair_text  \\\n",
      "0         [deleted]                   None                     None   \n",
      "1     lolwuthahaomg                   None                     None   \n",
      "2         icookmath                         Secondary Math, History   \n",
      "3         [deleted]                   None                     None   \n",
      "4      Brad_Collins                   None                     None   \n",
      "5  Mr_SelfConstruct                                 Student Teacher   \n",
      "6           mgir768                   None                     None   \n",
      "7      Converse1981                   None                     None   \n",
      "8         [deleted]                   None                     None   \n",
      "9        Dmac680chi                   None                     None   \n",
      "\n",
      "   created_utc         domain  \\\n",
      "0   1408193703    i.imgur.com   \n",
      "1   1418349360  self.Teachers   \n",
      "2   1408493028      imgur.com   \n",
      "3   1395938159    i.imgur.com   \n",
      "4   1408377360    i.imgur.com   \n",
      "5   1392326293    i.imgur.com   \n",
      "6   1408654292    i.imgur.com   \n",
      "7   1400029295    i.imgur.com   \n",
      "8   1398867602      imgur.com   \n",
      "9   1410615917  self.Teachers   \n",
      "\n",
      "                                                                                              full_link  \\\n",
      "0  https://www.reddit.com/r/Teachers/comments/2dpvhl/rpics_didnt_give_much_love_my_sister_is_a_special/   \n",
      "1                     https://www.reddit.com/r/Teachers/comments/2p1b3h/the_stinky_kid_email_went_home/   \n",
      "2          https://www.reddit.com/r/Teachers/comments/2e18tj/i_should_probably_be_planning_lessons_but/   \n",
      "3  https://www.reddit.com/r/Teachers/comments/21ilc2/a_group_of_seniors_posted_this_letter_to_the_door/   \n",
      "4               https://www.reddit.com/r/Teachers/comments/2dw6r7/my_girlfriends_first_day_of_teaching/   \n",
      "5       https://www.reddit.com/r/Teachers/comments/1xu4om/how_i_sometimes_feel_as_a_student_teacher_in/   \n",
      "6          https://www.reddit.com/r/Teachers/comments/2e7rq4/i_got_the_most_amazing_teacher_gift_match/   \n",
      "7   https://www.reddit.com/r/Teachers/comments/25hz5c/always_be_good_to_the_school_janitors_treat_them/   \n",
      "8                           https://www.reddit.com/r/Teachers/comments/24d9zv/why_i_am_still_a_teacher/   \n",
      "9     https://www.reddit.com/r/Teachers/comments/2gad5b/after_emailing_my_sisters_teacher_about_how_he/   \n",
      "\n",
      "   gilded      id  is_self  \\\n",
      "0       0  2dpvhl    False   \n",
      "1       0  2p1b3h     True   \n",
      "2       0  2e18tj    False   \n",
      "3       0  21ilc2    False   \n",
      "4       0  2dw6r7    False   \n",
      "5       0  1xu4om    False   \n",
      "6       0  2e7rq4    False   \n",
      "7       0  25hz5c    False   \n",
      "8       0  24d9zv    False   \n",
      "9       0  2gad5b     True   \n",
      "\n",
      "                                                                                                                                                                                                                                                                                                                                                                                                                                                        media_embed  \\\n",
      "0                                                                                                                                                                                                                                                                                                                                                                                                                                                                {}   \n",
      "1                                                                                                                                                                                                                                                                                                                                                                                                                                                                {}   \n",
      "2  {'content': '&lt;iframe class=\"embedly-embed\" src=\"//cdn.embedly.com/widgets/media.html?src=http%3A%2F%2Fimgur.com%2Fa%2Fexojj%2Fembed&amp;url=http%3A%2F%2Fimgur.com%2Fa%2Fexojj&amp;image=http%3A%2F%2Fi.imgur.com%2FDHtlK9U.jpg&amp;key=2aa3c4d5f3de4f5b9120b660ad850dc9&amp;type=text%2Fhtml&amp;schema=imgur\" width=\"550\" height=\"550\" scrolling=\"no\" frameborder=\"0\" allowfullscreen&gt;&lt;/iframe&gt;', 'height': 550, 'scrolling': False, 'width': 550}   \n",
      "3                                                                                                                                                                                                                                                                                                                                                                                                                                                                {}   \n",
      "4                                                                                                                                                                                                                                                                                                                                                                                                                                                                {}   \n",
      "5                                                                                                                                                                                                                                                                                                                                                                                                                                                                {}   \n",
      "6                                                                                                                                                                                                                                                                                                                                                                                                                                                                {}   \n",
      "7                                                                                                                                                                                                                                                                                                                                                                                                                                                                {}   \n",
      "8                                                                                                                                                                                                                                                                                                                                                                                                                                                                {}   \n",
      "9                                                                                                                                                                                                                                                                                                                                                                                                                                                                {}   \n",
      "\n",
      "   num_comments  over_18  \\\n",
      "0            23    False   \n",
      "1           214    False   \n",
      "2            44    False   \n",
      "3            91    False   \n",
      "4            34    False   \n",
      "5            16    False   \n",
      "6            34    False   \n",
      "7            39    False   \n",
      "8            42    False   \n",
      "9           139    False   \n",
      "\n",
      "                                                                        permalink  \\\n",
      "0  /r/Teachers/comments/2dpvhl/rpics_didnt_give_much_love_my_sister_is_a_special/   \n",
      "1                     /r/Teachers/comments/2p1b3h/the_stinky_kid_email_went_home/   \n",
      "2          /r/Teachers/comments/2e18tj/i_should_probably_be_planning_lessons_but/   \n",
      "3  /r/Teachers/comments/21ilc2/a_group_of_seniors_posted_this_letter_to_the_door/   \n",
      "4               /r/Teachers/comments/2dw6r7/my_girlfriends_first_day_of_teaching/   \n",
      "5       /r/Teachers/comments/1xu4om/how_i_sometimes_feel_as_a_student_teacher_in/   \n",
      "6          /r/Teachers/comments/2e7rq4/i_got_the_most_amazing_teacher_gift_match/   \n",
      "7   /r/Teachers/comments/25hz5c/always_be_good_to_the_school_janitors_treat_them/   \n",
      "8                           /r/Teachers/comments/24d9zv/why_i_am_still_a_teacher/   \n",
      "9     /r/Teachers/comments/2gad5b/after_emailing_my_sisters_teacher_about_how_he/   \n",
      "\n",
      "   retrieved_on  score secure_media_embed  \\\n",
      "0    1441216853    672                 {}   \n",
      "1    1441024393    516                 {}   \n",
      "2    1441211489    513                 {}   \n",
      "3    1441851772    497                 {}   \n",
      "4    1441213908    486                 {}   \n",
      "5    1441914690    387                 {}   \n",
      "6    1441208286    354                 {}   \n",
      "7    1441538181    253                 {}   \n",
      "8    1441557476    246                 {}   \n",
      "9    1441173127    226                 {}   \n",
      "\n",
      "                                                                                                                                                                                                                                                                                                                                                                                                                                                                                                              selftext  \\\n",
      "0                                                                                                                                                                                                                                                                                                                                                                                                                                                                                                                        \n",
      "1  So I am a first year fifth grade teacher, and I absolutely love what I do.\\n\\nI love fifth grade, and I love watching the kids grow up during this time. It is the middle of the year, and I finally snapped and sent out what might be my favorite email I've ever written. Don't get me wrong, I love my students and I love teaching them, but let's be real...5th graders can get pretty stinky.\\n\\nAfter a field trip where they were walking a far distance, they all came into my classroom and took off ...   \n",
      "2                                                                                                                                                                                                                                                                                                                                                                                                                                                                                                                        \n",
      "3                                                                                                                                                                                                                                                                                                                                                                                                                                                                                                                        \n",
      "4                                                                                                                                                                                                                                                                                                                                                                                                                                                                                                                        \n",
      "5                                                                                                                                                                                                                                                                                                                                                                                                                                                                                                                        \n",
      "6                                                                                                                                                                                                                                                                                                                                                                                                                                                                                                                        \n",
      "7                                                                                                                                                                                                                                                                                                                                                                                                                                                                                                                        \n",
      "8                                                                                                                                                                                                                                                                                                                                                                                                                                                                                                                        \n",
      "9  Here is the email:\\n\\n\"Oh, yes. The impact of the result is far more effective if returned to the student as quickly as possible.\\n\\nNo real trick to it, really. I consider everything in life as an \"inbox.\" Like email.\\n\\nEvery night I make it point to go to sleep with an empty inbox, having responded to and attended to every email received that day. This way it does not build up even a day.\\n\\nFrom email, to grading, to phone calls, even to the refrigerator, everything is seen as an inbox. ...   \n",
      "\n",
      "   stickied subreddit subreddit_id  \\\n",
      "0     False  Teachers     t5_2qqcs   \n",
      "1     False  Teachers     t5_2qqcs   \n",
      "2     False  Teachers     t5_2qqcs   \n",
      "3     False  Teachers     t5_2qqcs   \n",
      "4     False  Teachers     t5_2qqcs   \n",
      "5     False  Teachers     t5_2qqcs   \n",
      "6     False  Teachers     t5_2qqcs   \n",
      "7     False  Teachers     t5_2qqcs   \n",
      "8     False  Teachers     t5_2qqcs   \n",
      "9     False  Teachers     t5_2qqcs   \n",
      "\n",
      "                                                                         thumbnail  \\\n",
      "0                             http://b.thumbs.redditmedia.com/UAot5elMHVI_90j_.jpg   \n",
      "1                                                                             self   \n",
      "2                             http://b.thumbs.redditmedia.com/isY-E4p-9I9_E6o_.jpg   \n",
      "3                                                                          default   \n",
      "4                             http://a.thumbs.redditmedia.com/NipI9B-VfXYwGGlX.jpg   \n",
      "5                             http://f.thumbs.redditmedia.com/W_aAXrAcTige7gF5.jpg   \n",
      "6  http://b.thumbs.redditmedia.com/DwHC3IxjE-kGWX48mP7T69kspUBtK9cwzJWzAK7lNWM.jpg   \n",
      "7                             http://b.thumbs.redditmedia.com/z3wYCQgMeIkH57ja.jpg   \n",
      "8                                                                          default   \n",
      "9                                                                             self   \n",
      "\n",
      "                                                                                                                                           title  \\\n",
      "0          r/pics didn't give much love. My sister is a special education teacher, this is how she designed the door go her classroom this year.   \n",
      "1                                                                                                              \"The Stinky Kid\" email went home.   \n",
      "2                                                                                                  I should probably be planning lessons, but...   \n",
      "3  A group of seniors posted this letter to the door of all their English IV teachers. One teacher took a red pen to hers and posted it back up.   \n",
      "4                                                                                                         My girlfriend's first day of teaching.   \n",
      "5                                                                                       How I sometimes feel as a student teacher in elementary.   \n",
      "6                                                                                                      I got the most amazing teacher gift match   \n",
      "7            Always be good to the school janitors. Treat them with respect and they'll help you out the way they helped me in this situation...   \n",
      "8                                                                                                                       Why I am still a teacher   \n",
      "9                                            After emailing my sisters teacher about how he gets homework back so quick, he sends me this email.   \n",
      "\n",
      "                                                                                                url  \\\n",
      "0                                                                    http://i.imgur.com/x8U13b6.jpg   \n",
      "1                  http://www.reddit.com/r/Teachers/comments/2p1b3h/the_stinky_kid_email_went_home/   \n",
      "2                                                                          http://imgur.com/a/exojj   \n",
      "3                                                                    http://i.imgur.com/BggAOpc.jpg   \n",
      "4                                                                    http://i.imgur.com/gP7WUYH.png   \n",
      "5                                                                    http://i.imgur.com/CaSxAOk.jpg   \n",
      "6                                                                    http://i.imgur.com/EDVDTkb.jpg   \n",
      "7                                                                    http://i.imgur.com/YuAUbW5.jpg   \n",
      "8                                                                    http://imgur.com/gallery/R7qVt   \n",
      "9  http://www.reddit.com/r/Teachers/comments/2gad5b/after_emailing_my_sisters_teacher_about_how_he/   \n",
      "\n",
      "        created  author_created_utc author_fullname  \\\n",
      "0  1.408212e+09                 NaN             NaN   \n",
      "1  1.418367e+09        1.300675e+09        t2_4zl2u   \n",
      "2  1.408511e+09        1.357525e+09        t2_a4o2t   \n",
      "3  1.395956e+09                 NaN             NaN   \n",
      "4  1.408395e+09        1.378972e+09        t2_d4dfj   \n",
      "5  1.392344e+09        1.390886e+09        t2_f0g6m   \n",
      "6  1.408672e+09        1.365727e+09        t2_bab6t   \n",
      "7  1.400047e+09                 NaN             NaN   \n",
      "8  1.398886e+09                 NaN             NaN   \n",
      "9  1.410634e+09        1.380047e+09        t2_d9sed   \n",
      "\n",
      "                                                                                                                                                                                                                                                                                                                                                                                                                                                                                                                 media  \\\n",
      "0                                                                                                                                                                                                                                                                                                                                                                                                                                                                                                                  NaN   \n",
      "1                                                                                                                                                                                                                                                                                                                                                                                                                                                                                                                  NaN   \n",
      "2  {'oembed': {'description': 'The most viral images on the internet, curated in real time by a dedicated community through commenting, voting and sharing.', 'height': 550, 'html': '&lt;iframe class=\"embedly-embed\" src=\"//cdn.embedly.com/widgets/media.html?src=http%3A%2F%2Fimgur.com%2Fa%2Fexojj%2Fembed&amp;url=http%3A%2F%2Fimgur.com%2Fa%2Fexojj&amp;image=http%3A%2F%2Fi.imgur.com%2FDHtlK9U.jpg&amp;key=2aa3c4d5f3de4f5b9120b660ad850dc9&amp;type=text%2Fhtml&amp;schema=imgur\" width=\"550\" height=\"550...   \n",
      "3                                                                                                                                                                                                                                                                                                                                                                                                                                                                                                                  NaN   \n",
      "4                                                                                                                                                                                                                                                                                                                                                                                                                                                                                                                  NaN   \n",
      "5                                                                                                                                                                                                                                                                                                                                                                                                                                                                                                                  NaN   \n",
      "6                                                                                                                                                                                                                                                                                                                                                                                                                                                                                                                  NaN   \n",
      "7                                                                                                                                                                                                                                                                                                                                                                                                                                                                                                                  NaN   \n",
      "8                                                                                                                                                                                                                                                                                                                                                                                                                                                                                                                  NaN   \n",
      "9                                                                                                                                                                                                                                                                                                                                                                                                                                                                                                                  NaN   \n",
      "\n",
      "   edited secure_media                      date  \\\n",
      "0     NaN          NaN 2014-08-16 12:55:03+00:00   \n",
      "1     NaN          NaN 2014-12-12 01:56:00+00:00   \n",
      "2     NaN          NaN 2014-08-20 00:03:48+00:00   \n",
      "3     NaN          NaN 2014-03-27 16:35:59+00:00   \n",
      "4     NaN          NaN 2014-08-18 15:56:00+00:00   \n",
      "5     NaN          NaN 2014-02-13 21:18:13+00:00   \n",
      "6     NaN          NaN 2014-08-21 20:51:32+00:00   \n",
      "7     NaN          NaN 2014-05-14 01:01:35+00:00   \n",
      "8     NaN          NaN 2014-04-30 14:20:02+00:00   \n",
      "9     NaN          NaN 2014-09-13 13:45:17+00:00   \n",
      "\n",
      "                                                                                                                                                                                                                                                                                                                                                                                                                                                                                                              combined  \\\n",
      "0                                                                                                                                                                                                                                                                                                                                                                                r/pics didn't give much love. My sister is a special education teacher, this is how she designed the door go her classroom this year.   \n",
      "1  \"The Stinky Kid\" email went home.So I am a first year fifth grade teacher, and I absolutely love what I do.\\n\\nI love fifth grade, and I love watching the kids grow up during this time. It is the middle of the year, and I finally snapped and sent out what might be my favorite email I've ever written. Don't get me wrong, I love my students and I love teaching them, but let's be real...5th graders can get pretty stinky.\\n\\nAfter a field trip where they were walking a far distance, they all cam...   \n",
      "2                                                                                                                                                                                                                                                                                                                                                                                                                                                                        I should probably be planning lessons, but...   \n",
      "3                                                                                                                                                                                                                                                                                                                                                                        A group of seniors posted this letter to the door of all their English IV teachers. One teacher took a red pen to hers and posted it back up.   \n",
      "4                                                                                                                                                                                                                                                                                                                                                                                                                                                                               My girlfriend's first day of teaching.   \n",
      "5                                                                                                                                                                                                                                                                                                                                                                                                                                                             How I sometimes feel as a student teacher in elementary.   \n",
      "6                                                                                                                                                                                                                                                                                                                                                                                                                                                                            I got the most amazing teacher gift match   \n",
      "7                                                                                                                                                                                                                                                                                                                                                                                  Always be good to the school janitors. Treat them with respect and they'll help you out the way they helped me in this situation...   \n",
      "8                                                                                                                                                                                                                                                                                                                                                                                                                                                                                             Why I am still a teacher   \n",
      "9  After emailing my sisters teacher about how he gets homework back so quick, he sends me this email.Here is the email:\\n\\n\"Oh, yes. The impact of the result is far more effective if returned to the student as quickly as possible.\\n\\nNo real trick to it, really. I consider everything in life as an \"inbox.\" Like email.\\n\\nEvery night I make it point to go to sleep with an empty inbox, having responded to and attended to every email received that day. This way it does not build up even a day.\\n\\...   \n",
      "\n",
      "   year  row_id  \n",
      "0  2014       1  \n",
      "1  2014       2  \n",
      "2  2014       3  \n",
      "3  2014       4  \n",
      "4  2014       5  \n",
      "5  2014       6  \n",
      "6  2014       7  \n",
      "7  2014       8  \n",
      "8  2014       9  \n",
      "9  2014      10  \n"
     ]
    }
   ],
   "source": [
    "top_2014[\"row_id\"] = top_2014.index + 1\n",
    "#print first 10 rows \n",
    "print (top_2014.head(10))"
   ]
  },
  {
   "cell_type": "code",
   "execution_count": 14,
   "id": "9b06fa1c",
   "metadata": {},
   "outputs": [
    {
     "name": "stdout",
     "output_type": "stream",
     "text": [
      "   row_id  \\\n",
      "0       1   \n",
      "1       2   \n",
      "2       3   \n",
      "3       4   \n",
      "4       5   \n",
      "5       6   \n",
      "6       7   \n",
      "7       8   \n",
      "8       9   \n",
      "9      10   \n",
      "\n",
      "                                                                                                                                                                                                                                                                                                                                                                                                                                                                                                              combined  \n",
      "0                                                                                                                                                                                                                                                                                                                                                                                r pics didn t give much love  my sister is a special education teacher  this is how she designed the door go her classroom this year   \n",
      "1   the stinky kid  email went home so i am a first year fifth grade teacher  and i absolutely love what i do   i love fifth grade  and i love watching the kids grow up during this time  it is the middle of the year  and i finally snapped and sent out what might be my favorite email i ve ever written  don t get me wrong  i love my students and i love teaching them  but let s be real    th graders can get pretty stinky   after a field trip where they were walking a far distance  they all came in...  \n",
      "2                                                                                                                                                                                                                                                                                                                                                                                                                                                                        i should probably be planning lessons  but     \n",
      "3                                                                                                                                                                                                                                                                                                                                                                        a group of seniors posted this letter to the door of all their english iv teachers  one teacher took a red pen to hers and posted it back up   \n",
      "4                                                                                                                                                                                                                                                                                                                                                                                                                                                                               my girlfriend s first day of teaching   \n",
      "5                                                                                                                                                                                                                                                                                                                                                                                                                                                             how i sometimes feel as a student teacher in elementary   \n",
      "6                                                                                                                                                                                                                                                                                                                                                                                                                                                                            i got the most amazing teacher gift match  \n",
      "7                                                                                                                                                                                                                                                                                                                                                                                  always be good to the school janitors  treat them with respect and they ll help you out the way they helped me in this situation     \n",
      "8                                                                                                                                                                                                                                                                                                                                                                                                                                                                                             why i am still a teacher  \n",
      "9  after emailing my sisters teacher about how he gets homework back so quick  he sends me this email here is the email    oh  yes  the impact of the result is far more effective if returned to the student as quickly as possible   no real trick to it  really  i consider everything in life as an  inbox   like email   every night i make it point to go to sleep with an empty inbox  having responded to and attended to every email received that day  this way it does not build up even a day   from em...  \n"
     ]
    },
    {
     "name": "stderr",
     "output_type": "stream",
     "text": [
      "/var/folders/4_/948td82x7jlf4pz0c4dtqn_00000gn/T/ipykernel_30916/207302577.py:4: FutureWarning: The default value of regex will change from True to False in a future version.\n",
      "  top_2014_subset['combined'] = top_2014_subset['combined'].str.replace(\"[^a-zA-Z#]\", \" \")\n"
     ]
    }
   ],
   "source": [
    "top_2014_subset = top_2014[['row_id', 'combined']].copy()\n",
    "#data clean-up\n",
    "#remove all non-aphabet characters\n",
    "top_2014_subset['combined'] = top_2014_subset['combined'].str.replace(\"[^a-zA-Z#]\", \" \")\n",
    "#covert to lower-case\n",
    "top_2014_subset['combined'] = top_2014_subset['combined'].str.casefold()\n",
    "print (top_2014_subset.head(10))"
   ]
  },
  {
   "cell_type": "code",
   "execution_count": 15,
   "id": "71f0a09d",
   "metadata": {},
   "outputs": [],
   "source": [
    "df1=pd.DataFrame()\n",
    "df1['row_id']=['99999999999']\n",
    "df1['sentiment_type']='NA999NA'\n",
    "df1['sentiment_score']=0"
   ]
  },
  {
   "cell_type": "code",
   "execution_count": 16,
   "id": "ea9e6d5f",
   "metadata": {},
   "outputs": [
    {
     "name": "stdout",
     "output_type": "stream",
     "text": [
      "Processing sentiment analysis...\n",
      "   row_id sentiment_type  sentiment_score\n",
      "0       1       compound           0.7845\n",
      "0       2       compound           0.9992\n",
      "0       3       compound           0.0000\n",
      "0       4       compound           0.0000\n",
      "0       5       compound           0.0000\n",
      "0       6       compound           0.0000\n",
      "0       7       compound           0.8051\n",
      "0       8       compound           0.8860\n",
      "0       9       compound           0.0000\n",
      "0      10       compound           0.9966\n"
     ]
    }
   ],
   "source": [
    "print('Processing sentiment analysis...')\n",
    "sid = SentimentIntensityAnalyzer()\n",
    "t_df = df1\n",
    "for index, row in top_2014_subset.iterrows():\n",
    "    scores = sid.polarity_scores(row[1])\n",
    "    for key, value in scores.items():\n",
    "        temp = [key,value,row[0]]\n",
    "        df1['row_id']=row[0]\n",
    "        df1['sentiment_type']=key\n",
    "        df1['sentiment_score']=value\n",
    "        t_df=t_df.append(df1)\n",
    "#remove dummy row with row_id = 99999999999\n",
    "t_df_cleaned = t_df[t_df.row_id != '99999999999']\n",
    "#remove duplicates if any exist\n",
    "t_df_cleaned = t_df_cleaned.drop_duplicates()\n",
    "# only keep rows where sentiment_type = compound\n",
    "t_df_cleaned = t_df[t_df.sentiment_type == 'compound']\n",
    "print(t_df_cleaned.head(10))"
   ]
  },
  {
   "cell_type": "code",
   "execution_count": 17,
   "id": "102616e4",
   "metadata": {},
   "outputs": [
    {
     "name": "stdout",
     "output_type": "stream",
     "text": [
      "             author author_flair_css_class        author_flair_text  \\\n",
      "0         [deleted]                   None                     None   \n",
      "1     lolwuthahaomg                   None                     None   \n",
      "2         icookmath                         Secondary Math, History   \n",
      "3         [deleted]                   None                     None   \n",
      "4      Brad_Collins                   None                     None   \n",
      "5  Mr_SelfConstruct                                 Student Teacher   \n",
      "6           mgir768                   None                     None   \n",
      "7      Converse1981                   None                     None   \n",
      "8         [deleted]                   None                     None   \n",
      "9        Dmac680chi                   None                     None   \n",
      "\n",
      "   created_utc         domain  \\\n",
      "0   1408193703    i.imgur.com   \n",
      "1   1418349360  self.Teachers   \n",
      "2   1408493028      imgur.com   \n",
      "3   1395938159    i.imgur.com   \n",
      "4   1408377360    i.imgur.com   \n",
      "5   1392326293    i.imgur.com   \n",
      "6   1408654292    i.imgur.com   \n",
      "7   1400029295    i.imgur.com   \n",
      "8   1398867602      imgur.com   \n",
      "9   1410615917  self.Teachers   \n",
      "\n",
      "                                                                                              full_link  \\\n",
      "0  https://www.reddit.com/r/Teachers/comments/2dpvhl/rpics_didnt_give_much_love_my_sister_is_a_special/   \n",
      "1                     https://www.reddit.com/r/Teachers/comments/2p1b3h/the_stinky_kid_email_went_home/   \n",
      "2          https://www.reddit.com/r/Teachers/comments/2e18tj/i_should_probably_be_planning_lessons_but/   \n",
      "3  https://www.reddit.com/r/Teachers/comments/21ilc2/a_group_of_seniors_posted_this_letter_to_the_door/   \n",
      "4               https://www.reddit.com/r/Teachers/comments/2dw6r7/my_girlfriends_first_day_of_teaching/   \n",
      "5       https://www.reddit.com/r/Teachers/comments/1xu4om/how_i_sometimes_feel_as_a_student_teacher_in/   \n",
      "6          https://www.reddit.com/r/Teachers/comments/2e7rq4/i_got_the_most_amazing_teacher_gift_match/   \n",
      "7   https://www.reddit.com/r/Teachers/comments/25hz5c/always_be_good_to_the_school_janitors_treat_them/   \n",
      "8                           https://www.reddit.com/r/Teachers/comments/24d9zv/why_i_am_still_a_teacher/   \n",
      "9     https://www.reddit.com/r/Teachers/comments/2gad5b/after_emailing_my_sisters_teacher_about_how_he/   \n",
      "\n",
      "   gilded      id  is_self  \\\n",
      "0       0  2dpvhl    False   \n",
      "1       0  2p1b3h     True   \n",
      "2       0  2e18tj    False   \n",
      "3       0  21ilc2    False   \n",
      "4       0  2dw6r7    False   \n",
      "5       0  1xu4om    False   \n",
      "6       0  2e7rq4    False   \n",
      "7       0  25hz5c    False   \n",
      "8       0  24d9zv    False   \n",
      "9       0  2gad5b     True   \n",
      "\n",
      "                                                                                                                                                                                                                                                                                                                                                                                                                                                        media_embed  \\\n",
      "0                                                                                                                                                                                                                                                                                                                                                                                                                                                                {}   \n",
      "1                                                                                                                                                                                                                                                                                                                                                                                                                                                                {}   \n",
      "2  {'content': '&lt;iframe class=\"embedly-embed\" src=\"//cdn.embedly.com/widgets/media.html?src=http%3A%2F%2Fimgur.com%2Fa%2Fexojj%2Fembed&amp;url=http%3A%2F%2Fimgur.com%2Fa%2Fexojj&amp;image=http%3A%2F%2Fi.imgur.com%2FDHtlK9U.jpg&amp;key=2aa3c4d5f3de4f5b9120b660ad850dc9&amp;type=text%2Fhtml&amp;schema=imgur\" width=\"550\" height=\"550\" scrolling=\"no\" frameborder=\"0\" allowfullscreen&gt;&lt;/iframe&gt;', 'height': 550, 'scrolling': False, 'width': 550}   \n",
      "3                                                                                                                                                                                                                                                                                                                                                                                                                                                                {}   \n",
      "4                                                                                                                                                                                                                                                                                                                                                                                                                                                                {}   \n",
      "5                                                                                                                                                                                                                                                                                                                                                                                                                                                                {}   \n",
      "6                                                                                                                                                                                                                                                                                                                                                                                                                                                                {}   \n",
      "7                                                                                                                                                                                                                                                                                                                                                                                                                                                                {}   \n",
      "8                                                                                                                                                                                                                                                                                                                                                                                                                                                                {}   \n",
      "9                                                                                                                                                                                                                                                                                                                                                                                                                                                                {}   \n",
      "\n",
      "   num_comments  over_18  \\\n",
      "0            23    False   \n",
      "1           214    False   \n",
      "2            44    False   \n",
      "3            91    False   \n",
      "4            34    False   \n",
      "5            16    False   \n",
      "6            34    False   \n",
      "7            39    False   \n",
      "8            42    False   \n",
      "9           139    False   \n",
      "\n",
      "                                                                        permalink  \\\n",
      "0  /r/Teachers/comments/2dpvhl/rpics_didnt_give_much_love_my_sister_is_a_special/   \n",
      "1                     /r/Teachers/comments/2p1b3h/the_stinky_kid_email_went_home/   \n",
      "2          /r/Teachers/comments/2e18tj/i_should_probably_be_planning_lessons_but/   \n",
      "3  /r/Teachers/comments/21ilc2/a_group_of_seniors_posted_this_letter_to_the_door/   \n",
      "4               /r/Teachers/comments/2dw6r7/my_girlfriends_first_day_of_teaching/   \n",
      "5       /r/Teachers/comments/1xu4om/how_i_sometimes_feel_as_a_student_teacher_in/   \n",
      "6          /r/Teachers/comments/2e7rq4/i_got_the_most_amazing_teacher_gift_match/   \n",
      "7   /r/Teachers/comments/25hz5c/always_be_good_to_the_school_janitors_treat_them/   \n",
      "8                           /r/Teachers/comments/24d9zv/why_i_am_still_a_teacher/   \n",
      "9     /r/Teachers/comments/2gad5b/after_emailing_my_sisters_teacher_about_how_he/   \n",
      "\n",
      "   retrieved_on  score secure_media_embed  \\\n",
      "0    1441216853    672                 {}   \n",
      "1    1441024393    516                 {}   \n",
      "2    1441211489    513                 {}   \n",
      "3    1441851772    497                 {}   \n",
      "4    1441213908    486                 {}   \n",
      "5    1441914690    387                 {}   \n",
      "6    1441208286    354                 {}   \n",
      "7    1441538181    253                 {}   \n",
      "8    1441557476    246                 {}   \n",
      "9    1441173127    226                 {}   \n",
      "\n",
      "                                                                                                                                                                                                                                                                                                                                                                                                                                                                                                              selftext  \\\n",
      "0                                                                                                                                                                                                                                                                                                                                                                                                                                                                                                                        \n",
      "1  So I am a first year fifth grade teacher, and I absolutely love what I do.\\n\\nI love fifth grade, and I love watching the kids grow up during this time. It is the middle of the year, and I finally snapped and sent out what might be my favorite email I've ever written. Don't get me wrong, I love my students and I love teaching them, but let's be real...5th graders can get pretty stinky.\\n\\nAfter a field trip where they were walking a far distance, they all came into my classroom and took off ...   \n",
      "2                                                                                                                                                                                                                                                                                                                                                                                                                                                                                                                        \n",
      "3                                                                                                                                                                                                                                                                                                                                                                                                                                                                                                                        \n",
      "4                                                                                                                                                                                                                                                                                                                                                                                                                                                                                                                        \n",
      "5                                                                                                                                                                                                                                                                                                                                                                                                                                                                                                                        \n",
      "6                                                                                                                                                                                                                                                                                                                                                                                                                                                                                                                        \n",
      "7                                                                                                                                                                                                                                                                                                                                                                                                                                                                                                                        \n",
      "8                                                                                                                                                                                                                                                                                                                                                                                                                                                                                                                        \n",
      "9  Here is the email:\\n\\n\"Oh, yes. The impact of the result is far more effective if returned to the student as quickly as possible.\\n\\nNo real trick to it, really. I consider everything in life as an \"inbox.\" Like email.\\n\\nEvery night I make it point to go to sleep with an empty inbox, having responded to and attended to every email received that day. This way it does not build up even a day.\\n\\nFrom email, to grading, to phone calls, even to the refrigerator, everything is seen as an inbox. ...   \n",
      "\n",
      "   stickied subreddit subreddit_id  \\\n",
      "0     False  Teachers     t5_2qqcs   \n",
      "1     False  Teachers     t5_2qqcs   \n",
      "2     False  Teachers     t5_2qqcs   \n",
      "3     False  Teachers     t5_2qqcs   \n",
      "4     False  Teachers     t5_2qqcs   \n",
      "5     False  Teachers     t5_2qqcs   \n",
      "6     False  Teachers     t5_2qqcs   \n",
      "7     False  Teachers     t5_2qqcs   \n",
      "8     False  Teachers     t5_2qqcs   \n",
      "9     False  Teachers     t5_2qqcs   \n",
      "\n",
      "                                                                         thumbnail  \\\n",
      "0                             http://b.thumbs.redditmedia.com/UAot5elMHVI_90j_.jpg   \n",
      "1                                                                             self   \n",
      "2                             http://b.thumbs.redditmedia.com/isY-E4p-9I9_E6o_.jpg   \n",
      "3                                                                          default   \n",
      "4                             http://a.thumbs.redditmedia.com/NipI9B-VfXYwGGlX.jpg   \n",
      "5                             http://f.thumbs.redditmedia.com/W_aAXrAcTige7gF5.jpg   \n",
      "6  http://b.thumbs.redditmedia.com/DwHC3IxjE-kGWX48mP7T69kspUBtK9cwzJWzAK7lNWM.jpg   \n",
      "7                             http://b.thumbs.redditmedia.com/z3wYCQgMeIkH57ja.jpg   \n",
      "8                                                                          default   \n",
      "9                                                                             self   \n",
      "\n",
      "                                                                                                                                           title  \\\n",
      "0          r/pics didn't give much love. My sister is a special education teacher, this is how she designed the door go her classroom this year.   \n",
      "1                                                                                                              \"The Stinky Kid\" email went home.   \n",
      "2                                                                                                  I should probably be planning lessons, but...   \n",
      "3  A group of seniors posted this letter to the door of all their English IV teachers. One teacher took a red pen to hers and posted it back up.   \n",
      "4                                                                                                         My girlfriend's first day of teaching.   \n",
      "5                                                                                       How I sometimes feel as a student teacher in elementary.   \n",
      "6                                                                                                      I got the most amazing teacher gift match   \n",
      "7            Always be good to the school janitors. Treat them with respect and they'll help you out the way they helped me in this situation...   \n",
      "8                                                                                                                       Why I am still a teacher   \n",
      "9                                            After emailing my sisters teacher about how he gets homework back so quick, he sends me this email.   \n",
      "\n",
      "                                                                                                url  \\\n",
      "0                                                                    http://i.imgur.com/x8U13b6.jpg   \n",
      "1                  http://www.reddit.com/r/Teachers/comments/2p1b3h/the_stinky_kid_email_went_home/   \n",
      "2                                                                          http://imgur.com/a/exojj   \n",
      "3                                                                    http://i.imgur.com/BggAOpc.jpg   \n",
      "4                                                                    http://i.imgur.com/gP7WUYH.png   \n",
      "5                                                                    http://i.imgur.com/CaSxAOk.jpg   \n",
      "6                                                                    http://i.imgur.com/EDVDTkb.jpg   \n",
      "7                                                                    http://i.imgur.com/YuAUbW5.jpg   \n",
      "8                                                                    http://imgur.com/gallery/R7qVt   \n",
      "9  http://www.reddit.com/r/Teachers/comments/2gad5b/after_emailing_my_sisters_teacher_about_how_he/   \n",
      "\n",
      "        created  author_created_utc author_fullname  \\\n",
      "0  1.408212e+09                 NaN             NaN   \n",
      "1  1.418367e+09        1.300675e+09        t2_4zl2u   \n",
      "2  1.408511e+09        1.357525e+09        t2_a4o2t   \n",
      "3  1.395956e+09                 NaN             NaN   \n",
      "4  1.408395e+09        1.378972e+09        t2_d4dfj   \n",
      "5  1.392344e+09        1.390886e+09        t2_f0g6m   \n",
      "6  1.408672e+09        1.365727e+09        t2_bab6t   \n",
      "7  1.400047e+09                 NaN             NaN   \n",
      "8  1.398886e+09                 NaN             NaN   \n",
      "9  1.410634e+09        1.380047e+09        t2_d9sed   \n",
      "\n",
      "                                                                                                                                                                                                                                                                                                                                                                                                                                                                                                                 media  \\\n",
      "0                                                                                                                                                                                                                                                                                                                                                                                                                                                                                                                  NaN   \n",
      "1                                                                                                                                                                                                                                                                                                                                                                                                                                                                                                                  NaN   \n",
      "2  {'oembed': {'description': 'The most viral images on the internet, curated in real time by a dedicated community through commenting, voting and sharing.', 'height': 550, 'html': '&lt;iframe class=\"embedly-embed\" src=\"//cdn.embedly.com/widgets/media.html?src=http%3A%2F%2Fimgur.com%2Fa%2Fexojj%2Fembed&amp;url=http%3A%2F%2Fimgur.com%2Fa%2Fexojj&amp;image=http%3A%2F%2Fi.imgur.com%2FDHtlK9U.jpg&amp;key=2aa3c4d5f3de4f5b9120b660ad850dc9&amp;type=text%2Fhtml&amp;schema=imgur\" width=\"550\" height=\"550...   \n",
      "3                                                                                                                                                                                                                                                                                                                                                                                                                                                                                                                  NaN   \n",
      "4                                                                                                                                                                                                                                                                                                                                                                                                                                                                                                                  NaN   \n",
      "5                                                                                                                                                                                                                                                                                                                                                                                                                                                                                                                  NaN   \n",
      "6                                                                                                                                                                                                                                                                                                                                                                                                                                                                                                                  NaN   \n",
      "7                                                                                                                                                                                                                                                                                                                                                                                                                                                                                                                  NaN   \n",
      "8                                                                                                                                                                                                                                                                                                                                                                                                                                                                                                                  NaN   \n",
      "9                                                                                                                                                                                                                                                                                                                                                                                                                                                                                                                  NaN   \n",
      "\n",
      "   edited secure_media                      date  \\\n",
      "0     NaN          NaN 2014-08-16 12:55:03+00:00   \n",
      "1     NaN          NaN 2014-12-12 01:56:00+00:00   \n",
      "2     NaN          NaN 2014-08-20 00:03:48+00:00   \n",
      "3     NaN          NaN 2014-03-27 16:35:59+00:00   \n",
      "4     NaN          NaN 2014-08-18 15:56:00+00:00   \n",
      "5     NaN          NaN 2014-02-13 21:18:13+00:00   \n",
      "6     NaN          NaN 2014-08-21 20:51:32+00:00   \n",
      "7     NaN          NaN 2014-05-14 01:01:35+00:00   \n",
      "8     NaN          NaN 2014-04-30 14:20:02+00:00   \n",
      "9     NaN          NaN 2014-09-13 13:45:17+00:00   \n",
      "\n",
      "                                                                                                                                                                                                                                                                                                                                                                                                                                                                                                              combined  \\\n",
      "0                                                                                                                                                                                                                                                                                                                                                                                r/pics didn't give much love. My sister is a special education teacher, this is how she designed the door go her classroom this year.   \n",
      "1  \"The Stinky Kid\" email went home.So I am a first year fifth grade teacher, and I absolutely love what I do.\\n\\nI love fifth grade, and I love watching the kids grow up during this time. It is the middle of the year, and I finally snapped and sent out what might be my favorite email I've ever written. Don't get me wrong, I love my students and I love teaching them, but let's be real...5th graders can get pretty stinky.\\n\\nAfter a field trip where they were walking a far distance, they all cam...   \n",
      "2                                                                                                                                                                                                                                                                                                                                                                                                                                                                        I should probably be planning lessons, but...   \n",
      "3                                                                                                                                                                                                                                                                                                                                                                        A group of seniors posted this letter to the door of all their English IV teachers. One teacher took a red pen to hers and posted it back up.   \n",
      "4                                                                                                                                                                                                                                                                                                                                                                                                                                                                               My girlfriend's first day of teaching.   \n",
      "5                                                                                                                                                                                                                                                                                                                                                                                                                                                             How I sometimes feel as a student teacher in elementary.   \n",
      "6                                                                                                                                                                                                                                                                                                                                                                                                                                                                            I got the most amazing teacher gift match   \n",
      "7                                                                                                                                                                                                                                                                                                                                                                                  Always be good to the school janitors. Treat them with respect and they'll help you out the way they helped me in this situation...   \n",
      "8                                                                                                                                                                                                                                                                                                                                                                                                                                                                                             Why I am still a teacher   \n",
      "9  After emailing my sisters teacher about how he gets homework back so quick, he sends me this email.Here is the email:\\n\\n\"Oh, yes. The impact of the result is far more effective if returned to the student as quickly as possible.\\n\\nNo real trick to it, really. I consider everything in life as an \"inbox.\" Like email.\\n\\nEvery night I make it point to go to sleep with an empty inbox, having responded to and attended to every email received that day. This way it does not build up even a day.\\n\\...   \n",
      "\n",
      "   year  row_id sentiment_type  sentiment_score  \n",
      "0  2014       1       compound           0.7845  \n",
      "1  2014       2       compound           0.9992  \n",
      "2  2014       3       compound           0.0000  \n",
      "3  2014       4       compound           0.0000  \n",
      "4  2014       5       compound           0.0000  \n",
      "5  2014       6       compound           0.0000  \n",
      "6  2014       7       compound           0.8051  \n",
      "7  2014       8       compound           0.8860  \n",
      "8  2014       9       compound           0.0000  \n",
      "9  2014      10       compound           0.9966  \n"
     ]
    }
   ],
   "source": [
    "df_output = pd.merge(top_2014, t_df_cleaned, on='row_id', how='inner')\n",
    "print(df_output.head(10))"
   ]
  },
  {
   "cell_type": "code",
   "execution_count": 18,
   "id": "8ee98808",
   "metadata": {},
   "outputs": [
    {
     "data": {
      "text/html": [
       "<div>\n",
       "<style scoped>\n",
       "    .dataframe tbody tr th:only-of-type {\n",
       "        vertical-align: middle;\n",
       "    }\n",
       "\n",
       "    .dataframe tbody tr th {\n",
       "        vertical-align: top;\n",
       "    }\n",
       "\n",
       "    .dataframe thead th {\n",
       "        text-align: right;\n",
       "    }\n",
       "</style>\n",
       "<table border=\"1\" class=\"dataframe\">\n",
       "  <thead>\n",
       "    <tr style=\"text-align: right;\">\n",
       "      <th></th>\n",
       "      <th>sentiment_score</th>\n",
       "    </tr>\n",
       "  </thead>\n",
       "  <tbody>\n",
       "    <tr>\n",
       "      <th>count</th>\n",
       "      <td>601.000000</td>\n",
       "    </tr>\n",
       "    <tr>\n",
       "      <th>mean</th>\n",
       "      <td>0.251417</td>\n",
       "    </tr>\n",
       "    <tr>\n",
       "      <th>std</th>\n",
       "      <td>0.494325</td>\n",
       "    </tr>\n",
       "    <tr>\n",
       "      <th>min</th>\n",
       "      <td>-0.973800</td>\n",
       "    </tr>\n",
       "    <tr>\n",
       "      <th>25%</th>\n",
       "      <td>0.000000</td>\n",
       "    </tr>\n",
       "    <tr>\n",
       "      <th>50%</th>\n",
       "      <td>0.000000</td>\n",
       "    </tr>\n",
       "    <tr>\n",
       "      <th>75%</th>\n",
       "      <td>0.664800</td>\n",
       "    </tr>\n",
       "    <tr>\n",
       "      <th>max</th>\n",
       "      <td>0.999200</td>\n",
       "    </tr>\n",
       "  </tbody>\n",
       "</table>\n",
       "</div>"
      ],
      "text/plain": [
       "       sentiment_score\n",
       "count       601.000000\n",
       "mean          0.251417\n",
       "std           0.494325\n",
       "min          -0.973800\n",
       "25%           0.000000\n",
       "50%           0.000000\n",
       "75%           0.664800\n",
       "max           0.999200"
      ]
     },
     "execution_count": 18,
     "metadata": {},
     "output_type": "execute_result"
    }
   ],
   "source": [
    "df_output[[\"sentiment_score\"]].describe()"
   ]
  },
  {
   "cell_type": "markdown",
   "id": "302f527c",
   "metadata": {},
   "source": [
    "I did it!!!!!! Now to do it for every other year. "
   ]
  },
  {
   "cell_type": "code",
   "execution_count": 19,
   "id": "835a3832",
   "metadata": {},
   "outputs": [],
   "source": [
    "top_2014_final = df_output"
   ]
  },
  {
   "cell_type": "markdown",
   "id": "0b8ff21c",
   "metadata": {},
   "source": [
    "adding the year as a column in case I need it later for different types of analysis. "
   ]
  },
  {
   "cell_type": "code",
   "execution_count": 20,
   "id": "1e2f0bf1",
   "metadata": {},
   "outputs": [
    {
     "data": {
      "text/html": [
       "<div>\n",
       "<style scoped>\n",
       "    .dataframe tbody tr th:only-of-type {\n",
       "        vertical-align: middle;\n",
       "    }\n",
       "\n",
       "    .dataframe tbody tr th {\n",
       "        vertical-align: top;\n",
       "    }\n",
       "\n",
       "    .dataframe thead th {\n",
       "        text-align: right;\n",
       "    }\n",
       "</style>\n",
       "<table border=\"1\" class=\"dataframe\">\n",
       "  <thead>\n",
       "    <tr style=\"text-align: right;\">\n",
       "      <th></th>\n",
       "      <th>author</th>\n",
       "      <th>author_flair_css_class</th>\n",
       "      <th>author_flair_text</th>\n",
       "      <th>created_utc</th>\n",
       "      <th>domain</th>\n",
       "      <th>full_link</th>\n",
       "      <th>gilded</th>\n",
       "      <th>id</th>\n",
       "      <th>is_self</th>\n",
       "      <th>media_embed</th>\n",
       "      <th>num_comments</th>\n",
       "      <th>over_18</th>\n",
       "      <th>permalink</th>\n",
       "      <th>retrieved_on</th>\n",
       "      <th>score</th>\n",
       "      <th>secure_media_embed</th>\n",
       "      <th>selftext</th>\n",
       "      <th>stickied</th>\n",
       "      <th>subreddit</th>\n",
       "      <th>subreddit_id</th>\n",
       "      <th>thumbnail</th>\n",
       "      <th>title</th>\n",
       "      <th>url</th>\n",
       "      <th>created</th>\n",
       "      <th>author_created_utc</th>\n",
       "      <th>author_fullname</th>\n",
       "      <th>media</th>\n",
       "      <th>edited</th>\n",
       "      <th>secure_media</th>\n",
       "      <th>date</th>\n",
       "      <th>combined</th>\n",
       "      <th>year</th>\n",
       "      <th>row_id</th>\n",
       "      <th>sentiment_type</th>\n",
       "      <th>sentiment_score</th>\n",
       "    </tr>\n",
       "  </thead>\n",
       "  <tbody>\n",
       "    <tr>\n",
       "      <th>0</th>\n",
       "      <td>[deleted]</td>\n",
       "      <td>None</td>\n",
       "      <td>None</td>\n",
       "      <td>1408193703</td>\n",
       "      <td>i.imgur.com</td>\n",
       "      <td>https://www.reddit.com/r/Teachers/comments/2dpvhl/rpics_didnt_give_much_love_my_sister_is_a_special/</td>\n",
       "      <td>0</td>\n",
       "      <td>2dpvhl</td>\n",
       "      <td>False</td>\n",
       "      <td>{}</td>\n",
       "      <td>23</td>\n",
       "      <td>False</td>\n",
       "      <td>/r/Teachers/comments/2dpvhl/rpics_didnt_give_much_love_my_sister_is_a_special/</td>\n",
       "      <td>1441216853</td>\n",
       "      <td>672</td>\n",
       "      <td>{}</td>\n",
       "      <td></td>\n",
       "      <td>False</td>\n",
       "      <td>Teachers</td>\n",
       "      <td>t5_2qqcs</td>\n",
       "      <td>http://b.thumbs.redditmedia.com/UAot5elMHVI_90j_.jpg</td>\n",
       "      <td>r/pics didn't give much love. My sister is a special education teacher, this is how she designed the door go her classroom this year.</td>\n",
       "      <td>http://i.imgur.com/x8U13b6.jpg</td>\n",
       "      <td>1.408212e+09</td>\n",
       "      <td>NaN</td>\n",
       "      <td>NaN</td>\n",
       "      <td>NaN</td>\n",
       "      <td>NaN</td>\n",
       "      <td>NaN</td>\n",
       "      <td>2014-08-16 12:55:03+00:00</td>\n",
       "      <td>r/pics didn't give much love. My sister is a special education teacher, this is how she designed the door go her classroom this year.</td>\n",
       "      <td>2014</td>\n",
       "      <td>1</td>\n",
       "      <td>compound</td>\n",
       "      <td>0.7845</td>\n",
       "    </tr>\n",
       "    <tr>\n",
       "      <th>1</th>\n",
       "      <td>lolwuthahaomg</td>\n",
       "      <td>None</td>\n",
       "      <td>None</td>\n",
       "      <td>1418349360</td>\n",
       "      <td>self.Teachers</td>\n",
       "      <td>https://www.reddit.com/r/Teachers/comments/2p1b3h/the_stinky_kid_email_went_home/</td>\n",
       "      <td>0</td>\n",
       "      <td>2p1b3h</td>\n",
       "      <td>True</td>\n",
       "      <td>{}</td>\n",
       "      <td>214</td>\n",
       "      <td>False</td>\n",
       "      <td>/r/Teachers/comments/2p1b3h/the_stinky_kid_email_went_home/</td>\n",
       "      <td>1441024393</td>\n",
       "      <td>516</td>\n",
       "      <td>{}</td>\n",
       "      <td>So I am a first year fifth grade teacher, and I absolutely love what I do.\\n\\nI love fifth grade, and I love watching the kids grow up during this time. It is the middle of the year, and I finally snapped and sent out what might be my favorite email I've ever written. Don't get me wrong, I love my students and I love teaching them, but let's be real...5th graders can get pretty stinky.\\n\\nAfter a field trip where they were walking a far distance, they all came into my classroom and took off ...</td>\n",
       "      <td>False</td>\n",
       "      <td>Teachers</td>\n",
       "      <td>t5_2qqcs</td>\n",
       "      <td>self</td>\n",
       "      <td>\"The Stinky Kid\" email went home.</td>\n",
       "      <td>http://www.reddit.com/r/Teachers/comments/2p1b3h/the_stinky_kid_email_went_home/</td>\n",
       "      <td>1.418367e+09</td>\n",
       "      <td>1.300675e+09</td>\n",
       "      <td>t2_4zl2u</td>\n",
       "      <td>NaN</td>\n",
       "      <td>NaN</td>\n",
       "      <td>NaN</td>\n",
       "      <td>2014-12-12 01:56:00+00:00</td>\n",
       "      <td>\"The Stinky Kid\" email went home.So I am a first year fifth grade teacher, and I absolutely love what I do.\\n\\nI love fifth grade, and I love watching the kids grow up during this time. It is the middle of the year, and I finally snapped and sent out what might be my favorite email I've ever written. Don't get me wrong, I love my students and I love teaching them, but let's be real...5th graders can get pretty stinky.\\n\\nAfter a field trip where they were walking a far distance, they all cam...</td>\n",
       "      <td>2014</td>\n",
       "      <td>2</td>\n",
       "      <td>compound</td>\n",
       "      <td>0.9992</td>\n",
       "    </tr>\n",
       "    <tr>\n",
       "      <th>2</th>\n",
       "      <td>icookmath</td>\n",
       "      <td></td>\n",
       "      <td>Secondary Math, History</td>\n",
       "      <td>1408493028</td>\n",
       "      <td>imgur.com</td>\n",
       "      <td>https://www.reddit.com/r/Teachers/comments/2e18tj/i_should_probably_be_planning_lessons_but/</td>\n",
       "      <td>0</td>\n",
       "      <td>2e18tj</td>\n",
       "      <td>False</td>\n",
       "      <td>{'content': '&amp;lt;iframe class=\"embedly-embed\" src=\"//cdn.embedly.com/widgets/media.html?src=http%3A%2F%2Fimgur.com%2Fa%2Fexojj%2Fembed&amp;amp;url=http%3A%2F%2Fimgur.com%2Fa%2Fexojj&amp;amp;image=http%3A%2F%2Fi.imgur.com%2FDHtlK9U.jpg&amp;amp;key=2aa3c4d5f3de4f5b9120b660ad850dc9&amp;amp;type=text%2Fhtml&amp;amp;schema=imgur\" width=\"550\" height=\"550\" scrolling=\"no\" frameborder=\"0\" allowfullscreen&amp;gt;&amp;lt;/iframe&amp;gt;', 'height': 550, 'scrolling': False, 'width': 550}</td>\n",
       "      <td>44</td>\n",
       "      <td>False</td>\n",
       "      <td>/r/Teachers/comments/2e18tj/i_should_probably_be_planning_lessons_but/</td>\n",
       "      <td>1441211489</td>\n",
       "      <td>513</td>\n",
       "      <td>{}</td>\n",
       "      <td></td>\n",
       "      <td>False</td>\n",
       "      <td>Teachers</td>\n",
       "      <td>t5_2qqcs</td>\n",
       "      <td>http://b.thumbs.redditmedia.com/isY-E4p-9I9_E6o_.jpg</td>\n",
       "      <td>I should probably be planning lessons, but...</td>\n",
       "      <td>http://imgur.com/a/exojj</td>\n",
       "      <td>1.408511e+09</td>\n",
       "      <td>1.357525e+09</td>\n",
       "      <td>t2_a4o2t</td>\n",
       "      <td>{'oembed': {'description': 'The most viral images on the internet, curated in real time by a dedicated community through commenting, voting and sharing.', 'height': 550, 'html': '&amp;lt;iframe class=\"embedly-embed\" src=\"//cdn.embedly.com/widgets/media.html?src=http%3A%2F%2Fimgur.com%2Fa%2Fexojj%2Fembed&amp;amp;url=http%3A%2F%2Fimgur.com%2Fa%2Fexojj&amp;amp;image=http%3A%2F%2Fi.imgur.com%2FDHtlK9U.jpg&amp;amp;key=2aa3c4d5f3de4f5b9120b660ad850dc9&amp;amp;type=text%2Fhtml&amp;amp;schema=imgur\" width=\"550\" height=\"550...</td>\n",
       "      <td>NaN</td>\n",
       "      <td>NaN</td>\n",
       "      <td>2014-08-20 00:03:48+00:00</td>\n",
       "      <td>I should probably be planning lessons, but...</td>\n",
       "      <td>2014</td>\n",
       "      <td>3</td>\n",
       "      <td>compound</td>\n",
       "      <td>0.0000</td>\n",
       "    </tr>\n",
       "    <tr>\n",
       "      <th>3</th>\n",
       "      <td>[deleted]</td>\n",
       "      <td>None</td>\n",
       "      <td>None</td>\n",
       "      <td>1395938159</td>\n",
       "      <td>i.imgur.com</td>\n",
       "      <td>https://www.reddit.com/r/Teachers/comments/21ilc2/a_group_of_seniors_posted_this_letter_to_the_door/</td>\n",
       "      <td>0</td>\n",
       "      <td>21ilc2</td>\n",
       "      <td>False</td>\n",
       "      <td>{}</td>\n",
       "      <td>91</td>\n",
       "      <td>False</td>\n",
       "      <td>/r/Teachers/comments/21ilc2/a_group_of_seniors_posted_this_letter_to_the_door/</td>\n",
       "      <td>1441851772</td>\n",
       "      <td>497</td>\n",
       "      <td>{}</td>\n",
       "      <td></td>\n",
       "      <td>False</td>\n",
       "      <td>Teachers</td>\n",
       "      <td>t5_2qqcs</td>\n",
       "      <td>default</td>\n",
       "      <td>A group of seniors posted this letter to the door of all their English IV teachers. One teacher took a red pen to hers and posted it back up.</td>\n",
       "      <td>http://i.imgur.com/BggAOpc.jpg</td>\n",
       "      <td>1.395956e+09</td>\n",
       "      <td>NaN</td>\n",
       "      <td>NaN</td>\n",
       "      <td>NaN</td>\n",
       "      <td>NaN</td>\n",
       "      <td>NaN</td>\n",
       "      <td>2014-03-27 16:35:59+00:00</td>\n",
       "      <td>A group of seniors posted this letter to the door of all their English IV teachers. One teacher took a red pen to hers and posted it back up.</td>\n",
       "      <td>2014</td>\n",
       "      <td>4</td>\n",
       "      <td>compound</td>\n",
       "      <td>0.0000</td>\n",
       "    </tr>\n",
       "    <tr>\n",
       "      <th>4</th>\n",
       "      <td>Brad_Collins</td>\n",
       "      <td>None</td>\n",
       "      <td>None</td>\n",
       "      <td>1408377360</td>\n",
       "      <td>i.imgur.com</td>\n",
       "      <td>https://www.reddit.com/r/Teachers/comments/2dw6r7/my_girlfriends_first_day_of_teaching/</td>\n",
       "      <td>0</td>\n",
       "      <td>2dw6r7</td>\n",
       "      <td>False</td>\n",
       "      <td>{}</td>\n",
       "      <td>34</td>\n",
       "      <td>False</td>\n",
       "      <td>/r/Teachers/comments/2dw6r7/my_girlfriends_first_day_of_teaching/</td>\n",
       "      <td>1441213908</td>\n",
       "      <td>486</td>\n",
       "      <td>{}</td>\n",
       "      <td></td>\n",
       "      <td>False</td>\n",
       "      <td>Teachers</td>\n",
       "      <td>t5_2qqcs</td>\n",
       "      <td>http://a.thumbs.redditmedia.com/NipI9B-VfXYwGGlX.jpg</td>\n",
       "      <td>My girlfriend's first day of teaching.</td>\n",
       "      <td>http://i.imgur.com/gP7WUYH.png</td>\n",
       "      <td>1.408395e+09</td>\n",
       "      <td>1.378972e+09</td>\n",
       "      <td>t2_d4dfj</td>\n",
       "      <td>NaN</td>\n",
       "      <td>NaN</td>\n",
       "      <td>NaN</td>\n",
       "      <td>2014-08-18 15:56:00+00:00</td>\n",
       "      <td>My girlfriend's first day of teaching.</td>\n",
       "      <td>2014</td>\n",
       "      <td>5</td>\n",
       "      <td>compound</td>\n",
       "      <td>0.0000</td>\n",
       "    </tr>\n",
       "  </tbody>\n",
       "</table>\n",
       "</div>"
      ],
      "text/plain": [
       "          author author_flair_css_class        author_flair_text  created_utc  \\\n",
       "0      [deleted]                   None                     None   1408193703   \n",
       "1  lolwuthahaomg                   None                     None   1418349360   \n",
       "2      icookmath                         Secondary Math, History   1408493028   \n",
       "3      [deleted]                   None                     None   1395938159   \n",
       "4   Brad_Collins                   None                     None   1408377360   \n",
       "\n",
       "          domain  \\\n",
       "0    i.imgur.com   \n",
       "1  self.Teachers   \n",
       "2      imgur.com   \n",
       "3    i.imgur.com   \n",
       "4    i.imgur.com   \n",
       "\n",
       "                                                                                              full_link  \\\n",
       "0  https://www.reddit.com/r/Teachers/comments/2dpvhl/rpics_didnt_give_much_love_my_sister_is_a_special/   \n",
       "1                     https://www.reddit.com/r/Teachers/comments/2p1b3h/the_stinky_kid_email_went_home/   \n",
       "2          https://www.reddit.com/r/Teachers/comments/2e18tj/i_should_probably_be_planning_lessons_but/   \n",
       "3  https://www.reddit.com/r/Teachers/comments/21ilc2/a_group_of_seniors_posted_this_letter_to_the_door/   \n",
       "4               https://www.reddit.com/r/Teachers/comments/2dw6r7/my_girlfriends_first_day_of_teaching/   \n",
       "\n",
       "   gilded      id  is_self  \\\n",
       "0       0  2dpvhl    False   \n",
       "1       0  2p1b3h     True   \n",
       "2       0  2e18tj    False   \n",
       "3       0  21ilc2    False   \n",
       "4       0  2dw6r7    False   \n",
       "\n",
       "                                                                                                                                                                                                                                                                                                                                                                                                                                                        media_embed  \\\n",
       "0                                                                                                                                                                                                                                                                                                                                                                                                                                                                {}   \n",
       "1                                                                                                                                                                                                                                                                                                                                                                                                                                                                {}   \n",
       "2  {'content': '&lt;iframe class=\"embedly-embed\" src=\"//cdn.embedly.com/widgets/media.html?src=http%3A%2F%2Fimgur.com%2Fa%2Fexojj%2Fembed&amp;url=http%3A%2F%2Fimgur.com%2Fa%2Fexojj&amp;image=http%3A%2F%2Fi.imgur.com%2FDHtlK9U.jpg&amp;key=2aa3c4d5f3de4f5b9120b660ad850dc9&amp;type=text%2Fhtml&amp;schema=imgur\" width=\"550\" height=\"550\" scrolling=\"no\" frameborder=\"0\" allowfullscreen&gt;&lt;/iframe&gt;', 'height': 550, 'scrolling': False, 'width': 550}   \n",
       "3                                                                                                                                                                                                                                                                                                                                                                                                                                                                {}   \n",
       "4                                                                                                                                                                                                                                                                                                                                                                                                                                                                {}   \n",
       "\n",
       "   num_comments  over_18  \\\n",
       "0            23    False   \n",
       "1           214    False   \n",
       "2            44    False   \n",
       "3            91    False   \n",
       "4            34    False   \n",
       "\n",
       "                                                                        permalink  \\\n",
       "0  /r/Teachers/comments/2dpvhl/rpics_didnt_give_much_love_my_sister_is_a_special/   \n",
       "1                     /r/Teachers/comments/2p1b3h/the_stinky_kid_email_went_home/   \n",
       "2          /r/Teachers/comments/2e18tj/i_should_probably_be_planning_lessons_but/   \n",
       "3  /r/Teachers/comments/21ilc2/a_group_of_seniors_posted_this_letter_to_the_door/   \n",
       "4               /r/Teachers/comments/2dw6r7/my_girlfriends_first_day_of_teaching/   \n",
       "\n",
       "   retrieved_on  score secure_media_embed  \\\n",
       "0    1441216853    672                 {}   \n",
       "1    1441024393    516                 {}   \n",
       "2    1441211489    513                 {}   \n",
       "3    1441851772    497                 {}   \n",
       "4    1441213908    486                 {}   \n",
       "\n",
       "                                                                                                                                                                                                                                                                                                                                                                                                                                                                                                              selftext  \\\n",
       "0                                                                                                                                                                                                                                                                                                                                                                                                                                                                                                                        \n",
       "1  So I am a first year fifth grade teacher, and I absolutely love what I do.\\n\\nI love fifth grade, and I love watching the kids grow up during this time. It is the middle of the year, and I finally snapped and sent out what might be my favorite email I've ever written. Don't get me wrong, I love my students and I love teaching them, but let's be real...5th graders can get pretty stinky.\\n\\nAfter a field trip where they were walking a far distance, they all came into my classroom and took off ...   \n",
       "2                                                                                                                                                                                                                                                                                                                                                                                                                                                                                                                        \n",
       "3                                                                                                                                                                                                                                                                                                                                                                                                                                                                                                                        \n",
       "4                                                                                                                                                                                                                                                                                                                                                                                                                                                                                                                        \n",
       "\n",
       "   stickied subreddit subreddit_id  \\\n",
       "0     False  Teachers     t5_2qqcs   \n",
       "1     False  Teachers     t5_2qqcs   \n",
       "2     False  Teachers     t5_2qqcs   \n",
       "3     False  Teachers     t5_2qqcs   \n",
       "4     False  Teachers     t5_2qqcs   \n",
       "\n",
       "                                              thumbnail  \\\n",
       "0  http://b.thumbs.redditmedia.com/UAot5elMHVI_90j_.jpg   \n",
       "1                                                  self   \n",
       "2  http://b.thumbs.redditmedia.com/isY-E4p-9I9_E6o_.jpg   \n",
       "3                                               default   \n",
       "4  http://a.thumbs.redditmedia.com/NipI9B-VfXYwGGlX.jpg   \n",
       "\n",
       "                                                                                                                                           title  \\\n",
       "0          r/pics didn't give much love. My sister is a special education teacher, this is how she designed the door go her classroom this year.   \n",
       "1                                                                                                              \"The Stinky Kid\" email went home.   \n",
       "2                                                                                                  I should probably be planning lessons, but...   \n",
       "3  A group of seniors posted this letter to the door of all their English IV teachers. One teacher took a red pen to hers and posted it back up.   \n",
       "4                                                                                                         My girlfriend's first day of teaching.   \n",
       "\n",
       "                                                                                url  \\\n",
       "0                                                    http://i.imgur.com/x8U13b6.jpg   \n",
       "1  http://www.reddit.com/r/Teachers/comments/2p1b3h/the_stinky_kid_email_went_home/   \n",
       "2                                                          http://imgur.com/a/exojj   \n",
       "3                                                    http://i.imgur.com/BggAOpc.jpg   \n",
       "4                                                    http://i.imgur.com/gP7WUYH.png   \n",
       "\n",
       "        created  author_created_utc author_fullname  \\\n",
       "0  1.408212e+09                 NaN             NaN   \n",
       "1  1.418367e+09        1.300675e+09        t2_4zl2u   \n",
       "2  1.408511e+09        1.357525e+09        t2_a4o2t   \n",
       "3  1.395956e+09                 NaN             NaN   \n",
       "4  1.408395e+09        1.378972e+09        t2_d4dfj   \n",
       "\n",
       "                                                                                                                                                                                                                                                                                                                                                                                                                                                                                                                 media  \\\n",
       "0                                                                                                                                                                                                                                                                                                                                                                                                                                                                                                                  NaN   \n",
       "1                                                                                                                                                                                                                                                                                                                                                                                                                                                                                                                  NaN   \n",
       "2  {'oembed': {'description': 'The most viral images on the internet, curated in real time by a dedicated community through commenting, voting and sharing.', 'height': 550, 'html': '&lt;iframe class=\"embedly-embed\" src=\"//cdn.embedly.com/widgets/media.html?src=http%3A%2F%2Fimgur.com%2Fa%2Fexojj%2Fembed&amp;url=http%3A%2F%2Fimgur.com%2Fa%2Fexojj&amp;image=http%3A%2F%2Fi.imgur.com%2FDHtlK9U.jpg&amp;key=2aa3c4d5f3de4f5b9120b660ad850dc9&amp;type=text%2Fhtml&amp;schema=imgur\" width=\"550\" height=\"550...   \n",
       "3                                                                                                                                                                                                                                                                                                                                                                                                                                                                                                                  NaN   \n",
       "4                                                                                                                                                                                                                                                                                                                                                                                                                                                                                                                  NaN   \n",
       "\n",
       "   edited secure_media                      date  \\\n",
       "0     NaN          NaN 2014-08-16 12:55:03+00:00   \n",
       "1     NaN          NaN 2014-12-12 01:56:00+00:00   \n",
       "2     NaN          NaN 2014-08-20 00:03:48+00:00   \n",
       "3     NaN          NaN 2014-03-27 16:35:59+00:00   \n",
       "4     NaN          NaN 2014-08-18 15:56:00+00:00   \n",
       "\n",
       "                                                                                                                                                                                                                                                                                                                                                                                                                                                                                                              combined  \\\n",
       "0                                                                                                                                                                                                                                                                                                                                                                                r/pics didn't give much love. My sister is a special education teacher, this is how she designed the door go her classroom this year.   \n",
       "1  \"The Stinky Kid\" email went home.So I am a first year fifth grade teacher, and I absolutely love what I do.\\n\\nI love fifth grade, and I love watching the kids grow up during this time. It is the middle of the year, and I finally snapped and sent out what might be my favorite email I've ever written. Don't get me wrong, I love my students and I love teaching them, but let's be real...5th graders can get pretty stinky.\\n\\nAfter a field trip where they were walking a far distance, they all cam...   \n",
       "2                                                                                                                                                                                                                                                                                                                                                                                                                                                                        I should probably be planning lessons, but...   \n",
       "3                                                                                                                                                                                                                                                                                                                                                                        A group of seniors posted this letter to the door of all their English IV teachers. One teacher took a red pen to hers and posted it back up.   \n",
       "4                                                                                                                                                                                                                                                                                                                                                                                                                                                                               My girlfriend's first day of teaching.   \n",
       "\n",
       "   year  row_id sentiment_type  sentiment_score  \n",
       "0  2014       1       compound           0.7845  \n",
       "1  2014       2       compound           0.9992  \n",
       "2  2014       3       compound           0.0000  \n",
       "3  2014       4       compound           0.0000  \n",
       "4  2014       5       compound           0.0000  "
      ]
     },
     "execution_count": 20,
     "metadata": {},
     "output_type": "execute_result"
    }
   ],
   "source": [
    "top_2014_final.head()"
   ]
  },
  {
   "cell_type": "code",
   "execution_count": null,
   "id": "fa6e8aeb",
   "metadata": {},
   "outputs": [],
   "source": []
  }
 ],
 "metadata": {
  "kernelspec": {
   "display_name": "Python 3 (ipykernel)",
   "language": "python",
   "name": "python3"
  },
  "language_info": {
   "codemirror_mode": {
    "name": "ipython",
    "version": 3
   },
   "file_extension": ".py",
   "mimetype": "text/x-python",
   "name": "python",
   "nbconvert_exporter": "python",
   "pygments_lexer": "ipython3",
   "version": "3.9.7"
  }
 },
 "nbformat": 4,
 "nbformat_minor": 5
}
