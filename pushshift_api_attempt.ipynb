{
 "cells": [
  {
   "cell_type": "markdown",
   "id": "8998f210",
   "metadata": {},
   "source": [
    "Reference: https://melaniewalsh.github.io/Intro-Cultural-Analytics/04-Data-Collection/14-Reddit-Data.html"
   ]
  },
  {
   "cell_type": "code",
   "execution_count": 1,
   "id": "6344d998",
   "metadata": {},
   "outputs": [
    {
     "name": "stdout",
     "output_type": "stream",
     "text": [
      "Requirement already satisfied: psaw in /Users/katiegarrett/opt/anaconda3/lib/python3.9/site-packages (0.1.0)\n",
      "Requirement already satisfied: Click in /Users/katiegarrett/opt/anaconda3/lib/python3.9/site-packages (from psaw) (8.0.3)\n",
      "Requirement already satisfied: requests in /Users/katiegarrett/opt/anaconda3/lib/python3.9/site-packages (from psaw) (2.26.0)\n",
      "Requirement already satisfied: idna<4,>=2.5 in /Users/katiegarrett/opt/anaconda3/lib/python3.9/site-packages (from requests->psaw) (3.2)\n",
      "Requirement already satisfied: urllib3<1.27,>=1.21.1 in /Users/katiegarrett/opt/anaconda3/lib/python3.9/site-packages (from requests->psaw) (1.26.7)\n",
      "Requirement already satisfied: certifi>=2017.4.17 in /Users/katiegarrett/opt/anaconda3/lib/python3.9/site-packages (from requests->psaw) (2021.10.8)\n",
      "Requirement already satisfied: charset-normalizer~=2.0.0 in /Users/katiegarrett/opt/anaconda3/lib/python3.9/site-packages (from requests->psaw) (2.0.4)\n",
      "Requirement already satisfied: pmaw in /Users/katiegarrett/opt/anaconda3/lib/python3.9/site-packages (2.1.3)\n",
      "Requirement already satisfied: praw in /Users/katiegarrett/opt/anaconda3/lib/python3.9/site-packages (from pmaw) (7.6.0)\n",
      "Requirement already satisfied: requests in /Users/katiegarrett/opt/anaconda3/lib/python3.9/site-packages (from pmaw) (2.26.0)\n",
      "Requirement already satisfied: websocket-client>=0.54.0 in /Users/katiegarrett/opt/anaconda3/lib/python3.9/site-packages (from praw->pmaw) (1.3.2)\n",
      "Requirement already satisfied: prawcore<3,>=2.1 in /Users/katiegarrett/opt/anaconda3/lib/python3.9/site-packages (from praw->pmaw) (2.3.0)\n",
      "Requirement already satisfied: update-checker>=0.18 in /Users/katiegarrett/opt/anaconda3/lib/python3.9/site-packages (from praw->pmaw) (0.18.0)\n",
      "Requirement already satisfied: idna<4,>=2.5 in /Users/katiegarrett/opt/anaconda3/lib/python3.9/site-packages (from requests->pmaw) (3.2)\n",
      "Requirement already satisfied: charset-normalizer~=2.0.0 in /Users/katiegarrett/opt/anaconda3/lib/python3.9/site-packages (from requests->pmaw) (2.0.4)\n",
      "Requirement already satisfied: urllib3<1.27,>=1.21.1 in /Users/katiegarrett/opt/anaconda3/lib/python3.9/site-packages (from requests->pmaw) (1.26.7)\n",
      "Requirement already satisfied: certifi>=2017.4.17 in /Users/katiegarrett/opt/anaconda3/lib/python3.9/site-packages (from requests->pmaw) (2021.10.8)\n"
     ]
    }
   ],
   "source": [
    "!pip install psaw\n",
    "!pip install pmaw"
   ]
  },
  {
   "cell_type": "code",
   "execution_count": 2,
   "id": "6810632a",
   "metadata": {},
   "outputs": [],
   "source": [
    "import pandas as pd\n",
    "pd.set_option('max_colwidth', 500)\n",
    "pd.set_option('max_columns', 50)"
   ]
  },
  {
   "cell_type": "code",
   "execution_count": 3,
   "id": "c2af5ac1",
   "metadata": {},
   "outputs": [],
   "source": [
    "from psaw import PushshiftAPI\n",
    "\n",
    "api = PushshiftAPI()"
   ]
  },
  {
   "cell_type": "markdown",
   "id": "4c6c729c",
   "metadata": {},
   "source": [
    "# 2008"
   ]
  },
  {
   "cell_type": "markdown",
   "id": "ddc29683",
   "metadata": {},
   "source": [
    "api_request_generator_2008 = api.search_submissions(subreddit='Teachers',\n",
    "                                               sort_type = \"score\",\n",
    "                                               after = '1199145600',\n",
    "                                               before = '1230681600',\n",
    "                                               sort = 'desc',\n",
    "                                               limit = 1000)"
   ]
  },
  {
   "cell_type": "markdown",
   "id": "a0e448ef",
   "metadata": {},
   "source": [
    "top_2008 = pd.DataFrame([submission.d_ for submission in api_request_generator_2008])\n"
   ]
  },
  {
   "cell_type": "markdown",
   "id": "75b41336",
   "metadata": {},
   "source": [
    "top_2008.shape"
   ]
  },
  {
   "cell_type": "markdown",
   "id": "a8d5d311",
   "metadata": {},
   "source": [
    "top_2008.columns"
   ]
  },
  {
   "cell_type": "markdown",
   "id": "91aee2e3",
   "metadata": {},
   "source": [
    "top_2008['date'] = pd.to_datetime(top_2008['created_utc'], utc=True, unit='s')\n",
    "\n"
   ]
  },
  {
   "cell_type": "markdown",
   "id": "4e1fe270",
   "metadata": {},
   "source": [
    "top_2008[['author', 'date', 'title', 'selftext', 'subreddit', 'score', 'num_comments']]\n"
   ]
  },
  {
   "cell_type": "markdown",
   "id": "a167d1d3",
   "metadata": {},
   "source": [
    "# 2009"
   ]
  },
  {
   "cell_type": "markdown",
   "id": "6bf789e8",
   "metadata": {},
   "source": [
    "api_request_generator_2009 = api.search_submissions(subreddit='Teachers',\n",
    "                                               sort_type = \"score\",\n",
    "                                               after = '1230768000',\n",
    "                                               before = '1262217600',\n",
    "                                               sort = 'desc',\n",
    "                                               limit = 1000)"
   ]
  },
  {
   "cell_type": "markdown",
   "id": "d8e1dea5",
   "metadata": {},
   "source": [
    "top_2009 = pd.DataFrame([submission.d_ for submission in api_request_generator_2009])\n"
   ]
  },
  {
   "cell_type": "markdown",
   "id": "4beb2738",
   "metadata": {},
   "source": [
    "top_2009.shape"
   ]
  },
  {
   "cell_type": "markdown",
   "id": "0555f414",
   "metadata": {},
   "source": [
    "top_2009['date'] = pd.to_datetime(top_2009['created_utc'], utc=True, unit='s')\n"
   ]
  },
  {
   "cell_type": "markdown",
   "id": "f4c5cb52",
   "metadata": {},
   "source": [
    "top_2009[['author', 'date', 'title', 'selftext', 'subreddit', 'score', 'num_comments']]\n"
   ]
  },
  {
   "cell_type": "markdown",
   "id": "d27e906d",
   "metadata": {},
   "source": [
    "# 2010"
   ]
  },
  {
   "cell_type": "markdown",
   "id": "4cf3f29f",
   "metadata": {},
   "source": [
    "api_request_generator_2010 = api.search_submissions(subreddit='Teachers',\n",
    "                                               sort_type = 'score',\n",
    "                                               sort = 'desc',\n",
    "                                               after = '1262304000',\n",
    "                                               before = '1293753600',\n",
    "                                               limit = 1000)"
   ]
  },
  {
   "cell_type": "markdown",
   "id": "99ee1080",
   "metadata": {},
   "source": [
    "top_2010 = pd.DataFrame([submission.d_ for submission in api_request_generator_2010])\n"
   ]
  },
  {
   "cell_type": "markdown",
   "id": "617e73d0",
   "metadata": {},
   "source": [
    "top_2010.shape"
   ]
  },
  {
   "cell_type": "markdown",
   "id": "7a689ff8",
   "metadata": {},
   "source": [
    "top_2010['date'] = pd.to_datetime(top_2010['created_utc'], utc=True, unit='s')\n"
   ]
  },
  {
   "cell_type": "markdown",
   "id": "491e5f33",
   "metadata": {},
   "source": [
    "top_2010[['author', 'date', 'title', 'selftext', 'subreddit', 'score', 'num_comments']]\n"
   ]
  },
  {
   "cell_type": "markdown",
   "id": "a982e127",
   "metadata": {},
   "source": [
    "# 2011"
   ]
  },
  {
   "cell_type": "markdown",
   "id": "0226cadd",
   "metadata": {},
   "source": [
    "api_request_generator_2011 = api.search_submissions(subreddit='Teachers',\n",
    "                                               sort_type = 'score',\n",
    "                                               sort = 'desc',\n",
    "                                               after = '1293840000',\n",
    "                                               before = '1325289600',\n",
    "                                               limit = 1000)"
   ]
  },
  {
   "cell_type": "markdown",
   "id": "21b94081",
   "metadata": {},
   "source": [
    "top_2011 = pd.DataFrame([submission.d_ for submission in api_request_generator_2011])\n"
   ]
  },
  {
   "cell_type": "markdown",
   "id": "2b74bcde",
   "metadata": {},
   "source": [
    "top_2011.shape"
   ]
  },
  {
   "cell_type": "markdown",
   "id": "0ca6359d",
   "metadata": {},
   "source": [
    "top_2011['date'] = pd.to_datetime(top_2011['created_utc'], utc=True, unit='s')\n"
   ]
  },
  {
   "cell_type": "markdown",
   "id": "d1fc8dc5",
   "metadata": {},
   "source": [
    "top_2011[['author', 'date', 'title', 'selftext', 'subreddit', 'score', 'num_comments']]\n"
   ]
  },
  {
   "cell_type": "markdown",
   "id": "60839dc2",
   "metadata": {},
   "source": [
    "api.metadata_.get('shards')\n",
    "print(api)"
   ]
  },
  {
   "cell_type": "markdown",
   "id": "3aae607e",
   "metadata": {},
   "source": [
    "# 2012"
   ]
  },
  {
   "cell_type": "markdown",
   "id": "8bc5e0cf",
   "metadata": {},
   "source": [
    "api_request_generator_2012 = api.search_submissions(subreddit='Teachers',\n",
    "                                               after = '1325376000',\n",
    "                                               before = '1356912000',\n",
    "                                               sort_type = 'score',\n",
    "                                               sort = 'desc',\n",
    "                                               limit = 1000,\n",
    "                                               metadata = True)"
   ]
  },
  {
   "cell_type": "markdown",
   "id": "a0a71c90",
   "metadata": {
    "scrolled": true
   },
   "source": [
    "top_2012 = pd.DataFrame([submission.d_ for submission in api_request_generator_2012])\n"
   ]
  },
  {
   "cell_type": "markdown",
   "id": "02673235",
   "metadata": {},
   "source": [
    "top_2012.shape"
   ]
  },
  {
   "cell_type": "markdown",
   "id": "573f63f0",
   "metadata": {},
   "source": [
    "top_2012['date'] = pd.to_datetime(top_2012['created_utc'], utc=True, unit='s')\n"
   ]
  },
  {
   "cell_type": "markdown",
   "id": "612b8dd8",
   "metadata": {},
   "source": [
    "top_2012[['author', 'date', 'title', 'selftext', 'subreddit', 'score', 'num_comments']]\n"
   ]
  },
  {
   "cell_type": "markdown",
   "id": "68846c48",
   "metadata": {},
   "source": [
    "# 2013"
   ]
  },
  {
   "cell_type": "markdown",
   "id": "544655a7",
   "metadata": {},
   "source": [
    "api_request_generator_2013 = api.search_submissions(subreddit='Teachers',\n",
    "                                               after = '1357020000',\n",
    "                                               before = '1388556000',\n",
    "                                               sort_type = 'score',\n",
    "                                               sort = 'desc',\n",
    "                                               limit = 1000,\n",
    "                                               metadata = True)"
   ]
  },
  {
   "cell_type": "markdown",
   "id": "d5184dba",
   "metadata": {},
   "source": [
    "api_request_generator_2013 = api.search_submissions(subreddit='Teachers',\n",
    "                                               sort_type = 'score',\n",
    "                                               sort = 'desc',\n",
    "                                               after = '1357020000',\n",
    "                                               before = '1388556000')"
   ]
  },
  {
   "cell_type": "markdown",
   "id": "5a45f786",
   "metadata": {},
   "source": [
    "top_2013 = pd.DataFrame([submission.d_ for submission in api_request_generator_2013])\n"
   ]
  },
  {
   "cell_type": "markdown",
   "id": "5333a49b",
   "metadata": {},
   "source": [
    "top_2013.shape"
   ]
  },
  {
   "cell_type": "markdown",
   "id": "cb5974c4",
   "metadata": {},
   "source": [
    "top_2013['date'] = pd.to_datetime(top_2013['created_utc'], utc=True, unit='s')\n"
   ]
  },
  {
   "cell_type": "markdown",
   "id": "d4b801e6",
   "metadata": {},
   "source": [
    "top_2013[['author', 'date', 'title', 'selftext', 'subreddit', 'score', 'num_comments']]\n"
   ]
  },
  {
   "cell_type": "markdown",
   "id": "9d474285",
   "metadata": {},
   "source": [
    "# 2014"
   ]
  },
  {
   "cell_type": "code",
   "execution_count": 4,
   "id": "7b022e5f",
   "metadata": {},
   "outputs": [],
   "source": [
    "api_request_generator_2014 = api.search_submissions(subreddit='Teachers',\n",
    "                                               sort_type = 'score',\n",
    "                                               sort = 'desc',\n",
    "                                               after = '1388534400',\n",
    "                                               before = '1419984000',\n",
    "                                               limit = 1000)"
   ]
  },
  {
   "cell_type": "markdown",
   "id": "aabf3b1c",
   "metadata": {},
   "source": [
    "api_request_generator_2014 = api.search_submissions(subreddit='Teachers',\n",
    "                                               sort_type = 'score',\n",
    "                                               sort = 'desc',\n",
    "                                               after = '1388534400',\n",
    "                                               before = '1419984000',\n",
    "                                               metadata = True,\n",
    "                                               limit = 1000)"
   ]
  },
  {
   "cell_type": "code",
   "execution_count": 5,
   "id": "83898834",
   "metadata": {},
   "outputs": [
    {
     "name": "stderr",
     "output_type": "stream",
     "text": [
      "/Users/katiegarrett/opt/anaconda3/lib/python3.9/site-packages/psaw/PushshiftAPI.py:252: UserWarning: Not all PushShift shards are active. Query results may be incomplete\n",
      "  warnings.warn(shards_down_message)\n"
     ]
    }
   ],
   "source": [
    "top_2014 = pd.DataFrame([submission.d_ for submission in api_request_generator_2014])\n"
   ]
  },
  {
   "cell_type": "code",
   "execution_count": 6,
   "id": "3a932d1c",
   "metadata": {},
   "outputs": [
    {
     "data": {
      "text/plain": [
       "(601, 29)"
      ]
     },
     "execution_count": 6,
     "metadata": {},
     "output_type": "execute_result"
    }
   ],
   "source": [
    "top_2014.shape"
   ]
  },
  {
   "cell_type": "code",
   "execution_count": 7,
   "id": "9f0900db",
   "metadata": {},
   "outputs": [],
   "source": [
    "top_2014['date'] = pd.to_datetime(top_2014['created_utc'], utc=True, unit='s')\n"
   ]
  },
  {
   "cell_type": "code",
   "execution_count": 8,
   "id": "735890e3",
   "metadata": {},
   "outputs": [
    {
     "data": {
      "text/html": [
       "<div>\n",
       "<style scoped>\n",
       "    .dataframe tbody tr th:only-of-type {\n",
       "        vertical-align: middle;\n",
       "    }\n",
       "\n",
       "    .dataframe tbody tr th {\n",
       "        vertical-align: top;\n",
       "    }\n",
       "\n",
       "    .dataframe thead th {\n",
       "        text-align: right;\n",
       "    }\n",
       "</style>\n",
       "<table border=\"1\" class=\"dataframe\">\n",
       "  <thead>\n",
       "    <tr style=\"text-align: right;\">\n",
       "      <th></th>\n",
       "      <th>author</th>\n",
       "      <th>date</th>\n",
       "      <th>title</th>\n",
       "      <th>selftext</th>\n",
       "      <th>subreddit</th>\n",
       "      <th>score</th>\n",
       "      <th>num_comments</th>\n",
       "    </tr>\n",
       "  </thead>\n",
       "  <tbody>\n",
       "    <tr>\n",
       "      <th>0</th>\n",
       "      <td>[deleted]</td>\n",
       "      <td>2014-08-16 12:55:03+00:00</td>\n",
       "      <td>r/pics didn't give much love. My sister is a special education teacher, this is how she designed the door go her classroom this year.</td>\n",
       "      <td></td>\n",
       "      <td>Teachers</td>\n",
       "      <td>672</td>\n",
       "      <td>23</td>\n",
       "    </tr>\n",
       "    <tr>\n",
       "      <th>1</th>\n",
       "      <td>lolwuthahaomg</td>\n",
       "      <td>2014-12-12 01:56:00+00:00</td>\n",
       "      <td>\"The Stinky Kid\" email went home.</td>\n",
       "      <td>So I am a first year fifth grade teacher, and I absolutely love what I do.\\n\\nI love fifth grade, and I love watching the kids grow up during this time. It is the middle of the year, and I finally snapped and sent out what might be my favorite email I've ever written. Don't get me wrong, I love my students and I love teaching them, but let's be real...5th graders can get pretty stinky.\\n\\nAfter a field trip where they were walking a far distance, they all came into my classroom and took off ...</td>\n",
       "      <td>Teachers</td>\n",
       "      <td>516</td>\n",
       "      <td>214</td>\n",
       "    </tr>\n",
       "    <tr>\n",
       "      <th>2</th>\n",
       "      <td>icookmath</td>\n",
       "      <td>2014-08-20 00:03:48+00:00</td>\n",
       "      <td>I should probably be planning lessons, but...</td>\n",
       "      <td></td>\n",
       "      <td>Teachers</td>\n",
       "      <td>513</td>\n",
       "      <td>44</td>\n",
       "    </tr>\n",
       "    <tr>\n",
       "      <th>3</th>\n",
       "      <td>[deleted]</td>\n",
       "      <td>2014-03-27 16:35:59+00:00</td>\n",
       "      <td>A group of seniors posted this letter to the door of all their English IV teachers. One teacher took a red pen to hers and posted it back up.</td>\n",
       "      <td></td>\n",
       "      <td>Teachers</td>\n",
       "      <td>497</td>\n",
       "      <td>91</td>\n",
       "    </tr>\n",
       "    <tr>\n",
       "      <th>4</th>\n",
       "      <td>Brad_Collins</td>\n",
       "      <td>2014-08-18 15:56:00+00:00</td>\n",
       "      <td>My girlfriend's first day of teaching.</td>\n",
       "      <td></td>\n",
       "      <td>Teachers</td>\n",
       "      <td>486</td>\n",
       "      <td>34</td>\n",
       "    </tr>\n",
       "    <tr>\n",
       "      <th>...</th>\n",
       "      <td>...</td>\n",
       "      <td>...</td>\n",
       "      <td>...</td>\n",
       "      <td>...</td>\n",
       "      <td>...</td>\n",
       "      <td>...</td>\n",
       "      <td>...</td>\n",
       "    </tr>\n",
       "    <tr>\n",
       "      <th>596</th>\n",
       "      <td>ActLikeYouKnow</td>\n",
       "      <td>2014-01-05 22:18:44+00:00</td>\n",
       "      <td>Phonics Rap Video</td>\n",
       "      <td></td>\n",
       "      <td>Teachers</td>\n",
       "      <td>1</td>\n",
       "      <td>0</td>\n",
       "    </tr>\n",
       "    <tr>\n",
       "      <th>597</th>\n",
       "      <td>[deleted]</td>\n",
       "      <td>2014-01-14 20:30:43+00:00</td>\n",
       "      <td>Had to discipline the son of a helicopter parent today. This is what I'm doing now...</td>\n",
       "      <td></td>\n",
       "      <td>Teachers</td>\n",
       "      <td>1</td>\n",
       "      <td>0</td>\n",
       "    </tr>\n",
       "    <tr>\n",
       "      <th>598</th>\n",
       "      <td>[deleted]</td>\n",
       "      <td>2014-01-15 01:18:59+00:00</td>\n",
       "      <td>who has used ShareMYLesson?</td>\n",
       "      <td></td>\n",
       "      <td>Teachers</td>\n",
       "      <td>1</td>\n",
       "      <td>0</td>\n",
       "    </tr>\n",
       "    <tr>\n",
       "      <th>599</th>\n",
       "      <td>BrianMolo35</td>\n",
       "      <td>2014-01-01 03:01:17+00:00</td>\n",
       "      <td>Ice Breakers for starting a new job mid year</td>\n",
       "      <td>I'm starting a 7th grade geography position after break and the school wants me to take 3 or 4 days just getting to know students and establishing norms before even touching the content.  I'm having a hard time coming up with 4 days worth of activities that won't bore the students out of their mind since they have been together all year.  Any ideas?</td>\n",
       "      <td>Teachers</td>\n",
       "      <td>1</td>\n",
       "      <td>2</td>\n",
       "    </tr>\n",
       "    <tr>\n",
       "      <th>600</th>\n",
       "      <td>[deleted]</td>\n",
       "      <td>2014-01-01 00:53:38+00:00</td>\n",
       "      <td>Should I finish my BA in elementary ed, look for a job and finish my minor while teaching? Or should I knock it out all at once?</td>\n",
       "      <td>I have 8 courses to go until I obtain my BA in elementary education (I'm taking 3 classes in the spring of '14). I will then have 4 semesters of student teaching to do afterwards. I also have an English minor I'm pursuing which consists of 8 courses. Now here's my question. Should I just finish my BAE and student teaching, start my career at a school, and finish up my minor while I'm a teaching? Or should I just finish up everything including my minor and THEN look for a job? I've already be...</td>\n",
       "      <td>Teachers</td>\n",
       "      <td>0</td>\n",
       "      <td>3</td>\n",
       "    </tr>\n",
       "  </tbody>\n",
       "</table>\n",
       "<p>601 rows × 7 columns</p>\n",
       "</div>"
      ],
      "text/plain": [
       "             author                      date  \\\n",
       "0         [deleted] 2014-08-16 12:55:03+00:00   \n",
       "1     lolwuthahaomg 2014-12-12 01:56:00+00:00   \n",
       "2         icookmath 2014-08-20 00:03:48+00:00   \n",
       "3         [deleted] 2014-03-27 16:35:59+00:00   \n",
       "4      Brad_Collins 2014-08-18 15:56:00+00:00   \n",
       "..              ...                       ...   \n",
       "596  ActLikeYouKnow 2014-01-05 22:18:44+00:00   \n",
       "597       [deleted] 2014-01-14 20:30:43+00:00   \n",
       "598       [deleted] 2014-01-15 01:18:59+00:00   \n",
       "599     BrianMolo35 2014-01-01 03:01:17+00:00   \n",
       "600       [deleted] 2014-01-01 00:53:38+00:00   \n",
       "\n",
       "                                                                                                                                             title  \\\n",
       "0            r/pics didn't give much love. My sister is a special education teacher, this is how she designed the door go her classroom this year.   \n",
       "1                                                                                                                \"The Stinky Kid\" email went home.   \n",
       "2                                                                                                    I should probably be planning lessons, but...   \n",
       "3    A group of seniors posted this letter to the door of all their English IV teachers. One teacher took a red pen to hers and posted it back up.   \n",
       "4                                                                                                           My girlfriend's first day of teaching.   \n",
       "..                                                                                                                                             ...   \n",
       "596                                                                                                                              Phonics Rap Video   \n",
       "597                                                          Had to discipline the son of a helicopter parent today. This is what I'm doing now...   \n",
       "598                                                                                                                    who has used ShareMYLesson?   \n",
       "599                                                                                                   Ice Breakers for starting a new job mid year   \n",
       "600               Should I finish my BA in elementary ed, look for a job and finish my minor while teaching? Or should I knock it out all at once?   \n",
       "\n",
       "                                                                                                                                                                                                                                                                                                                                                                                                                                                                                                                selftext  \\\n",
       "0                                                                                                                                                                                                                                                                                                                                                                                                                                                                                                                          \n",
       "1    So I am a first year fifth grade teacher, and I absolutely love what I do.\\n\\nI love fifth grade, and I love watching the kids grow up during this time. It is the middle of the year, and I finally snapped and sent out what might be my favorite email I've ever written. Don't get me wrong, I love my students and I love teaching them, but let's be real...5th graders can get pretty stinky.\\n\\nAfter a field trip where they were walking a far distance, they all came into my classroom and took off ...   \n",
       "2                                                                                                                                                                                                                                                                                                                                                                                                                                                                                                                          \n",
       "3                                                                                                                                                                                                                                                                                                                                                                                                                                                                                                                          \n",
       "4                                                                                                                                                                                                                                                                                                                                                                                                                                                                                                                          \n",
       "..                                                                                                                                                                                                                                                                                                                                                                                                                                                                                                                   ...   \n",
       "596                                                                                                                                                                                                                                                                                                                                                                                                                                                                                                                        \n",
       "597                                                                                                                                                                                                                                                                                                                                                                                                                                                                                                                        \n",
       "598                                                                                                                                                                                                                                                                                                                                                                                                                                                                                                                        \n",
       "599                                                                                                                                                      I'm starting a 7th grade geography position after break and the school wants me to take 3 or 4 days just getting to know students and establishing norms before even touching the content.  I'm having a hard time coming up with 4 days worth of activities that won't bore the students out of their mind since they have been together all year.  Any ideas?   \n",
       "600  I have 8 courses to go until I obtain my BA in elementary education (I'm taking 3 classes in the spring of '14). I will then have 4 semesters of student teaching to do afterwards. I also have an English minor I'm pursuing which consists of 8 courses. Now here's my question. Should I just finish my BAE and student teaching, start my career at a school, and finish up my minor while I'm a teaching? Or should I just finish up everything including my minor and THEN look for a job? I've already be...   \n",
       "\n",
       "    subreddit  score  num_comments  \n",
       "0    Teachers    672            23  \n",
       "1    Teachers    516           214  \n",
       "2    Teachers    513            44  \n",
       "3    Teachers    497            91  \n",
       "4    Teachers    486            34  \n",
       "..        ...    ...           ...  \n",
       "596  Teachers      1             0  \n",
       "597  Teachers      1             0  \n",
       "598  Teachers      1             0  \n",
       "599  Teachers      1             2  \n",
       "600  Teachers      0             3  \n",
       "\n",
       "[601 rows x 7 columns]"
      ]
     },
     "execution_count": 8,
     "metadata": {},
     "output_type": "execute_result"
    }
   ],
   "source": [
    "top_2014[['author', 'date', 'title', 'selftext', 'subreddit', 'score', 'num_comments']]\n"
   ]
  },
  {
   "cell_type": "code",
   "execution_count": 9,
   "id": "dcc78610",
   "metadata": {},
   "outputs": [],
   "source": [
    "top_2014.to_csv('top_2014.csv')"
   ]
  },
  {
   "cell_type": "markdown",
   "id": "69830c2b",
   "metadata": {},
   "source": [
    "# 2015"
   ]
  },
  {
   "cell_type": "code",
   "execution_count": null,
   "id": "0e95a979",
   "metadata": {},
   "outputs": [],
   "source": [
    "api_request_generator_2015 = api.search_submissions(subreddit='Teachers',\n",
    "                                               sort_type = 'score',\n",
    "                                               sort = 'desc',\n",
    "                                               after = '1420070400',\n",
    "                                               before = '1451520000',\n",
    "                                               metadata = True,\n",
    "                                               limit = 1000)"
   ]
  },
  {
   "cell_type": "code",
   "execution_count": null,
   "id": "dafb7c79",
   "metadata": {},
   "outputs": [],
   "source": [
    "top_2015 = pd.DataFrame([submission.d_ for submission in api_request_generator_2015])\n"
   ]
  },
  {
   "cell_type": "code",
   "execution_count": null,
   "id": "42b2adb5",
   "metadata": {},
   "outputs": [],
   "source": [
    "top_2015.shape"
   ]
  },
  {
   "cell_type": "code",
   "execution_count": null,
   "id": "72f6d66a",
   "metadata": {},
   "outputs": [],
   "source": [
    "top_2015['date'] = pd.to_datetime(top_2015['created_utc'], utc=True, unit='s')\n"
   ]
  },
  {
   "cell_type": "code",
   "execution_count": null,
   "id": "8a99e854",
   "metadata": {},
   "outputs": [],
   "source": [
    "top_2015[['author', 'date', 'title', 'selftext', 'subreddit', 'score', 'num_comments']]\n"
   ]
  },
  {
   "cell_type": "code",
   "execution_count": null,
   "id": "8d749b41",
   "metadata": {},
   "outputs": [],
   "source": [
    "top_2015.to_csv('top_2015.csv')"
   ]
  },
  {
   "cell_type": "markdown",
   "id": "e519b911",
   "metadata": {},
   "source": [
    "# 2016"
   ]
  },
  {
   "cell_type": "code",
   "execution_count": null,
   "id": "c9837944",
   "metadata": {},
   "outputs": [],
   "source": [
    "api_request_generator_2016 = api.search_submissions(subreddit='Teachers',\n",
    "                                               sort_type = 'score',\n",
    "                                               sort = 'desc',\n",
    "                                               after = '1451606400',\n",
    "                                               before = '1483142400',\n",
    "                                               metadata = True,\n",
    "                                               limit = 1000)"
   ]
  },
  {
   "cell_type": "code",
   "execution_count": null,
   "id": "d55da11d",
   "metadata": {},
   "outputs": [],
   "source": [
    "top_2016 = pd.DataFrame([submission.d_ for submission in api_request_generator_2016])\n"
   ]
  },
  {
   "cell_type": "code",
   "execution_count": null,
   "id": "08273046",
   "metadata": {},
   "outputs": [],
   "source": [
    "top_2016.shape"
   ]
  },
  {
   "cell_type": "code",
   "execution_count": null,
   "id": "283703c0",
   "metadata": {},
   "outputs": [],
   "source": [
    "top_2016['date'] = pd.to_datetime(top_2016['created_utc'], utc=True, unit='s')\n"
   ]
  },
  {
   "cell_type": "code",
   "execution_count": null,
   "id": "59a65272",
   "metadata": {},
   "outputs": [],
   "source": [
    "top_2016[['author', 'date', 'title', 'selftext', 'subreddit', 'score', 'num_comments']]\n"
   ]
  },
  {
   "cell_type": "code",
   "execution_count": null,
   "id": "a45d958f",
   "metadata": {},
   "outputs": [],
   "source": [
    "top_2016.to_csv('top_2016.csv')"
   ]
  },
  {
   "cell_type": "markdown",
   "id": "ba7b0474",
   "metadata": {},
   "source": [
    "# 2017"
   ]
  },
  {
   "cell_type": "code",
   "execution_count": null,
   "id": "910637dd",
   "metadata": {},
   "outputs": [],
   "source": []
  },
  {
   "cell_type": "code",
   "execution_count": null,
   "id": "5b9751a0",
   "metadata": {},
   "outputs": [],
   "source": [
    "api_request_generator_2017 = api.search_submissions(subreddit='Teachers',\n",
    "                                               sort_type = 'score',\n",
    "                                               sort = 'desc',\n",
    "                                               after = '1483228800',\n",
    "                                               before = '1514678400',\n",
    "                                               metadata = True,\n",
    "                                               limit = 1000)"
   ]
  },
  {
   "cell_type": "code",
   "execution_count": null,
   "id": "686fbda4",
   "metadata": {},
   "outputs": [],
   "source": [
    "top_2017 = pd.DataFrame([submission.d_ for submission in api_request_generator_2017])"
   ]
  },
  {
   "cell_type": "code",
   "execution_count": null,
   "id": "2439ec9d",
   "metadata": {},
   "outputs": [],
   "source": [
    "top_2017.shape"
   ]
  },
  {
   "cell_type": "code",
   "execution_count": null,
   "id": "b9a83893",
   "metadata": {},
   "outputs": [],
   "source": [
    "top_2017['date'] = pd.to_datetime(top_2017['created_utc'], utc=True, unit='s')\n"
   ]
  },
  {
   "cell_type": "code",
   "execution_count": null,
   "id": "10c2986f",
   "metadata": {},
   "outputs": [],
   "source": [
    "top_2017[['author', 'date', 'title', 'selftext', 'subreddit', 'score', 'num_comments']]\n"
   ]
  },
  {
   "cell_type": "code",
   "execution_count": null,
   "id": "6f56d3d1",
   "metadata": {},
   "outputs": [],
   "source": [
    "top_2017.to_csv('top_2017.csv')"
   ]
  },
  {
   "cell_type": "markdown",
   "id": "507ea134",
   "metadata": {},
   "source": [
    "# 2018"
   ]
  },
  {
   "cell_type": "code",
   "execution_count": null,
   "id": "15ec0b9a",
   "metadata": {},
   "outputs": [],
   "source": [
    "api_request_generator_2018 = api.search_submissions(subreddit='Teachers',\n",
    "                                               sort_type = 'score',\n",
    "                                               sort = 'desc',\n",
    "                                               after = '1514764800',\n",
    "                                               before = '1546214400',\n",
    "                                               metadata = True,\n",
    "                                               limit = 1000)"
   ]
  },
  {
   "cell_type": "code",
   "execution_count": null,
   "id": "73bdddfc",
   "metadata": {},
   "outputs": [],
   "source": [
    "top_2018 = pd.DataFrame([submission.d_ for submission in api_request_generator_2018])\n"
   ]
  },
  {
   "cell_type": "code",
   "execution_count": null,
   "id": "f63dd5e9",
   "metadata": {},
   "outputs": [],
   "source": [
    "top_2018.shape"
   ]
  },
  {
   "cell_type": "code",
   "execution_count": null,
   "id": "a237c6c8",
   "metadata": {},
   "outputs": [],
   "source": [
    "top_2018['date'] = pd.to_datetime(top_2018['created_utc'], utc=True, unit='s')\n"
   ]
  },
  {
   "cell_type": "code",
   "execution_count": null,
   "id": "b67f4054",
   "metadata": {},
   "outputs": [],
   "source": [
    "top_2018[['author', 'date', 'title', 'selftext', 'subreddit', 'score', 'num_comments']]\n"
   ]
  },
  {
   "cell_type": "code",
   "execution_count": null,
   "id": "f45e844e",
   "metadata": {},
   "outputs": [],
   "source": [
    "top_2018.to_csv('top_2018.csv')"
   ]
  },
  {
   "cell_type": "markdown",
   "id": "82f9446f",
   "metadata": {},
   "source": [
    "# 2019"
   ]
  },
  {
   "cell_type": "code",
   "execution_count": null,
   "id": "397ac317",
   "metadata": {},
   "outputs": [],
   "source": [
    "api_request_generator_2019 = api.search_submissions(subreddit='Teachers',\n",
    "                                               sort_type = 'score',\n",
    "                                               sort = 'desc',\n",
    "                                               after = '1546300800',\n",
    "                                               before = '1577750400',\n",
    "                                               metadata = True,\n",
    "                                               limit = 1000)"
   ]
  },
  {
   "cell_type": "code",
   "execution_count": null,
   "id": "0478dda3",
   "metadata": {},
   "outputs": [],
   "source": [
    "top_2019 = pd.DataFrame([submission.d_ for submission in api_request_generator_2019])\n"
   ]
  },
  {
   "cell_type": "code",
   "execution_count": null,
   "id": "7bdee33c",
   "metadata": {},
   "outputs": [],
   "source": [
    "top_2019.shape"
   ]
  },
  {
   "cell_type": "code",
   "execution_count": null,
   "id": "65641aae",
   "metadata": {},
   "outputs": [],
   "source": [
    "top_2019['date'] = pd.to_datetime(top_2019['created_utc'], utc=True, unit='s')\n"
   ]
  },
  {
   "cell_type": "code",
   "execution_count": null,
   "id": "e8b93b7f",
   "metadata": {},
   "outputs": [],
   "source": [
    "top_2019[['author', 'date', 'title', 'selftext', 'subreddit', 'score', 'num_comments']]\n"
   ]
  },
  {
   "cell_type": "code",
   "execution_count": null,
   "id": "3545cd0c",
   "metadata": {},
   "outputs": [],
   "source": [
    "top_2019.to_csv('top_2019.csv')"
   ]
  },
  {
   "cell_type": "markdown",
   "id": "8b083688",
   "metadata": {},
   "source": [
    "# 2020"
   ]
  },
  {
   "cell_type": "code",
   "execution_count": null,
   "id": "75ac038f",
   "metadata": {},
   "outputs": [],
   "source": [
    "api_request_generator_2020 = api.search_submissions(subreddit='Teachers',\n",
    "                                               sort_type = \"score\",\n",
    "                                               after = '1577858400',\n",
    "                                               before = '1609480800',\n",
    "                                               sort = 'desc',\n",
    "                                               metadata = True,\n",
    "                                               limit = 1000)"
   ]
  },
  {
   "cell_type": "code",
   "execution_count": null,
   "id": "60c495d0",
   "metadata": {},
   "outputs": [],
   "source": [
    "top_2020 = pd.DataFrame([submission.d_ for submission in api_request_generator_2020])\n"
   ]
  },
  {
   "cell_type": "code",
   "execution_count": null,
   "id": "43e565b0",
   "metadata": {},
   "outputs": [],
   "source": [
    "top_2020.shape"
   ]
  },
  {
   "cell_type": "code",
   "execution_count": null,
   "id": "f631fd7c",
   "metadata": {},
   "outputs": [],
   "source": [
    "top_2020['date'] = pd.to_datetime(top_2020['created_utc'], utc=True, unit='s')\n"
   ]
  },
  {
   "cell_type": "code",
   "execution_count": null,
   "id": "5c6f45a0",
   "metadata": {},
   "outputs": [],
   "source": [
    "top_2020[['author', 'date', 'title', 'selftext', 'subreddit', 'score', 'num_comments']]\n"
   ]
  },
  {
   "cell_type": "code",
   "execution_count": null,
   "id": "683f03d9",
   "metadata": {},
   "outputs": [],
   "source": [
    "top_2020.to_csv('top_2020.csv')"
   ]
  },
  {
   "cell_type": "markdown",
   "id": "d0672a33",
   "metadata": {},
   "source": [
    "# 2021"
   ]
  },
  {
   "cell_type": "code",
   "execution_count": null,
   "id": "496e5825",
   "metadata": {},
   "outputs": [],
   "source": [
    "api_request_generator_2021 = api.search_submissions(subreddit='Teachers',\n",
    "                                               sort_type = \"score\",\n",
    "                                               after = '1609480800',\n",
    "                                               before = '1641016800',\n",
    "                                               sort = 'desc',\n",
    "                                               metadata = True,\n",
    "                                               limit = 1000)"
   ]
  },
  {
   "cell_type": "code",
   "execution_count": null,
   "id": "05031984",
   "metadata": {},
   "outputs": [],
   "source": [
    "top_2021 = pd.DataFrame([submission.d_ for submission in api_request_generator_2021])\n"
   ]
  },
  {
   "cell_type": "code",
   "execution_count": null,
   "id": "5638cc13",
   "metadata": {},
   "outputs": [],
   "source": [
    "top_2021.shape"
   ]
  },
  {
   "cell_type": "code",
   "execution_count": null,
   "id": "4c54fd5b",
   "metadata": {},
   "outputs": [],
   "source": [
    "top_2021['date'] = pd.to_datetime(top_2021['created_utc'], utc=True, unit='s')\n"
   ]
  },
  {
   "cell_type": "code",
   "execution_count": null,
   "id": "c95a9617",
   "metadata": {},
   "outputs": [],
   "source": [
    "top_2021[['author', 'date', 'title', 'selftext', 'subreddit', 'score', 'num_comments']]\n"
   ]
  },
  {
   "cell_type": "code",
   "execution_count": null,
   "id": "b6af6044",
   "metadata": {},
   "outputs": [],
   "source": [
    "top_2021.to_csv('top_2021.csv')"
   ]
  },
  {
   "cell_type": "markdown",
   "id": "28fe024c",
   "metadata": {},
   "source": [
    "# 2022"
   ]
  },
  {
   "cell_type": "code",
   "execution_count": null,
   "id": "f3adda97",
   "metadata": {},
   "outputs": [],
   "source": [
    "api_request_generator_2022 = api.search_submissions(subreddit='Teachers',\n",
    "                                               sort_type = \"score\",\n",
    "                                               after = '1653008418',\n",
    "                                               sort = 'desc',\n",
    "                                               metadata = True,\n",
    "                                               limit = 1000)"
   ]
  },
  {
   "cell_type": "code",
   "execution_count": null,
   "id": "a584e0a6",
   "metadata": {},
   "outputs": [],
   "source": [
    "top_2022 = pd.DataFrame([submission.d_ for submission in api_request_generator_2022])\n"
   ]
  },
  {
   "cell_type": "code",
   "execution_count": null,
   "id": "c085b3ce",
   "metadata": {},
   "outputs": [],
   "source": [
    "top_2022.shape"
   ]
  },
  {
   "cell_type": "code",
   "execution_count": null,
   "id": "ef36a3a4",
   "metadata": {},
   "outputs": [],
   "source": [
    "top_2022['date'] = pd.to_datetime(top_2022['created_utc'], utc=True, unit='s')\n"
   ]
  },
  {
   "cell_type": "code",
   "execution_count": null,
   "id": "0aefef2a",
   "metadata": {},
   "outputs": [],
   "source": [
    "top_2022[['author', 'date', 'title', 'selftext', 'subreddit', 'score', 'num_comments']]\n"
   ]
  },
  {
   "cell_type": "code",
   "execution_count": null,
   "id": "4533c1fa",
   "metadata": {},
   "outputs": [],
   "source": [
    "top_2022.to_csv('top_2022.csv')"
   ]
  },
  {
   "cell_type": "markdown",
   "id": "e6dbd0b6",
   "metadata": {},
   "source": [
    "# All Time Top Posts"
   ]
  },
  {
   "cell_type": "code",
   "execution_count": null,
   "id": "4b8b58dd",
   "metadata": {},
   "outputs": [],
   "source": [
    "api_request_generator_all_time = api.search_submissions(subreddit='Teachers',\n",
    "                                               sort_type = \"score\",\n",
    "                                               sort = 'desc',\n",
    "                                               metadata = True,\n",
    "                                               limit = 1000)"
   ]
  },
  {
   "cell_type": "code",
   "execution_count": null,
   "id": "39d0f641",
   "metadata": {},
   "outputs": [],
   "source": [
    "all_time = pd.DataFrame([submission.d_ for submission in api_request_generator_all_time])"
   ]
  },
  {
   "cell_type": "code",
   "execution_count": null,
   "id": "f51a50a4",
   "metadata": {},
   "outputs": [],
   "source": [
    "all_time.shape"
   ]
  },
  {
   "cell_type": "code",
   "execution_count": null,
   "id": "e5d7b787",
   "metadata": {},
   "outputs": [],
   "source": [
    "all_time['date'] = pd.to_datetime(all_time['created_utc'], utc=True, unit='s')\n"
   ]
  },
  {
   "cell_type": "code",
   "execution_count": null,
   "id": "40df8d8c",
   "metadata": {},
   "outputs": [],
   "source": [
    "all_time[['author', 'date', 'title', 'selftext', 'subreddit', 'score', 'num_comments']]\n"
   ]
  },
  {
   "cell_type": "markdown",
   "id": "843ab05c",
   "metadata": {},
   "source": [
    "Now attempting the natural language processing for 2014"
   ]
  },
  {
   "cell_type": "code",
   "execution_count": 10,
   "id": "d392981a",
   "metadata": {},
   "outputs": [],
   "source": [
    "!pip install -q transformers\n",
    "\n"
   ]
  },
  {
   "cell_type": "code",
   "execution_count": 11,
   "id": "9fe9a543",
   "metadata": {},
   "outputs": [],
   "source": [
    "from transformers import pipeline"
   ]
  },
  {
   "cell_type": "code",
   "execution_count": null,
   "id": "95183cba",
   "metadata": {},
   "outputs": [],
   "source": [
    "pip install tensorflow"
   ]
  },
  {
   "cell_type": "code",
   "execution_count": null,
   "id": "347d9ab9",
   "metadata": {},
   "outputs": [],
   "source": [
    "!pip3 install torch torchvision torchaudio"
   ]
  },
  {
   "cell_type": "code",
   "execution_count": 14,
   "id": "35878754",
   "metadata": {},
   "outputs": [
    {
     "name": "stderr",
     "output_type": "stream",
     "text": [
      "No model was supplied, defaulted to distilbert-base-uncased-finetuned-sst-2-english (https://huggingface.co/distilbert-base-uncased-finetuned-sst-2-english)\n",
      "2022-06-07 18:30:11.241204: I tensorflow/core/platform/cpu_feature_guard.cc:193] This TensorFlow binary is optimized with oneAPI Deep Neural Network Library (oneDNN) to use the following CPU instructions in performance-critical operations:  AVX2 FMA\n",
      "To enable them in other operations, rebuild TensorFlow with the appropriate compiler flags.\n"
     ]
    },
    {
     "data": {
      "application/vnd.jupyter.widget-view+json": {
       "model_id": "51d8124b2e48446da475569e735d97c9",
       "version_major": 2,
       "version_minor": 0
      },
      "text/plain": [
       "Downloading:   0%|          | 0.00/255M [00:00<?, ?B/s]"
      ]
     },
     "metadata": {},
     "output_type": "display_data"
    },
    {
     "data": {
      "application/vnd.jupyter.widget-view+json": {
       "model_id": "c90538e5e24940b88502b444a119dd63",
       "version_major": 2,
       "version_minor": 0
      },
      "text/plain": [
       "Downloading:   0%|          | 0.00/48.0 [00:00<?, ?B/s]"
      ]
     },
     "metadata": {},
     "output_type": "display_data"
    },
    {
     "data": {
      "application/vnd.jupyter.widget-view+json": {
       "model_id": "acc6f38f23a84bd79e881952815e31c0",
       "version_major": 2,
       "version_minor": 0
      },
      "text/plain": [
       "Downloading:   0%|          | 0.00/226k [00:00<?, ?B/s]"
      ]
     },
     "metadata": {},
     "output_type": "display_data"
    },
    {
     "data": {
      "text/plain": [
       "[{'label': 'NEGATIVE', 'score': 0.9670122861862183}]"
      ]
     },
     "execution_count": 14,
     "metadata": {},
     "output_type": "execute_result"
    }
   ],
   "source": [
    "sentiment_pipeline = pipeline(\"sentiment-analysis\")\n",
    "data = ['This is a test']\n",
    "sentiment_pipeline(data)"
   ]
  },
  {
   "cell_type": "code",
   "execution_count": 15,
   "id": "fc0165c8",
   "metadata": {},
   "outputs": [
    {
     "name": "stderr",
     "output_type": "stream",
     "text": [
      "No model was supplied, defaulted to distilbert-base-uncased-finetuned-sst-2-english (https://huggingface.co/distilbert-base-uncased-finetuned-sst-2-english)\n"
     ]
    },
    {
     "ename": "ValueError",
     "evalue": "text input must of type `str` (single example), `List[str]` (batch or single pretokenized example) or `List[List[str]]` (batch of pretokenized examples).",
     "output_type": "error",
     "traceback": [
      "\u001b[0;31m---------------------------------------------------------------------------\u001b[0m",
      "\u001b[0;31mValueError\u001b[0m                                Traceback (most recent call last)",
      "\u001b[0;32m/var/folders/4_/948td82x7jlf4pz0c4dtqn_00000gn/T/ipykernel_29796/2560772498.py\u001b[0m in \u001b[0;36m<module>\u001b[0;34m\u001b[0m\n\u001b[1;32m      1\u001b[0m \u001b[0msentiment_pipeline\u001b[0m \u001b[0;34m=\u001b[0m \u001b[0mpipeline\u001b[0m\u001b[0;34m(\u001b[0m\u001b[0;34m\"sentiment-analysis\"\u001b[0m\u001b[0;34m)\u001b[0m\u001b[0;34m\u001b[0m\u001b[0;34m\u001b[0m\u001b[0m\n\u001b[1;32m      2\u001b[0m \u001b[0mdata\u001b[0m \u001b[0;34m=\u001b[0m \u001b[0mtop_2014\u001b[0m\u001b[0;34m[\u001b[0m\u001b[0;34m'selftext'\u001b[0m\u001b[0;34m]\u001b[0m\u001b[0;34m\u001b[0m\u001b[0;34m\u001b[0m\u001b[0m\n\u001b[0;32m----> 3\u001b[0;31m \u001b[0msentiment_pipeline\u001b[0m\u001b[0;34m(\u001b[0m\u001b[0mdata\u001b[0m\u001b[0;34m)\u001b[0m\u001b[0;34m\u001b[0m\u001b[0;34m\u001b[0m\u001b[0m\n\u001b[0m",
      "\u001b[0;32m~/opt/anaconda3/lib/python3.9/site-packages/transformers/pipelines/text_classification.py\u001b[0m in \u001b[0;36m__call__\u001b[0;34m(self, *args, **kwargs)\u001b[0m\n\u001b[1;32m    123\u001b[0m             \u001b[0mIf\u001b[0m\u001b[0;31m \u001b[0m\u001b[0;31m`\u001b[0m\u001b[0mself\u001b[0m\u001b[0;34m.\u001b[0m\u001b[0mreturn_all_scores\u001b[0m\u001b[0;34m=\u001b[0m\u001b[0;32mTrue\u001b[0m\u001b[0;31m`\u001b[0m\u001b[0;34m,\u001b[0m \u001b[0mone\u001b[0m \u001b[0msuch\u001b[0m \u001b[0mdictionary\u001b[0m \u001b[0;32mis\u001b[0m \u001b[0mreturned\u001b[0m \u001b[0mper\u001b[0m \u001b[0mlabel\u001b[0m\u001b[0;34m.\u001b[0m\u001b[0;34m\u001b[0m\u001b[0;34m\u001b[0m\u001b[0m\n\u001b[1;32m    124\u001b[0m         \"\"\"\n\u001b[0;32m--> 125\u001b[0;31m         \u001b[0mresult\u001b[0m \u001b[0;34m=\u001b[0m \u001b[0msuper\u001b[0m\u001b[0;34m(\u001b[0m\u001b[0;34m)\u001b[0m\u001b[0;34m.\u001b[0m\u001b[0m__call__\u001b[0m\u001b[0;34m(\u001b[0m\u001b[0;34m*\u001b[0m\u001b[0margs\u001b[0m\u001b[0;34m,\u001b[0m \u001b[0;34m**\u001b[0m\u001b[0mkwargs\u001b[0m\u001b[0;34m)\u001b[0m\u001b[0;34m\u001b[0m\u001b[0;34m\u001b[0m\u001b[0m\n\u001b[0m\u001b[1;32m    126\u001b[0m         \u001b[0;32mif\u001b[0m \u001b[0misinstance\u001b[0m\u001b[0;34m(\u001b[0m\u001b[0margs\u001b[0m\u001b[0;34m[\u001b[0m\u001b[0;36m0\u001b[0m\u001b[0;34m]\u001b[0m\u001b[0;34m,\u001b[0m \u001b[0mstr\u001b[0m\u001b[0;34m)\u001b[0m\u001b[0;34m:\u001b[0m\u001b[0;34m\u001b[0m\u001b[0;34m\u001b[0m\u001b[0m\n\u001b[1;32m    127\u001b[0m             \u001b[0;31m# This pipeline is odd, and return a list when single item is run\u001b[0m\u001b[0;34m\u001b[0m\u001b[0;34m\u001b[0m\u001b[0m\n",
      "\u001b[0;32m~/opt/anaconda3/lib/python3.9/site-packages/transformers/pipelines/base.py\u001b[0m in \u001b[0;36m__call__\u001b[0;34m(self, inputs, num_workers, batch_size, *args, **kwargs)\u001b[0m\n\u001b[1;32m   1024\u001b[0m             \u001b[0;32mreturn\u001b[0m \u001b[0mself\u001b[0m\u001b[0;34m.\u001b[0m\u001b[0miterate\u001b[0m\u001b[0;34m(\u001b[0m\u001b[0minputs\u001b[0m\u001b[0;34m,\u001b[0m \u001b[0mpreprocess_params\u001b[0m\u001b[0;34m,\u001b[0m \u001b[0mforward_params\u001b[0m\u001b[0;34m,\u001b[0m \u001b[0mpostprocess_params\u001b[0m\u001b[0;34m)\u001b[0m\u001b[0;34m\u001b[0m\u001b[0;34m\u001b[0m\u001b[0m\n\u001b[1;32m   1025\u001b[0m         \u001b[0;32melse\u001b[0m\u001b[0;34m:\u001b[0m\u001b[0;34m\u001b[0m\u001b[0;34m\u001b[0m\u001b[0m\n\u001b[0;32m-> 1026\u001b[0;31m             \u001b[0;32mreturn\u001b[0m \u001b[0mself\u001b[0m\u001b[0;34m.\u001b[0m\u001b[0mrun_single\u001b[0m\u001b[0;34m(\u001b[0m\u001b[0minputs\u001b[0m\u001b[0;34m,\u001b[0m \u001b[0mpreprocess_params\u001b[0m\u001b[0;34m,\u001b[0m \u001b[0mforward_params\u001b[0m\u001b[0;34m,\u001b[0m \u001b[0mpostprocess_params\u001b[0m\u001b[0;34m)\u001b[0m\u001b[0;34m\u001b[0m\u001b[0;34m\u001b[0m\u001b[0m\n\u001b[0m\u001b[1;32m   1027\u001b[0m \u001b[0;34m\u001b[0m\u001b[0m\n\u001b[1;32m   1028\u001b[0m     \u001b[0;32mdef\u001b[0m \u001b[0mrun_multi\u001b[0m\u001b[0;34m(\u001b[0m\u001b[0mself\u001b[0m\u001b[0;34m,\u001b[0m \u001b[0minputs\u001b[0m\u001b[0;34m,\u001b[0m \u001b[0mpreprocess_params\u001b[0m\u001b[0;34m,\u001b[0m \u001b[0mforward_params\u001b[0m\u001b[0;34m,\u001b[0m \u001b[0mpostprocess_params\u001b[0m\u001b[0;34m)\u001b[0m\u001b[0;34m:\u001b[0m\u001b[0;34m\u001b[0m\u001b[0;34m\u001b[0m\u001b[0m\n",
      "\u001b[0;32m~/opt/anaconda3/lib/python3.9/site-packages/transformers/pipelines/base.py\u001b[0m in \u001b[0;36mrun_single\u001b[0;34m(self, inputs, preprocess_params, forward_params, postprocess_params)\u001b[0m\n\u001b[1;32m   1030\u001b[0m \u001b[0;34m\u001b[0m\u001b[0m\n\u001b[1;32m   1031\u001b[0m     \u001b[0;32mdef\u001b[0m \u001b[0mrun_single\u001b[0m\u001b[0;34m(\u001b[0m\u001b[0mself\u001b[0m\u001b[0;34m,\u001b[0m \u001b[0minputs\u001b[0m\u001b[0;34m,\u001b[0m \u001b[0mpreprocess_params\u001b[0m\u001b[0;34m,\u001b[0m \u001b[0mforward_params\u001b[0m\u001b[0;34m,\u001b[0m \u001b[0mpostprocess_params\u001b[0m\u001b[0;34m)\u001b[0m\u001b[0;34m:\u001b[0m\u001b[0;34m\u001b[0m\u001b[0;34m\u001b[0m\u001b[0m\n\u001b[0;32m-> 1032\u001b[0;31m         \u001b[0mmodel_inputs\u001b[0m \u001b[0;34m=\u001b[0m \u001b[0mself\u001b[0m\u001b[0;34m.\u001b[0m\u001b[0mpreprocess\u001b[0m\u001b[0;34m(\u001b[0m\u001b[0minputs\u001b[0m\u001b[0;34m,\u001b[0m \u001b[0;34m**\u001b[0m\u001b[0mpreprocess_params\u001b[0m\u001b[0;34m)\u001b[0m\u001b[0;34m\u001b[0m\u001b[0;34m\u001b[0m\u001b[0m\n\u001b[0m\u001b[1;32m   1033\u001b[0m         \u001b[0mmodel_outputs\u001b[0m \u001b[0;34m=\u001b[0m \u001b[0mself\u001b[0m\u001b[0;34m.\u001b[0m\u001b[0mforward\u001b[0m\u001b[0;34m(\u001b[0m\u001b[0mmodel_inputs\u001b[0m\u001b[0;34m,\u001b[0m \u001b[0;34m**\u001b[0m\u001b[0mforward_params\u001b[0m\u001b[0;34m)\u001b[0m\u001b[0;34m\u001b[0m\u001b[0;34m\u001b[0m\u001b[0m\n\u001b[1;32m   1034\u001b[0m         \u001b[0moutputs\u001b[0m \u001b[0;34m=\u001b[0m \u001b[0mself\u001b[0m\u001b[0;34m.\u001b[0m\u001b[0mpostprocess\u001b[0m\u001b[0;34m(\u001b[0m\u001b[0mmodel_outputs\u001b[0m\u001b[0;34m,\u001b[0m \u001b[0;34m**\u001b[0m\u001b[0mpostprocess_params\u001b[0m\u001b[0;34m)\u001b[0m\u001b[0;34m\u001b[0m\u001b[0;34m\u001b[0m\u001b[0m\n",
      "\u001b[0;32m~/opt/anaconda3/lib/python3.9/site-packages/transformers/pipelines/text_classification.py\u001b[0m in \u001b[0;36mpreprocess\u001b[0;34m(self, inputs, **tokenizer_kwargs)\u001b[0m\n\u001b[1;32m    132\u001b[0m     \u001b[0;32mdef\u001b[0m \u001b[0mpreprocess\u001b[0m\u001b[0;34m(\u001b[0m\u001b[0mself\u001b[0m\u001b[0;34m,\u001b[0m \u001b[0minputs\u001b[0m\u001b[0;34m,\u001b[0m \u001b[0;34m**\u001b[0m\u001b[0mtokenizer_kwargs\u001b[0m\u001b[0;34m)\u001b[0m \u001b[0;34m->\u001b[0m \u001b[0mDict\u001b[0m\u001b[0;34m[\u001b[0m\u001b[0mstr\u001b[0m\u001b[0;34m,\u001b[0m \u001b[0mGenericTensor\u001b[0m\u001b[0;34m]\u001b[0m\u001b[0;34m:\u001b[0m\u001b[0;34m\u001b[0m\u001b[0;34m\u001b[0m\u001b[0m\n\u001b[1;32m    133\u001b[0m         \u001b[0mreturn_tensors\u001b[0m \u001b[0;34m=\u001b[0m \u001b[0mself\u001b[0m\u001b[0;34m.\u001b[0m\u001b[0mframework\u001b[0m\u001b[0;34m\u001b[0m\u001b[0;34m\u001b[0m\u001b[0m\n\u001b[0;32m--> 134\u001b[0;31m         \u001b[0;32mreturn\u001b[0m \u001b[0mself\u001b[0m\u001b[0;34m.\u001b[0m\u001b[0mtokenizer\u001b[0m\u001b[0;34m(\u001b[0m\u001b[0minputs\u001b[0m\u001b[0;34m,\u001b[0m \u001b[0mreturn_tensors\u001b[0m\u001b[0;34m=\u001b[0m\u001b[0mreturn_tensors\u001b[0m\u001b[0;34m,\u001b[0m \u001b[0;34m**\u001b[0m\u001b[0mtokenizer_kwargs\u001b[0m\u001b[0;34m)\u001b[0m\u001b[0;34m\u001b[0m\u001b[0;34m\u001b[0m\u001b[0m\n\u001b[0m\u001b[1;32m    135\u001b[0m \u001b[0;34m\u001b[0m\u001b[0m\n\u001b[1;32m    136\u001b[0m     \u001b[0;32mdef\u001b[0m \u001b[0m_forward\u001b[0m\u001b[0;34m(\u001b[0m\u001b[0mself\u001b[0m\u001b[0;34m,\u001b[0m \u001b[0mmodel_inputs\u001b[0m\u001b[0;34m)\u001b[0m\u001b[0;34m:\u001b[0m\u001b[0;34m\u001b[0m\u001b[0;34m\u001b[0m\u001b[0m\n",
      "\u001b[0;32m~/opt/anaconda3/lib/python3.9/site-packages/transformers/tokenization_utils_base.py\u001b[0m in \u001b[0;36m__call__\u001b[0;34m(self, text, text_pair, add_special_tokens, padding, truncation, max_length, stride, is_split_into_words, pad_to_multiple_of, return_tensors, return_token_type_ids, return_attention_mask, return_overflowing_tokens, return_special_tokens_mask, return_offsets_mapping, return_length, verbose, **kwargs)\u001b[0m\n\u001b[1;32m   2449\u001b[0m \u001b[0;34m\u001b[0m\u001b[0m\n\u001b[1;32m   2450\u001b[0m         \u001b[0;32mif\u001b[0m \u001b[0;32mnot\u001b[0m \u001b[0m_is_valid_text_input\u001b[0m\u001b[0;34m(\u001b[0m\u001b[0mtext\u001b[0m\u001b[0;34m)\u001b[0m\u001b[0;34m:\u001b[0m\u001b[0;34m\u001b[0m\u001b[0;34m\u001b[0m\u001b[0m\n\u001b[0;32m-> 2451\u001b[0;31m             raise ValueError(\n\u001b[0m\u001b[1;32m   2452\u001b[0m                 \u001b[0;34m\"text input must of type `str` (single example), `List[str]` (batch or single pretokenized example) \"\u001b[0m\u001b[0;34m\u001b[0m\u001b[0;34m\u001b[0m\u001b[0m\n\u001b[1;32m   2453\u001b[0m                 \u001b[0;34m\"or `List[List[str]]` (batch of pretokenized examples).\"\u001b[0m\u001b[0;34m\u001b[0m\u001b[0;34m\u001b[0m\u001b[0m\n",
      "\u001b[0;31mValueError\u001b[0m: text input must of type `str` (single example), `List[str]` (batch or single pretokenized example) or `List[List[str]]` (batch of pretokenized examples)."
     ]
    }
   ],
   "source": [
    "sentiment_pipeline = pipeline(\"sentiment-analysis\")\n",
    "data = top_2014['selftext']\n",
    "sentiment_pipeline(data)"
   ]
  },
  {
   "cell_type": "code",
   "execution_count": null,
   "id": "47fdb21a",
   "metadata": {},
   "outputs": [],
   "source": []
  }
 ],
 "metadata": {
  "kernelspec": {
   "display_name": "Python 3 (ipykernel)",
   "language": "python",
   "name": "python3"
  },
  "language_info": {
   "codemirror_mode": {
    "name": "ipython",
    "version": 3
   },
   "file_extension": ".py",
   "mimetype": "text/x-python",
   "name": "python",
   "nbconvert_exporter": "python",
   "pygments_lexer": "ipython3",
   "version": "3.9.7"
  }
 },
 "nbformat": 4,
 "nbformat_minor": 5
}
