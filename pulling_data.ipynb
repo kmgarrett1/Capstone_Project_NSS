{
 "cells": [
  {
   "cell_type": "markdown",
   "id": "f8f6c743",
   "metadata": {},
   "source": [
    "Reference: https://melaniewalsh.github.io/Intro-Cultural-Analytics/04-Data-Collection/14-Reddit-Data.html"
   ]
  },
  {
   "cell_type": "code",
   "execution_count": null,
   "id": "a5317440",
   "metadata": {},
   "outputs": [],
   "source": [
    "!pip install psaw"
   ]
  },
  {
   "cell_type": "code",
   "execution_count": null,
   "id": "40a54ac9",
   "metadata": {},
   "outputs": [],
   "source": [
    "import pandas as pd\n",
    "pd.set_option('max_colwidth', 500)\n",
    "pd.set_option('max_columns', 50)"
   ]
  },
  {
   "cell_type": "code",
   "execution_count": null,
   "id": "55d2534f",
   "metadata": {},
   "outputs": [],
   "source": [
    "from psaw import PushshiftAPI\n",
    "\n",
    "# Initialize PushShift\n",
    "api = PushshiftAPI()"
   ]
  },
  {
   "cell_type": "markdown",
   "id": "a1cb6523",
   "metadata": {},
   "source": [
    "# 2008"
   ]
  },
  {
   "cell_type": "code",
   "execution_count": null,
   "id": "04c3d660",
   "metadata": {},
   "outputs": [],
   "source": [
    "api_request_generator_2008 = api.search_submissions(subreddit='Teachers',\n",
    "                                               sort_type = \"score\",\n",
    "                                               after = '1199145600',\n",
    "                                               before = '1230681600',\n",
    "                                               sort = 'desc',\n",
    "                                               limit = 1000)"
   ]
  },
  {
   "cell_type": "code",
   "execution_count": null,
   "id": "180c99b0",
   "metadata": {},
   "outputs": [],
   "source": [
    "top_2008 = pd.DataFrame([submission.d_ for submission in api_request_generator_2008])\n"
   ]
  },
  {
   "cell_type": "code",
   "execution_count": null,
   "id": "43717f2b",
   "metadata": {},
   "outputs": [],
   "source": [
    "top_2008.shape"
   ]
  },
  {
   "cell_type": "code",
   "execution_count": null,
   "id": "3ebc5203",
   "metadata": {},
   "outputs": [],
   "source": [
    "top_2008.columns"
   ]
  },
  {
   "cell_type": "code",
   "execution_count": null,
   "id": "fefe2afd",
   "metadata": {},
   "outputs": [],
   "source": [
    "top_2008['date'] = pd.to_datetime(top_2008['created_utc'], utc=True, unit='s')\n",
    "\n"
   ]
  },
  {
   "cell_type": "code",
   "execution_count": null,
   "id": "64240879",
   "metadata": {},
   "outputs": [],
   "source": [
    "top_2008[['author', 'date', 'title', 'selftext', 'subreddit', 'score', 'num_comments']]\n"
   ]
  },
  {
   "cell_type": "markdown",
   "id": "234cc06a",
   "metadata": {},
   "source": [
    "# 2009"
   ]
  },
  {
   "cell_type": "code",
   "execution_count": null,
   "id": "38abae4e",
   "metadata": {},
   "outputs": [],
   "source": [
    "api_request_generator_2009 = api.search_submissions(subreddit='Teachers',\n",
    "                                               sort_type = \"score\",\n",
    "                                               after = '1230768000',\n",
    "                                               before = '1262217600',\n",
    "                                               sort = 'desc',\n",
    "                                               limit = 1000)"
   ]
  },
  {
   "cell_type": "code",
   "execution_count": null,
   "id": "76816e93",
   "metadata": {},
   "outputs": [],
   "source": [
    "top_2009 = pd.DataFrame([submission.d_ for submission in api_request_generator_2009])\n"
   ]
  },
  {
   "cell_type": "code",
   "execution_count": null,
   "id": "3cf36d64",
   "metadata": {},
   "outputs": [],
   "source": [
    "top_2009.shape"
   ]
  },
  {
   "cell_type": "code",
   "execution_count": null,
   "id": "b95e882e",
   "metadata": {},
   "outputs": [],
   "source": [
    "top_2009['date'] = pd.to_datetime(top_2009['created_utc'], utc=True, unit='s')\n"
   ]
  },
  {
   "cell_type": "code",
   "execution_count": null,
   "id": "c75552f8",
   "metadata": {},
   "outputs": [],
   "source": [
    "top_2009[['author', 'date', 'title', 'selftext', 'subreddit', 'score', 'num_comments']]\n"
   ]
  },
  {
   "cell_type": "markdown",
   "id": "36760fc3",
   "metadata": {},
   "source": [
    "# 2010"
   ]
  },
  {
   "cell_type": "code",
   "execution_count": null,
   "id": "e1874f8b",
   "metadata": {},
   "outputs": [],
   "source": [
    "api_request_generator_2010 = api.search_submissions(subreddit='Teachers',\n",
    "                                               sort_type = 'score',\n",
    "                                               sort = 'desc',\n",
    "                                               after = '1262304000',\n",
    "                                               before = '1293753600',\n",
    "                                               limit = 1000)"
   ]
  },
  {
   "cell_type": "code",
   "execution_count": null,
   "id": "1ff8e391",
   "metadata": {},
   "outputs": [],
   "source": [
    "top_2010 = pd.DataFrame([submission.d_ for submission in api_request_generator_2010])\n"
   ]
  },
  {
   "cell_type": "code",
   "execution_count": null,
   "id": "30f141d2",
   "metadata": {},
   "outputs": [],
   "source": [
    "top_2010.shape"
   ]
  },
  {
   "cell_type": "code",
   "execution_count": null,
   "id": "352b1a49",
   "metadata": {},
   "outputs": [],
   "source": [
    "top_2010['date'] = pd.to_datetime(top_2010['created_utc'], utc=True, unit='s')\n"
   ]
  },
  {
   "cell_type": "code",
   "execution_count": null,
   "id": "3ee480d5",
   "metadata": {},
   "outputs": [],
   "source": [
    "top_2010[['author', 'date', 'title', 'selftext', 'subreddit', 'score', 'num_comments']]\n"
   ]
  },
  {
   "cell_type": "markdown",
   "id": "62a36510",
   "metadata": {},
   "source": [
    "# 2011"
   ]
  },
  {
   "cell_type": "code",
   "execution_count": null,
   "id": "1457d7e1",
   "metadata": {},
   "outputs": [],
   "source": [
    "api_request_generator_2011 = api.search_submissions(subreddit='Teachers',\n",
    "                                               sort_type = 'score',\n",
    "                                               sort = 'desc',\n",
    "                                               after = '1293840000',\n",
    "                                               before = '1325289600',\n",
    "                                               limit = 1000)"
   ]
  },
  {
   "cell_type": "code",
   "execution_count": null,
   "id": "e1bc6a84",
   "metadata": {},
   "outputs": [],
   "source": [
    "top_2011 = pd.DataFrame([submission.d_ for submission in api_request_generator_2011])\n"
   ]
  },
  {
   "cell_type": "code",
   "execution_count": null,
   "id": "aa578dab",
   "metadata": {},
   "outputs": [],
   "source": [
    "top_2011.shape"
   ]
  },
  {
   "cell_type": "code",
   "execution_count": null,
   "id": "a1d57c0d",
   "metadata": {},
   "outputs": [],
   "source": [
    "top_2011['date'] = pd.to_datetime(top_2011['created_utc'], utc=True, unit='s')\n"
   ]
  },
  {
   "cell_type": "code",
   "execution_count": null,
   "id": "56d0c97d",
   "metadata": {},
   "outputs": [],
   "source": [
    "top_2011[['author', 'date', 'title', 'selftext', 'subreddit', 'score', 'num_comments']]\n"
   ]
  },
  {
   "cell_type": "markdown",
   "id": "0ca7f6b7",
   "metadata": {},
   "source": [
    "# 2012"
   ]
  },
  {
   "cell_type": "code",
   "execution_count": null,
   "id": "69a6aecc",
   "metadata": {},
   "outputs": [],
   "source": [
    "api_request_generator_2012 = api.search_submissions(subreddit='Teachers',\n",
    "                                               sort_type = 'score',\n",
    "                                               sort = 'desc',\n",
    "                                               after = '1325376000',\n",
    "                                               before = '1356912000',\n",
    "                                               limit = 1000)"
   ]
  },
  {
   "cell_type": "code",
   "execution_count": null,
   "id": "35be2fd2",
   "metadata": {},
   "outputs": [],
   "source": [
    "top_2012 = pd.DataFrame([submission.d_ for submission in api_request_generator_2012])\n"
   ]
  },
  {
   "cell_type": "code",
   "execution_count": null,
   "id": "ea3ddaff",
   "metadata": {},
   "outputs": [],
   "source": [
    "top_2012.shape"
   ]
  },
  {
   "cell_type": "code",
   "execution_count": null,
   "id": "de443968",
   "metadata": {},
   "outputs": [],
   "source": [
    "top_2012['date'] = pd.to_datetime(top_2012['created_utc'], utc=True, unit='s')\n"
   ]
  },
  {
   "cell_type": "code",
   "execution_count": null,
   "id": "02d7cfb2",
   "metadata": {},
   "outputs": [],
   "source": [
    "top_2012[['author', 'date', 'title', 'selftext', 'subreddit', 'score', 'num_comments']]\n"
   ]
  },
  {
   "cell_type": "markdown",
   "id": "42bfd2c0",
   "metadata": {},
   "source": [
    "# 2013"
   ]
  },
  {
   "cell_type": "code",
   "execution_count": null,
   "id": "1c4f6c00",
   "metadata": {},
   "outputs": [],
   "source": [
    "api_request_generator_2013 = api.search_submissions(subreddit='Teachers',\n",
    "                                               sort_type = 'score',\n",
    "                                               sort = 'desc',\n",
    "                                               after = '1356998400',\n",
    "                                               before = '1388448000',\n",
    "                                               limit = 1000)"
   ]
  },
  {
   "cell_type": "code",
   "execution_count": null,
   "id": "c4eab537",
   "metadata": {},
   "outputs": [],
   "source": [
    "top_2013 = pd.DataFrame([submission.d_ for submission in api_request_generator_2013])\n"
   ]
  },
  {
   "cell_type": "code",
   "execution_count": null,
   "id": "b6220cb4",
   "metadata": {},
   "outputs": [],
   "source": [
    "top_2013.shape"
   ]
  },
  {
   "cell_type": "code",
   "execution_count": null,
   "id": "053adb83",
   "metadata": {},
   "outputs": [],
   "source": [
    "top_2013['date'] = pd.to_datetime(top_2013['created_utc'], utc=True, unit='s')\n"
   ]
  },
  {
   "cell_type": "code",
   "execution_count": null,
   "id": "339c2922",
   "metadata": {},
   "outputs": [],
   "source": [
    "top_2013[['author', 'date', 'title', 'selftext', 'subreddit', 'score', 'num_comments']]\n"
   ]
  },
  {
   "cell_type": "markdown",
   "id": "972b97df",
   "metadata": {},
   "source": [
    "# 2014"
   ]
  },
  {
   "cell_type": "code",
   "execution_count": null,
   "id": "54471fdd",
   "metadata": {},
   "outputs": [],
   "source": [
    "api_request_generator_2014 = api.search_submissions(subreddit='Teachers',\n",
    "                                               sort_type = 'score',\n",
    "                                               sort = 'desc',\n",
    "                                               after = '1388534400',\n",
    "                                               before = '1419984000',\n",
    "                                               limit = 1000)"
   ]
  },
  {
   "cell_type": "code",
   "execution_count": null,
   "id": "8d01a1ad",
   "metadata": {},
   "outputs": [],
   "source": [
    "top_2014 = pd.DataFrame([submission.d_ for submission in api_request_generator_2014])\n"
   ]
  },
  {
   "cell_type": "code",
   "execution_count": null,
   "id": "92144e6b",
   "metadata": {},
   "outputs": [],
   "source": [
    "top_2014.shape"
   ]
  },
  {
   "cell_type": "code",
   "execution_count": null,
   "id": "d649da7c",
   "metadata": {},
   "outputs": [],
   "source": [
    "top_2014['date'] = pd.to_datetime(top_2014['created_utc'], utc=True, unit='s')\n"
   ]
  },
  {
   "cell_type": "code",
   "execution_count": null,
   "id": "731bd0f0",
   "metadata": {},
   "outputs": [],
   "source": [
    "top_2014[['author', 'date', 'title', 'selftext', 'subreddit', 'score', 'num_comments']]\n"
   ]
  },
  {
   "cell_type": "markdown",
   "id": "991e0bf9",
   "metadata": {},
   "source": [
    "# 2015"
   ]
  },
  {
   "cell_type": "code",
   "execution_count": null,
   "id": "dd2a64f2",
   "metadata": {},
   "outputs": [],
   "source": [
    "api_request_generator_2015 = api.search_submissions(subreddit='Teachers',\n",
    "                                               sort_type = 'score',\n",
    "                                               sort = 'desc',\n",
    "                                               after = '1420070400',\n",
    "                                               before = '1451520000',\n",
    "                                               limit = 1000)"
   ]
  },
  {
   "cell_type": "code",
   "execution_count": null,
   "id": "1aa4f46a",
   "metadata": {},
   "outputs": [],
   "source": [
    "top_2015 = pd.DataFrame([submission.d_ for submission in api_request_generator_2015])\n"
   ]
  },
  {
   "cell_type": "code",
   "execution_count": null,
   "id": "b953e22f",
   "metadata": {},
   "outputs": [],
   "source": [
    "top_2015.shape"
   ]
  },
  {
   "cell_type": "code",
   "execution_count": null,
   "id": "e3ec717b",
   "metadata": {},
   "outputs": [],
   "source": [
    "top_2015['date'] = pd.to_datetime(top_2015['created_utc'], utc=True, unit='s')\n"
   ]
  },
  {
   "cell_type": "code",
   "execution_count": null,
   "id": "be3ab1a7",
   "metadata": {},
   "outputs": [],
   "source": [
    "top_2015[['author', 'date', 'title', 'selftext', 'subreddit', 'score', 'num_comments']]\n"
   ]
  },
  {
   "cell_type": "markdown",
   "id": "0109261b",
   "metadata": {},
   "source": [
    "# 2016"
   ]
  },
  {
   "cell_type": "code",
   "execution_count": null,
   "id": "98cae275",
   "metadata": {},
   "outputs": [],
   "source": [
    "api_request_generator_2016 = api.search_submissions(subreddit='Teachers',\n",
    "                                               sort_type = 'score',\n",
    "                                               sort = 'desc',\n",
    "                                               after = '1451606400',\n",
    "                                               before = '1483142400',\n",
    "                                               limit = 1000)"
   ]
  },
  {
   "cell_type": "code",
   "execution_count": null,
   "id": "5004241d",
   "metadata": {},
   "outputs": [],
   "source": [
    "top_2016 = pd.DataFrame([submission.d_ for submission in api_request_generator_2016])\n"
   ]
  },
  {
   "cell_type": "code",
   "execution_count": null,
   "id": "c6a8f407",
   "metadata": {},
   "outputs": [],
   "source": [
    "top_2016.shape"
   ]
  },
  {
   "cell_type": "code",
   "execution_count": null,
   "id": "46ad6ded",
   "metadata": {},
   "outputs": [],
   "source": [
    "top_2016['date'] = pd.to_datetime(top_2016['created_utc'], utc=True, unit='s')\n"
   ]
  },
  {
   "cell_type": "code",
   "execution_count": null,
   "id": "a36c743f",
   "metadata": {},
   "outputs": [],
   "source": [
    "top_2016[['author', 'date', 'title', 'selftext', 'subreddit', 'score', 'num_comments']]\n"
   ]
  },
  {
   "cell_type": "markdown",
   "id": "af5071f0",
   "metadata": {},
   "source": [
    "# 2017"
   ]
  },
  {
   "cell_type": "code",
   "execution_count": null,
   "id": "7812ce3a",
   "metadata": {},
   "outputs": [],
   "source": [
    "api_request_generator_2017 = api.search_submissions(subreddit='Teachers',\n",
    "                                               sort_type = 'score',\n",
    "                                               sort = 'desc',\n",
    "                                               after = '1483228800',\n",
    "                                               before = '1514678400',\n",
    "                                               limit = 1000)"
   ]
  },
  {
   "cell_type": "code",
   "execution_count": null,
   "id": "e8023f02",
   "metadata": {},
   "outputs": [],
   "source": [
    "top_2017 = pd.DataFrame([submission.d_ for submission in api_request_generator_2017])"
   ]
  },
  {
   "cell_type": "code",
   "execution_count": null,
   "id": "b4f7664a",
   "metadata": {},
   "outputs": [],
   "source": [
    "top_2017.shape"
   ]
  },
  {
   "cell_type": "code",
   "execution_count": null,
   "id": "b78765ca",
   "metadata": {},
   "outputs": [],
   "source": [
    "top_2017['date'] = pd.to_datetime(top_2017['created_utc'], utc=True, unit='s')\n"
   ]
  },
  {
   "cell_type": "code",
   "execution_count": null,
   "id": "3268e8fd",
   "metadata": {},
   "outputs": [],
   "source": [
    "top_2017[['author', 'date', 'title', 'selftext', 'subreddit', 'score', 'num_comments']]\n"
   ]
  },
  {
   "cell_type": "markdown",
   "id": "d8702b02",
   "metadata": {},
   "source": [
    "# 2018"
   ]
  },
  {
   "cell_type": "code",
   "execution_count": null,
   "id": "902f377f",
   "metadata": {},
   "outputs": [],
   "source": [
    "api_request_generator_2018 = api.search_submissions(subreddit='Teachers',\n",
    "                                               sort_type = 'score',\n",
    "                                               sort = 'desc',\n",
    "                                               after = '1514764800',\n",
    "                                               before = '1546214400',\n",
    "                                               limit = 1000)"
   ]
  },
  {
   "cell_type": "code",
   "execution_count": null,
   "id": "8518e418",
   "metadata": {},
   "outputs": [],
   "source": [
    "top_2018 = pd.DataFrame([submission.d_ for submission in api_request_generator_2018])\n"
   ]
  },
  {
   "cell_type": "code",
   "execution_count": null,
   "id": "66c41263",
   "metadata": {},
   "outputs": [],
   "source": [
    "top_2018.shape"
   ]
  },
  {
   "cell_type": "code",
   "execution_count": null,
   "id": "2978a74b",
   "metadata": {},
   "outputs": [],
   "source": [
    "top_2018['date'] = pd.to_datetime(top_2018['created_utc'], utc=True, unit='s')\n"
   ]
  },
  {
   "cell_type": "code",
   "execution_count": null,
   "id": "1fb5d5b6",
   "metadata": {},
   "outputs": [],
   "source": [
    "top_2018[['author', 'date', 'title', 'selftext', 'subreddit', 'score', 'num_comments']]\n"
   ]
  },
  {
   "cell_type": "markdown",
   "id": "48eeb8c8",
   "metadata": {},
   "source": [
    "# 2019"
   ]
  },
  {
   "cell_type": "code",
   "execution_count": null,
   "id": "71bba1d9",
   "metadata": {},
   "outputs": [],
   "source": [
    "api_request_generator_2019 = api.search_submissions(subreddit='Teachers',\n",
    "                                               sort_type = 'score',\n",
    "                                               sort = 'desc',\n",
    "                                               after = '1546300800',\n",
    "                                               before = '1577750400',\n",
    "                                               limit = 1000)"
   ]
  },
  {
   "cell_type": "code",
   "execution_count": null,
   "id": "71856a0e",
   "metadata": {},
   "outputs": [],
   "source": [
    "top_2019 = pd.DataFrame([submission.d_ for submission in api_request_generator_2019])\n"
   ]
  },
  {
   "cell_type": "code",
   "execution_count": null,
   "id": "7410d7b1",
   "metadata": {},
   "outputs": [],
   "source": [
    "top_2019.shape"
   ]
  },
  {
   "cell_type": "code",
   "execution_count": null,
   "id": "b72f6e36",
   "metadata": {},
   "outputs": [],
   "source": [
    "top_2019['date'] = pd.to_datetime(top_2019['created_utc'], utc=True, unit='s')\n"
   ]
  },
  {
   "cell_type": "code",
   "execution_count": null,
   "id": "ccc372cd",
   "metadata": {},
   "outputs": [],
   "source": [
    "top_2019[['author', 'date', 'title', 'selftext', 'subreddit', 'score', 'num_comments']]\n"
   ]
  },
  {
   "cell_type": "markdown",
   "id": "c554a41e",
   "metadata": {},
   "source": [
    "# 2020"
   ]
  },
  {
   "cell_type": "code",
   "execution_count": null,
   "id": "b1221081",
   "metadata": {},
   "outputs": [],
   "source": [
    "api_request_generator_2020 = api.search_submissions(subreddit='Teachers',\n",
    "                                               sort_type = \"score\",\n",
    "                                               after = '1577836800',\n",
    "                                               before = '1609372800',\n",
    "                                               sort = 'desc',\n",
    "                                               limit = 1000)"
   ]
  },
  {
   "cell_type": "code",
   "execution_count": null,
   "id": "82d0ece7",
   "metadata": {},
   "outputs": [],
   "source": [
    "top_2020 = pd.DataFrame([submission.d_ for submission in api_request_generator_2020])\n"
   ]
  },
  {
   "cell_type": "code",
   "execution_count": null,
   "id": "74cdf13c",
   "metadata": {},
   "outputs": [],
   "source": [
    "top_2020.shape"
   ]
  },
  {
   "cell_type": "code",
   "execution_count": null,
   "id": "1374aba9",
   "metadata": {},
   "outputs": [],
   "source": [
    "top_2020['date'] = pd.to_datetime(top_2020['created_utc'], utc=True, unit='s')\n"
   ]
  },
  {
   "cell_type": "code",
   "execution_count": null,
   "id": "c69cae72",
   "metadata": {},
   "outputs": [],
   "source": [
    "top_2020[['author', 'date', 'title', 'selftext', 'subreddit', 'score', 'num_comments']]\n"
   ]
  },
  {
   "cell_type": "markdown",
   "id": "3ad1ef3a",
   "metadata": {},
   "source": [
    "# 2021"
   ]
  },
  {
   "cell_type": "code",
   "execution_count": null,
   "id": "b91d2866",
   "metadata": {},
   "outputs": [],
   "source": [
    "api_request_generator_2021 = api.search_submissions(subreddit='Teachers',\n",
    "                                               sort_type = \"score\",\n",
    "                                               after = '1609480800',\n",
    "                                               before = '1653008418',\n",
    "                                               sort = 'desc',\n",
    "                                               limit = 1000)"
   ]
  },
  {
   "cell_type": "code",
   "execution_count": null,
   "id": "c01660a0",
   "metadata": {},
   "outputs": [],
   "source": [
    "top_2021 = pd.DataFrame([submission.d_ for submission in api_request_generator_2021])\n"
   ]
  },
  {
   "cell_type": "code",
   "execution_count": null,
   "id": "7fb2f8c9",
   "metadata": {},
   "outputs": [],
   "source": [
    "top_2021.shape"
   ]
  },
  {
   "cell_type": "code",
   "execution_count": null,
   "id": "6cf22b2a",
   "metadata": {},
   "outputs": [],
   "source": [
    "top_2021['date'] = pd.to_datetime(top_2021['created_utc'], utc=True, unit='s')\n"
   ]
  },
  {
   "cell_type": "code",
   "execution_count": null,
   "id": "addd34c0",
   "metadata": {},
   "outputs": [],
   "source": [
    "top_2021[['author', 'date', 'title', 'selftext', 'subreddit', 'score', 'num_comments']]\n"
   ]
  },
  {
   "cell_type": "markdown",
   "id": "a73a549c",
   "metadata": {},
   "source": [
    "# 2022"
   ]
  },
  {
   "cell_type": "code",
   "execution_count": null,
   "id": "9058dc5e",
   "metadata": {},
   "outputs": [],
   "source": [
    "api_request_generator_2022 = api.search_submissions(subreddit='Teachers',\n",
    "                                               sort_type = \"score\",\n",
    "                                               after = '1653008418',\n",
    "                                               sort = 'desc',\n",
    "                                               limit = 1000)"
   ]
  },
  {
   "cell_type": "code",
   "execution_count": null,
   "id": "29e3ed9d",
   "metadata": {},
   "outputs": [],
   "source": [
    "top_2022 = pd.DataFrame([submission.d_ for submission in api_request_generator_2022])\n"
   ]
  },
  {
   "cell_type": "code",
   "execution_count": null,
   "id": "c53c9475",
   "metadata": {},
   "outputs": [],
   "source": [
    "top_2022.shape"
   ]
  },
  {
   "cell_type": "code",
   "execution_count": null,
   "id": "09a9e8c1",
   "metadata": {},
   "outputs": [],
   "source": [
    "top_2022['date'] = pd.to_datetime(top_2022['created_utc'], utc=True, unit='s')\n"
   ]
  },
  {
   "cell_type": "code",
   "execution_count": null,
   "id": "eaddbb4d",
   "metadata": {},
   "outputs": [],
   "source": [
    "top_2022[['author', 'date', 'title', 'selftext', 'subreddit', 'score', 'num_comments']]\n"
   ]
  }
 ],
 "metadata": {
  "kernelspec": {
   "display_name": "Python 3 (ipykernel)",
   "language": "python",
   "name": "python3"
  },
  "language_info": {
   "codemirror_mode": {
    "name": "ipython",
    "version": 3
   },
   "file_extension": ".py",
   "mimetype": "text/x-python",
   "name": "python",
   "nbconvert_exporter": "python",
   "pygments_lexer": "ipython3",
   "version": "3.9.7"
  }
 },
 "nbformat": 4,
 "nbformat_minor": 5
}
